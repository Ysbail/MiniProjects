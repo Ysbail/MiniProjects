{
 "cells": [
  {
   "cell_type": "code",
   "execution_count": 109,
   "metadata": {},
   "outputs": [],
   "source": [
    "import pandas as pd\n",
    "import numpy as np\n",
    "import json"
   ]
  },
  {
   "cell_type": "markdown",
   "metadata": {},
   "source": [
    "This mini-projects is using Hacker News content. Unlike the previous ones, I use the json format here."
   ]
  },
  {
   "cell_type": "markdown",
   "metadata": {},
   "source": [
    "The columns are:\n",
    "- author: The username of the person who submitted the story.\n",
    "- createdAt: The date and time at which the story was created.\n",
    "- createdAtI: An integer value representing the date and time at which the story was created.\n",
    "- numComments: The number of comments that were made on the story.\n",
    "- objectId: The unique identifier from Hacker News for the story.\n",
    "- points: The number of points the story acquired, calculated as the total number of upvotes minus the total number of downvotes.\n",
    "- storyText: The text of the story (if the story contains text).\n",
    "- tags: A list of tags associated with the story.\n",
    "- title: The title of the story.\n",
    "- url: The URL that the story links to (if the story links to a URL)."
   ]
  },
  {
   "cell_type": "code",
   "execution_count": 110,
   "metadata": {},
   "outputs": [],
   "source": [
    "file = open('hn_2014.json')\n",
    "hn = json.load(file)"
   ]
  },
  {
   "cell_type": "code",
   "execution_count": 111,
   "metadata": {},
   "outputs": [
    {
     "data": {
      "text/plain": [
       "[{'author': 'dragongraphics',\n",
       "  'numComments': 0,\n",
       "  'points': 2,\n",
       "  'url': 'http://ashleynolan.co.uk/blog/are-we-getting-too-sassy',\n",
       "  'storyText': '',\n",
       "  'createdAt': '2014-05-29T08:07:50Z',\n",
       "  'tags': ['story', 'author_dragongraphics', 'story_7815238'],\n",
       "  'createdAtI': 1401350870,\n",
       "  'title': 'Are we getting too Sassy? Weighing up micro-optimisation vs. maintainability',\n",
       "  'objectId': '7815238'},\n",
       " {'author': 'jcr',\n",
       "  'numComments': 0,\n",
       "  'points': 1,\n",
       "  'url': 'http://spectrum.ieee.org/automaton/robotics/home-robots/telemba-telepresence-robot',\n",
       "  'storyText': '',\n",
       "  'createdAt': '2014-05-29T08:05:58Z',\n",
       "  'tags': ['story', 'author_jcr', 'story_7815234'],\n",
       "  'createdAtI': 1401350758,\n",
       "  'title': 'Telemba Turns Your Old Roomba and Tablet Into a Telepresence Robot',\n",
       "  'objectId': '7815234'}]"
      ]
     },
     "execution_count": 111,
     "metadata": {},
     "output_type": "execute_result"
    }
   ],
   "source": [
    "hn[0:2]"
   ]
  },
  {
   "cell_type": "code",
   "execution_count": 112,
   "metadata": {},
   "outputs": [
    {
     "data": {
      "text/plain": [
       "list"
      ]
     },
     "execution_count": 112,
     "metadata": {},
     "output_type": "execute_result"
    }
   ],
   "source": [
    "type(hn)"
   ]
  },
  {
   "cell_type": "code",
   "execution_count": 113,
   "metadata": {},
   "outputs": [
    {
     "data": {
      "text/plain": [
       "35806"
      ]
     },
     "execution_count": 113,
     "metadata": {},
     "output_type": "execute_result"
    }
   ],
   "source": [
    "len(hn)"
   ]
  },
  {
   "cell_type": "code",
   "execution_count": 114,
   "metadata": {},
   "outputs": [
    {
     "data": {
      "text/plain": [
       "dict"
      ]
     },
     "execution_count": 114,
     "metadata": {},
     "output_type": "execute_result"
    }
   ],
   "source": [
    "type(hn[0])"
   ]
  },
  {
   "cell_type": "code",
   "execution_count": 115,
   "metadata": {},
   "outputs": [
    {
     "data": {
      "text/plain": [
       "dict_keys(['author', 'numComments', 'points', 'url', 'storyText', 'createdAt', 'tags', 'createdAtI', 'title', 'objectId'])"
      ]
     },
     "execution_count": 115,
     "metadata": {},
     "output_type": "execute_result"
    }
   ],
   "source": [
    "hn[0].keys()"
   ]
  },
  {
   "cell_type": "markdown",
   "metadata": {},
   "source": [
    "#### json.dumps()"
   ]
  },
  {
   "cell_type": "markdown",
   "metadata": {},
   "source": [
    "formatting to make it easier to read"
   ]
  },
  {
   "cell_type": "code",
   "execution_count": 116,
   "metadata": {},
   "outputs": [],
   "source": [
    "def jprint(obj):\n",
    "    text = json.dumps(obj, sort_keys=True, indent=4)\n",
    "    print(text)"
   ]
  },
  {
   "cell_type": "code",
   "execution_count": 117,
   "metadata": {},
   "outputs": [
    {
     "name": "stdout",
     "output_type": "stream",
     "text": [
      "{\n",
      "    \"author\": \"dragongraphics\",\n",
      "    \"createdAt\": \"2014-05-29T08:07:50Z\",\n",
      "    \"createdAtI\": 1401350870,\n",
      "    \"numComments\": 0,\n",
      "    \"objectId\": \"7815238\",\n",
      "    \"points\": 2,\n",
      "    \"storyText\": \"\",\n",
      "    \"tags\": [\n",
      "        \"story\",\n",
      "        \"author_dragongraphics\",\n",
      "        \"story_7815238\"\n",
      "    ],\n",
      "    \"title\": \"Are we getting too Sassy? Weighing up micro-optimisation vs. maintainability\",\n",
      "    \"url\": \"http://ashleynolan.co.uk/blog/are-we-getting-too-sassy\"\n",
      "}\n"
     ]
    }
   ],
   "source": [
    "jprint(hn[0])"
   ]
  },
  {
   "cell_type": "markdown",
   "metadata": {},
   "source": [
    "Two different formats of data:\n",
    "- \"createdAt\": \"2014-05-29T08:07:50Z\",\n",
    "- \"createdAtI\": 1401350870,\n",
    "<br>for the purpose of this excercise I'm rmoving this one"
   ]
  },
  {
   "cell_type": "code",
   "execution_count": 118,
   "metadata": {},
   "outputs": [],
   "source": [
    "def del_key(dict_, key):\n",
    "    modify_dict = dict_.copy()\n",
    "    del modify_dict[key]\n",
    "    return modify_dict"
   ]
  },
  {
   "cell_type": "code",
   "execution_count": 119,
   "metadata": {},
   "outputs": [
    {
     "data": {
      "text/plain": [
       "{'author': 'dragongraphics',\n",
       " 'numComments': 0,\n",
       " 'points': 2,\n",
       " 'url': 'http://ashleynolan.co.uk/blog/are-we-getting-too-sassy',\n",
       " 'storyText': '',\n",
       " 'createdAt': '2014-05-29T08:07:50Z',\n",
       " 'tags': ['story', 'author_dragongraphics', 'story_7815238'],\n",
       " 'title': 'Are we getting too Sassy? Weighing up micro-optimisation vs. maintainability',\n",
       " 'objectId': '7815238'}"
      ]
     },
     "execution_count": 119,
     "metadata": {},
     "output_type": "execute_result"
    }
   ],
   "source": [
    "first_story = hn[0]\n",
    "first_story = del_key(first_story, 'createdAtI')\n",
    "first_story"
   ]
  },
  {
   "cell_type": "code",
   "execution_count": 120,
   "metadata": {},
   "outputs": [
    {
     "name": "stdout",
     "output_type": "stream",
     "text": [
      "{\n",
      "    \"author\": \"dragongraphics\",\n",
      "    \"createdAt\": \"2014-05-29T08:07:50Z\",\n",
      "    \"numComments\": 0,\n",
      "    \"objectId\": \"7815238\",\n",
      "    \"points\": 2,\n",
      "    \"storyText\": \"\",\n",
      "    \"tags\": [\n",
      "        \"story\",\n",
      "        \"author_dragongraphics\",\n",
      "        \"story_7815238\"\n",
      "    ],\n",
      "    \"title\": \"Are we getting too Sassy? Weighing up micro-optimisation vs. maintainability\",\n",
      "    \"url\": \"http://ashleynolan.co.uk/blog/are-we-getting-too-sassy\"\n",
      "}\n"
     ]
    }
   ],
   "source": [
    "jprint(first_story)"
   ]
  },
  {
   "cell_type": "markdown",
   "metadata": {},
   "source": [
    "##### Append the cleaned dictionary"
   ]
  },
  {
   "cell_type": "code",
   "execution_count": 121,
   "metadata": {},
   "outputs": [],
   "source": [
    "hn_clean = []\n",
    "\n",
    "for hn_dict in hn:\n",
    "    hn_dict = del_key(hn_dict, 'createdAtI')\n",
    "    hn_clean.append(hn_dict)"
   ]
  },
  {
   "cell_type": "code",
   "execution_count": 122,
   "metadata": {},
   "outputs": [
    {
     "data": {
      "text/plain": [
       "[{'author': 'dragongraphics',\n",
       "  'numComments': 0,\n",
       "  'points': 2,\n",
       "  'url': 'http://ashleynolan.co.uk/blog/are-we-getting-too-sassy',\n",
       "  'storyText': '',\n",
       "  'createdAt': '2014-05-29T08:07:50Z',\n",
       "  'tags': ['story', 'author_dragongraphics', 'story_7815238'],\n",
       "  'title': 'Are we getting too Sassy? Weighing up micro-optimisation vs. maintainability',\n",
       "  'objectId': '7815238'},\n",
       " {'author': 'jcr',\n",
       "  'numComments': 0,\n",
       "  'points': 1,\n",
       "  'url': 'http://spectrum.ieee.org/automaton/robotics/home-robots/telemba-telepresence-robot',\n",
       "  'storyText': '',\n",
       "  'createdAt': '2014-05-29T08:05:58Z',\n",
       "  'tags': ['story', 'author_jcr', 'story_7815234'],\n",
       "  'title': 'Telemba Turns Your Old Roomba and Tablet Into a Telepresence Robot',\n",
       "  'objectId': '7815234'}]"
      ]
     },
     "execution_count": 122,
     "metadata": {},
     "output_type": "execute_result"
    }
   ],
   "source": [
    "hn_clean[0:2]"
   ]
  },
  {
   "cell_type": "markdown",
   "metadata": {},
   "source": [
    "#### List Comprehensions"
   ]
  },
  {
   "cell_type": "markdown",
   "metadata": {},
   "source": [
    "Practising transformation from loops to comprehension lists"
   ]
  },
  {
   "cell_type": "code",
   "execution_count": 123,
   "metadata": {},
   "outputs": [],
   "source": [
    "ints = [1,2,3,4]"
   ]
  },
  {
   "cell_type": "code",
   "execution_count": 124,
   "metadata": {},
   "outputs": [
    {
     "data": {
      "text/plain": [
       "[2, 3, 4, 5]"
      ]
     },
     "execution_count": 124,
     "metadata": {},
     "output_type": "execute_result"
    }
   ],
   "source": [
    "plus_one = []\n",
    "\n",
    "for i in ints:\n",
    "    plus_one.append(i + 1)\n",
    "\n",
    "plus_one"
   ]
  },
  {
   "cell_type": "code",
   "execution_count": 125,
   "metadata": {},
   "outputs": [
    {
     "data": {
      "text/plain": [
       "[10, 20, 30, 40]"
      ]
     },
     "execution_count": 125,
     "metadata": {},
     "output_type": "execute_result"
    }
   ],
   "source": [
    "times_ten = []\n",
    "\n",
    "for i in ints:\n",
    "    times_ten.append(i * 10)\n",
    "\n",
    "times_ten"
   ]
  },
  {
   "cell_type": "code",
   "execution_count": 126,
   "metadata": {},
   "outputs": [
    {
     "data": {
      "text/plain": [
       "[10, 20, 30, 40]"
      ]
     },
     "execution_count": 126,
     "metadata": {},
     "output_type": "execute_result"
    }
   ],
   "source": [
    "times_ten_cl = [i * 10 for i in ints]\n",
    "\n",
    "times_ten_cl"
   ]
  },
  {
   "cell_type": "code",
   "execution_count": 127,
   "metadata": {},
   "outputs": [],
   "source": [
    "floats = [2.1, 8.7, 4.2, 8.9]"
   ]
  },
  {
   "cell_type": "code",
   "execution_count": 128,
   "metadata": {},
   "outputs": [
    {
     "data": {
      "text/plain": [
       "[2, 9, 4, 9]"
      ]
     },
     "execution_count": 128,
     "metadata": {},
     "output_type": "execute_result"
    }
   ],
   "source": [
    "rounded = []\n",
    "\n",
    "for f in floats:\n",
    "    rounded.append(round(f))\n",
    "\n",
    "rounded"
   ]
  },
  {
   "cell_type": "code",
   "execution_count": 129,
   "metadata": {},
   "outputs": [
    {
     "data": {
      "text/plain": [
       "[2, 9, 4, 9]"
      ]
     },
     "execution_count": 129,
     "metadata": {},
     "output_type": "execute_result"
    }
   ],
   "source": [
    "rounded_cl = [round(f) for f in floats]\n",
    "rounded_cl"
   ]
  },
  {
   "cell_type": "code",
   "execution_count": 130,
   "metadata": {},
   "outputs": [],
   "source": [
    "letters = ['a', 'b', 'c', 'd']"
   ]
  },
  {
   "cell_type": "code",
   "execution_count": 131,
   "metadata": {},
   "outputs": [
    {
     "data": {
      "text/plain": [
       "['A', 'B', 'C', 'D']"
      ]
     },
     "execution_count": 131,
     "metadata": {},
     "output_type": "execute_result"
    }
   ],
   "source": [
    "caps = []\n",
    "\n",
    "for l in letters:\n",
    "    caps.append(l.upper())\n",
    "    \n",
    "caps    "
   ]
  },
  {
   "cell_type": "code",
   "execution_count": 132,
   "metadata": {},
   "outputs": [
    {
     "data": {
      "text/plain": [
       "['A', 'B', 'C', 'D']"
      ]
     },
     "execution_count": 132,
     "metadata": {},
     "output_type": "execute_result"
    }
   ],
   "source": [
    "caps_cl = [l.upper() for l in letters]\n",
    "caps_cl"
   ]
  },
  {
   "cell_type": "markdown",
   "metadata": {},
   "source": [
    "##### Comprehension representation of the del loop"
   ]
  },
  {
   "cell_type": "code",
   "execution_count": 133,
   "metadata": {},
   "outputs": [
    {
     "data": {
      "text/plain": [
       "[{'author': 'dragongraphics',\n",
       "  'numComments': 0,\n",
       "  'points': 2,\n",
       "  'url': 'http://ashleynolan.co.uk/blog/are-we-getting-too-sassy',\n",
       "  'storyText': '',\n",
       "  'createdAt': '2014-05-29T08:07:50Z',\n",
       "  'tags': ['story', 'author_dragongraphics', 'story_7815238'],\n",
       "  'title': 'Are we getting too Sassy? Weighing up micro-optimisation vs. maintainability',\n",
       "  'objectId': '7815238'},\n",
       " {'author': 'jcr',\n",
       "  'numComments': 0,\n",
       "  'points': 1,\n",
       "  'url': 'http://spectrum.ieee.org/automaton/robotics/home-robots/telemba-telepresence-robot',\n",
       "  'storyText': '',\n",
       "  'createdAt': '2014-05-29T08:05:58Z',\n",
       "  'tags': ['story', 'author_jcr', 'story_7815234'],\n",
       "  'title': 'Telemba Turns Your Old Roomba and Tablet Into a Telepresence Robot',\n",
       "  'objectId': '7815234'}]"
      ]
     },
     "execution_count": 133,
     "metadata": {},
     "output_type": "execute_result"
    }
   ],
   "source": [
    "hn_clean = [del_key(h, 'createdAtI') for h in hn]\n",
    "hn_clean[0:2]"
   ]
  },
  {
   "cell_type": "markdown",
   "metadata": {},
   "source": [
    "#### Transforming a list with list comprehensions"
   ]
  },
  {
   "cell_type": "code",
   "execution_count": 134,
   "metadata": {},
   "outputs": [],
   "source": [
    "squares = [1,4,9,16,25,36,49]"
   ]
  },
  {
   "cell_type": "code",
   "execution_count": 135,
   "metadata": {},
   "outputs": [
    {
     "data": {
      "text/plain": [
       "[1.0, 2.0, 3.0, 4.0, 5.0, 6.0, 7.0]"
      ]
     },
     "execution_count": 135,
     "metadata": {},
     "output_type": "execute_result"
    }
   ],
   "source": [
    "sqroots = []\n",
    "\n",
    "for sq in squares:\n",
    "    sqroots.append(sq ** (1/2))\n",
    "    \n",
    "sqroots    "
   ]
  },
  {
   "cell_type": "code",
   "execution_count": 136,
   "metadata": {},
   "outputs": [
    {
     "data": {
      "text/plain": [
       "[1.0, 2.0, 3.0, 4.0, 5.0, 6.0, 7.0]"
      ]
     },
     "execution_count": 136,
     "metadata": {},
     "output_type": "execute_result"
    }
   ],
   "source": [
    "sqroots_cl = [sq ** (1/2) for sq in squares]\n",
    "sqroots_cl"
   ]
  },
  {
   "cell_type": "markdown",
   "metadata": {},
   "source": [
    "#### Creating a new list with list comprehensions"
   ]
  },
  {
   "cell_type": "code",
   "execution_count": 137,
   "metadata": {},
   "outputs": [
    {
     "data": {
      "text/plain": [
       "['col_1', 'col_2', 'col_3', 'col_4']"
      ]
     },
     "execution_count": 137,
     "metadata": {},
     "output_type": "execute_result"
    }
   ],
   "source": [
    "cols = []\n",
    "for i in range(1,5):\n",
    "    cols.append('col_{}'.format(i))\n",
    "\n",
    "cols    "
   ]
  },
  {
   "cell_type": "code",
   "execution_count": 138,
   "metadata": {},
   "outputs": [
    {
     "data": {
      "text/plain": [
       "['col_1', 'col_2', 'col_3', 'col_4']"
      ]
     },
     "execution_count": 138,
     "metadata": {},
     "output_type": "execute_result"
    }
   ],
   "source": [
    "cols_cl = ['col_{}'.format(i) for i in range(1,5)]\n",
    "cols_cl"
   ]
  },
  {
   "cell_type": "markdown",
   "metadata": {},
   "source": [
    "create an empty dataframe with labels"
   ]
  },
  {
   "cell_type": "code",
   "execution_count": 139,
   "metadata": {},
   "outputs": [
    {
     "data": {
      "text/html": [
       "<div>\n",
       "<style scoped>\n",
       "    .dataframe tbody tr th:only-of-type {\n",
       "        vertical-align: middle;\n",
       "    }\n",
       "\n",
       "    .dataframe tbody tr th {\n",
       "        vertical-align: top;\n",
       "    }\n",
       "\n",
       "    .dataframe thead th {\n",
       "        text-align: right;\n",
       "    }\n",
       "</style>\n",
       "<table border=\"1\" class=\"dataframe\">\n",
       "  <thead>\n",
       "    <tr style=\"text-align: right;\">\n",
       "      <th></th>\n",
       "      <th>0</th>\n",
       "      <th>1</th>\n",
       "      <th>2</th>\n",
       "      <th>3</th>\n",
       "    </tr>\n",
       "  </thead>\n",
       "  <tbody>\n",
       "    <tr>\n",
       "      <th>col_1</th>\n",
       "      <td>0.0</td>\n",
       "      <td>0.0</td>\n",
       "      <td>0.0</td>\n",
       "      <td>0.0</td>\n",
       "    </tr>\n",
       "    <tr>\n",
       "      <th>col_2</th>\n",
       "      <td>0.0</td>\n",
       "      <td>0.0</td>\n",
       "      <td>0.0</td>\n",
       "      <td>0.0</td>\n",
       "    </tr>\n",
       "    <tr>\n",
       "      <th>col_3</th>\n",
       "      <td>0.0</td>\n",
       "      <td>0.0</td>\n",
       "      <td>0.0</td>\n",
       "      <td>0.0</td>\n",
       "    </tr>\n",
       "    <tr>\n",
       "      <th>col_4</th>\n",
       "      <td>0.0</td>\n",
       "      <td>0.0</td>\n",
       "      <td>0.0</td>\n",
       "      <td>0.0</td>\n",
       "    </tr>\n",
       "  </tbody>\n",
       "</table>\n",
       "</div>"
      ],
      "text/plain": [
       "         0    1    2    3\n",
       "col_1  0.0  0.0  0.0  0.0\n",
       "col_2  0.0  0.0  0.0  0.0\n",
       "col_3  0.0  0.0  0.0  0.0\n",
       "col_4  0.0  0.0  0.0  0.0"
      ]
     },
     "execution_count": 139,
     "metadata": {},
     "output_type": "execute_result"
    }
   ],
   "source": [
    "cols_cl = ['col_{}'.format(i) for i in range(1,5)]\n",
    "data = np.zeros((4,4))\n",
    "\n",
    "df = pd.DataFrame(data, cols_cl)\n",
    "df"
   ]
  },
  {
   "cell_type": "code",
   "execution_count": null,
   "metadata": {},
   "outputs": [],
   "source": []
  },
  {
   "cell_type": "markdown",
   "metadata": {},
   "source": [
    "#### Extract the url value from each dictionary"
   ]
  },
  {
   "cell_type": "code",
   "execution_count": 140,
   "metadata": {},
   "outputs": [
    {
     "data": {
      "text/plain": [
       "['http://ashleynolan.co.uk/blog/are-we-getting-too-sassy',\n",
       " 'http://spectrum.ieee.org/automaton/robotics/home-robots/telemba-telepresence-robot']"
      ]
     },
     "execution_count": 140,
     "metadata": {},
     "output_type": "execute_result"
    }
   ],
   "source": [
    "urls_cl = [h['url'] for h in hn_clean]\n",
    "urls_cl[0:2]"
   ]
  },
  {
   "cell_type": "markdown",
   "metadata": {},
   "source": [
    "#### Reducing a list with comprehension list"
   ]
  },
  {
   "cell_type": "markdown",
   "metadata": {},
   "source": [
    "##### Remove any integers that were smaller than 50"
   ]
  },
  {
   "cell_type": "code",
   "execution_count": 141,
   "metadata": {},
   "outputs": [],
   "source": [
    "ints = [25, 34, 28, 98, 826, 21, 2]"
   ]
  },
  {
   "cell_type": "code",
   "execution_count": 142,
   "metadata": {},
   "outputs": [
    {
     "data": {
      "text/plain": [
       "[98, 826]"
      ]
     },
     "execution_count": 142,
     "metadata": {},
     "output_type": "execute_result"
    }
   ],
   "source": [
    "big_ints = []\n",
    "\n",
    "for i in ints:\n",
    "    if i > 50:\n",
    "        big_ints.append(i)\n",
    "    \n",
    "big_ints    "
   ]
  },
  {
   "cell_type": "code",
   "execution_count": 143,
   "metadata": {},
   "outputs": [
    {
     "data": {
      "text/plain": [
       "[98, 826]"
      ]
     },
     "execution_count": 143,
     "metadata": {},
     "output_type": "execute_result"
    }
   ],
   "source": [
    "big_ints_cl = [i for i in ints if i > 50]\n",
    "big_ints_cl"
   ]
  },
  {
   "cell_type": "markdown",
   "metadata": {},
   "source": [
    "##### Count the number of stories that have comments"
   ]
  },
  {
   "cell_type": "code",
   "execution_count": 144,
   "metadata": {},
   "outputs": [
    {
     "data": {
      "text/plain": [
       "{'author': 'dragongraphics',\n",
       " 'numComments': 0,\n",
       " 'points': 2,\n",
       " 'url': 'http://ashleynolan.co.uk/blog/are-we-getting-too-sassy',\n",
       " 'storyText': '',\n",
       " 'createdAt': '2014-05-29T08:07:50Z',\n",
       " 'tags': ['story', 'author_dragongraphics', 'story_7815238'],\n",
       " 'title': 'Are we getting too Sassy? Weighing up micro-optimisation vs. maintainability',\n",
       " 'objectId': '7815238'}"
      ]
     },
     "execution_count": 144,
     "metadata": {},
     "output_type": "execute_result"
    }
   ],
   "source": [
    "hn_clean[0]"
   ]
  },
  {
   "cell_type": "code",
   "execution_count": 145,
   "metadata": {},
   "outputs": [
    {
     "data": {
      "text/plain": [
       "{'author': 'mr_tyzic',\n",
       " 'numComments': 27,\n",
       " 'points': 161,\n",
       " 'url': 'http://projects.aljazeera.com/2014/portrait-of-down-syndrome/index.html',\n",
       " 'storyText': '',\n",
       " 'createdAt': '2014-05-29T03:51:01Z',\n",
       " 'tags': ['story', 'author_mr_tyzic', 'story_7814608'],\n",
       " 'title': 'For Hire: Dedicated Young Man With Down Syndrome',\n",
       " 'objectId': '7814608'}"
      ]
     },
     "execution_count": 145,
     "metadata": {},
     "output_type": "execute_result"
    }
   ],
   "source": [
    "have_comments = []\n",
    "\n",
    "for h in hn_clean:\n",
    "    if h['numComments'] != 0:\n",
    "        have_comments.append(h)\n",
    "        \n",
    "have_comments[2]"
   ]
  },
  {
   "cell_type": "code",
   "execution_count": 146,
   "metadata": {},
   "outputs": [
    {
     "data": {
      "text/plain": [
       "9279"
      ]
     },
     "execution_count": 146,
     "metadata": {},
     "output_type": "execute_result"
    }
   ],
   "source": [
    "len(have_comments)"
   ]
  },
  {
   "cell_type": "code",
   "execution_count": 147,
   "metadata": {},
   "outputs": [
    {
     "data": {
      "text/plain": [
       "{'author': 'mr_tyzic',\n",
       " 'numComments': 27,\n",
       " 'points': 161,\n",
       " 'url': 'http://projects.aljazeera.com/2014/portrait-of-down-syndrome/index.html',\n",
       " 'storyText': '',\n",
       " 'createdAt': '2014-05-29T03:51:01Z',\n",
       " 'tags': ['story', 'author_mr_tyzic', 'story_7814608'],\n",
       " 'title': 'For Hire: Dedicated Young Man With Down Syndrome',\n",
       " 'objectId': '7814608'}"
      ]
     },
     "execution_count": 147,
     "metadata": {},
     "output_type": "execute_result"
    }
   ],
   "source": [
    "have_comments_cl = [h for h in hn_clean if h['numComments'] != 0]\n",
    "have_comments_cl[2]"
   ]
  },
  {
   "cell_type": "code",
   "execution_count": 148,
   "metadata": {},
   "outputs": [
    {
     "data": {
      "text/plain": [
       "9279"
      ]
     },
     "execution_count": 148,
     "metadata": {},
     "output_type": "execute_result"
    }
   ],
   "source": [
    "len(have_comments_cl)"
   ]
  },
  {
   "cell_type": "markdown",
   "metadata": {},
   "source": [
    "##### List with values from hn_clean where the points key has a value greater than 1000"
   ]
  },
  {
   "cell_type": "code",
   "execution_count": 149,
   "metadata": {},
   "outputs": [
    {
     "data": {
      "text/plain": [
       "{'author': 'frederfred',\n",
       " 'numComments': 398,\n",
       " 'points': 2732,\n",
       " 'url': 'http://gabrielecirulli.github.io/2048/',\n",
       " 'storyText': '',\n",
       " 'createdAt': '2014-03-10T15:44:42Z',\n",
       " 'tags': ['story', 'author_frederfred', 'story_7373566'],\n",
       " 'title': '2048',\n",
       " 'objectId': '7373566'}"
      ]
     },
     "execution_count": 149,
     "metadata": {},
     "output_type": "execute_result"
    }
   ],
   "source": [
    "th_points = [h for h in hn_clean if h['points'] > 1000]\n",
    "th_points[2]"
   ]
  },
  {
   "cell_type": "code",
   "execution_count": 150,
   "metadata": {},
   "outputs": [
    {
     "data": {
      "text/plain": [
       "8"
      ]
     },
     "execution_count": 150,
     "metadata": {},
     "output_type": "execute_result"
    }
   ],
   "source": [
    "len(th_points)"
   ]
  },
  {
   "cell_type": "markdown",
   "metadata": {},
   "source": [
    "#### Using min(), max(), sorted() with json"
   ]
  },
  {
   "cell_type": "code",
   "execution_count": 151,
   "metadata": {},
   "outputs": [
    {
     "name": "stdout",
     "output_type": "stream",
     "text": [
      "{\n",
      "    \"author\": \"callum85\",\n",
      "    \"createdAt\": \"2014-05-29T08:05:06Z\",\n",
      "    \"createdAtI\": 1401350706,\n",
      "    \"numComments\": 0,\n",
      "    \"objectId\": \"7815230\",\n",
      "    \"points\": 1,\n",
      "    \"storyText\": \"\",\n",
      "    \"tags\": [\n",
      "        \"story\",\n",
      "        \"author_callum85\",\n",
      "        \"story_7815230\"\n",
      "    ],\n",
      "    \"title\": \"Apple Agrees to Buy Beats for $3 Billion\",\n",
      "    \"url\": \"http://online.wsj.com/articles/apple-to-buy-beats-1401308971\"\n",
      "}\n"
     ]
    }
   ],
   "source": [
    "jprint(hn[2])"
   ]
  },
  {
   "cell_type": "markdown",
   "metadata": {},
   "source": [
    "#### Treat a function as variable"
   ]
  },
  {
   "cell_type": "code",
   "execution_count": 152,
   "metadata": {},
   "outputs": [
    {
     "data": {
      "text/plain": [
       "'hello'"
      ]
     },
     "execution_count": 152,
     "metadata": {},
     "output_type": "execute_result"
    }
   ],
   "source": [
    "def greet():\n",
    "    return 'hello'\n",
    "    \n",
    "greet()    "
   ]
  },
  {
   "cell_type": "code",
   "execution_count": 153,
   "metadata": {},
   "outputs": [
    {
     "name": "stdout",
     "output_type": "stream",
     "text": [
      "<class 'str'>\n"
     ]
    }
   ],
   "source": [
    "t = type(greet())\n",
    "print(t)"
   ]
  },
  {
   "cell_type": "code",
   "execution_count": 154,
   "metadata": {},
   "outputs": [
    {
     "name": "stdout",
     "output_type": "stream",
     "text": [
      "<class 'function'>\n"
     ]
    }
   ],
   "source": [
    "t = type(greet)\n",
    "print(t)"
   ]
  },
  {
   "cell_type": "code",
   "execution_count": 155,
   "metadata": {},
   "outputs": [
    {
     "data": {
      "text/plain": [
       "<function __main__.greet()>"
      ]
     },
     "execution_count": 155,
     "metadata": {},
     "output_type": "execute_result"
    }
   ],
   "source": [
    "greet2 = greet\n",
    "greet2"
   ]
  },
  {
   "cell_type": "code",
   "execution_count": 156,
   "metadata": {},
   "outputs": [
    {
     "data": {
      "text/plain": [
       "'hello'"
      ]
     },
     "execution_count": 156,
     "metadata": {},
     "output_type": "execute_result"
    }
   ],
   "source": [
    "greet2()"
   ]
  },
  {
   "cell_type": "markdown",
   "metadata": {},
   "source": [
    "#### Run a function inside another function by passing it as an argument"
   ]
  },
  {
   "cell_type": "code",
   "execution_count": 157,
   "metadata": {},
   "outputs": [],
   "source": [
    "def run_func(func):\n",
    "    print('running function: {}'.format(func))\n",
    "    return func()"
   ]
  },
  {
   "cell_type": "code",
   "execution_count": 158,
   "metadata": {},
   "outputs": [
    {
     "name": "stdout",
     "output_type": "stream",
     "text": [
      "running function: <function greet at 0x000000000962D730>\n"
     ]
    },
    {
     "data": {
      "text/plain": [
       "'hello'"
      ]
     },
     "execution_count": 158,
     "metadata": {},
     "output_type": "execute_result"
    }
   ],
   "source": [
    "run_func(greet)"
   ]
  },
  {
   "cell_type": "markdown",
   "metadata": {},
   "source": [
    "#### Find the story that has the greatest number of comments"
   ]
  },
  {
   "cell_type": "code",
   "execution_count": 159,
   "metadata": {},
   "outputs": [],
   "source": [
    "def num_of_comments(sd):\n",
    "    return sd['numComments']"
   ]
  },
  {
   "cell_type": "code",
   "execution_count": 160,
   "metadata": {},
   "outputs": [
    {
     "data": {
      "text/plain": [
       "1"
      ]
     },
     "execution_count": 160,
     "metadata": {},
     "output_type": "execute_result"
    }
   ],
   "source": [
    "num_of_comments(hn_clean[11])"
   ]
  },
  {
   "cell_type": "code",
   "execution_count": 161,
   "metadata": {},
   "outputs": [
    {
     "data": {
      "text/plain": [
       "{'author': 'platz',\n",
       " 'numComments': 1208,\n",
       " 'points': 889,\n",
       " 'url': 'https://blog.mozilla.org/blog/2014/04/03/brendan-eich-steps-down-as-mozilla-ceo/',\n",
       " 'storyText': None,\n",
       " 'createdAt': '2014-04-03T19:02:53Z',\n",
       " 'tags': ['story', 'author_platz', 'story_7525198'],\n",
       " 'title': 'Brendan Eich Steps Down as Mozilla CEO',\n",
       " 'objectId': '7525198'}"
      ]
     },
     "execution_count": 161,
     "metadata": {},
     "output_type": "execute_result"
    }
   ],
   "source": [
    "max_comments = max(hn_clean, key=num_of_comments)\n",
    "max_comments"
   ]
  },
  {
   "cell_type": "markdown",
   "metadata": {},
   "source": [
    "#### Lambda Functions"
   ]
  },
  {
   "cell_type": "code",
   "execution_count": 162,
   "metadata": {},
   "outputs": [],
   "source": [
    "def unchanged(x):\n",
    "    return x"
   ]
  },
  {
   "cell_type": "code",
   "execution_count": 163,
   "metadata": {},
   "outputs": [],
   "source": [
    "unchanged_l = lambda x: x"
   ]
  },
  {
   "cell_type": "code",
   "execution_count": 164,
   "metadata": {},
   "outputs": [],
   "source": [
    "def plus_one(x):\n",
    "    return x + 1"
   ]
  },
  {
   "cell_type": "code",
   "execution_count": 165,
   "metadata": {},
   "outputs": [],
   "source": [
    "plus_one_l = lambda x: x + 1"
   ]
  },
  {
   "cell_type": "code",
   "execution_count": 166,
   "metadata": {},
   "outputs": [
    {
     "name": "stdout",
     "output_type": "stream",
     "text": [
      "4\n",
      "4\n"
     ]
    }
   ],
   "source": [
    "print(plus_one(3))\n",
    "print(plus_one_l(3))"
   ]
  },
  {
   "cell_type": "code",
   "execution_count": 167,
   "metadata": {},
   "outputs": [],
   "source": [
    "def add(x,y):\n",
    "    return x + y"
   ]
  },
  {
   "cell_type": "code",
   "execution_count": 168,
   "metadata": {},
   "outputs": [],
   "source": [
    "add_l = lambda x,y: x + y"
   ]
  },
  {
   "cell_type": "code",
   "execution_count": 169,
   "metadata": {},
   "outputs": [
    {
     "name": "stdout",
     "output_type": "stream",
     "text": [
      "7\n",
      "7\n"
     ]
    }
   ],
   "source": [
    "print(add(3,4))\n",
    "print(add_l(3,4))"
   ]
  },
  {
   "cell_type": "markdown",
   "metadata": {},
   "source": [
    "#### Using a lambda function with sorted() to sort the items in our JSON list alphabetically by name"
   ]
  },
  {
   "cell_type": "code",
   "execution_count": 170,
   "metadata": {},
   "outputs": [],
   "source": [
    "json_obj = [\n",
    "    {\n",
    "        \"age\": 36,\n",
    "        \"favorite_foods\": [\"Pumpkin\", \"Oatmeal\"],\n",
    "        \"name\": \"Sabine\"\n",
    "    },\n",
    "    {\n",
    "        \"age\": 40,\n",
    "        \"favorite_foods\": [\"Chicken\", \"Pizza\", \"Chocolate\"],\n",
    "        \"name\": \"Zoe\"\n",
    "    },\n",
    "    {\n",
    "        \"age\": 40,\n",
    "        \"favorite_foods\": [\"Caesar Salad\"],\n",
    "        \"name\": \"Heidi\"\n",
    "    }\n",
    "]"
   ]
  },
  {
   "cell_type": "code",
   "execution_count": 171,
   "metadata": {},
   "outputs": [
    {
     "data": {
      "text/plain": [
       "[{'age': 40, 'favorite_foods': ['Caesar Salad'], 'name': 'Heidi'},\n",
       " {'age': 36, 'favorite_foods': ['Pumpkin', 'Oatmeal'], 'name': 'Sabine'},\n",
       " {'age': 40,\n",
       "  'favorite_foods': ['Chicken', 'Pizza', 'Chocolate'],\n",
       "  'name': 'Zoe'}]"
      ]
     },
     "execution_count": 171,
     "metadata": {},
     "output_type": "execute_result"
    }
   ],
   "source": [
    "sorted(json_obj, key = lambda obj: obj['name'])"
   ]
  },
  {
   "cell_type": "code",
   "execution_count": 172,
   "metadata": {},
   "outputs": [
    {
     "data": {
      "text/plain": [
       "{'age': 36, 'favorite_foods': ['Pumpkin', 'Oatmeal'], 'name': 'Sabine'}"
      ]
     },
     "execution_count": 172,
     "metadata": {},
     "output_type": "execute_result"
    }
   ],
   "source": [
    "min(json_obj, key = lambda obj: obj['age'])"
   ]
  },
  {
   "cell_type": "code",
   "execution_count": 173,
   "metadata": {},
   "outputs": [
    {
     "data": {
      "text/plain": [
       "{'age': 40, 'favorite_foods': ['Chicken', 'Pizza', 'Chocolate'], 'name': 'Zoe'}"
      ]
     },
     "execution_count": 173,
     "metadata": {},
     "output_type": "execute_result"
    }
   ],
   "source": [
    "max(json_obj, key = lambda obj: obj['age'])"
   ]
  },
  {
   "cell_type": "code",
   "execution_count": null,
   "metadata": {},
   "outputs": [],
   "source": []
  },
  {
   "cell_type": "code",
   "execution_count": 174,
   "metadata": {},
   "outputs": [
    {
     "data": {
      "text/plain": [
       "[{'author': 'frederfred',\n",
       "  'numComments': 398,\n",
       "  'points': 2732,\n",
       "  'url': 'http://gabrielecirulli.github.io/2048/',\n",
       "  'storyText': '',\n",
       "  'createdAt': '2014-03-10T15:44:42Z',\n",
       "  'tags': ['story', 'author_frederfred', 'story_7373566'],\n",
       "  'title': '2048',\n",
       "  'objectId': '7373566'},\n",
       " {'author': 'brokenparser',\n",
       "  'numComments': 260,\n",
       "  'points': 1958,\n",
       "  'url': 'https://thedaywefightback.org/',\n",
       "  'storyText': '',\n",
       "  'createdAt': '2014-02-11T08:12:28Z',\n",
       "  'tags': ['story', 'author_brokenparser', 'story_7216471'],\n",
       "  'title': 'Today is The Day We Fight Back',\n",
       "  'objectId': '7216471'},\n",
       " {'author': 'jamesbritt',\n",
       "  'numComments': 308,\n",
       "  'points': 1522,\n",
       "  'url': 'https://plus.google.com/+CarmsPerez/posts/GnVTvQNgvpf',\n",
       "  'storyText': None,\n",
       "  'createdAt': '2014-01-19T22:46:05Z',\n",
       "  'tags': ['story', 'author_jamesbritt', 'story_7086411'],\n",
       "  'title': 'Wozniak: “Actually, the movie was largely a lie about me”',\n",
       "  'objectId': '7086411'}]"
      ]
     },
     "execution_count": 174,
     "metadata": {},
     "output_type": "execute_result"
    }
   ],
   "source": [
    "hn_sorted_points = sorted(hn_clean, key = lambda h: h['points'], reverse=True)\n",
    "hn_sorted_points[0:3]"
   ]
  },
  {
   "cell_type": "code",
   "execution_count": 175,
   "metadata": {},
   "outputs": [
    {
     "data": {
      "text/plain": [
       "['2048',\n",
       " 'Today is The Day We Fight Back',\n",
       " 'Wozniak: “Actually, the movie was largely a lie about me”',\n",
       " 'Microsoft Open Sources C# Compiler',\n",
       " 'Elon Musk: To the People of New Jersey']"
      ]
     },
     "execution_count": 175,
     "metadata": {},
     "output_type": "execute_result"
    }
   ],
   "source": [
    "[h['title'] for h in hn_sorted_points][0:5]"
   ]
  },
  {
   "cell_type": "markdown",
   "metadata": {},
   "source": [
    "#### Json with pandas"
   ]
  },
  {
   "cell_type": "code",
   "execution_count": 176,
   "metadata": {},
   "outputs": [
    {
     "data": {
      "text/html": [
       "<div>\n",
       "<style scoped>\n",
       "    .dataframe tbody tr th:only-of-type {\n",
       "        vertical-align: middle;\n",
       "    }\n",
       "\n",
       "    .dataframe tbody tr th {\n",
       "        vertical-align: top;\n",
       "    }\n",
       "\n",
       "    .dataframe thead th {\n",
       "        text-align: right;\n",
       "    }\n",
       "</style>\n",
       "<table border=\"1\" class=\"dataframe\">\n",
       "  <thead>\n",
       "    <tr style=\"text-align: right;\">\n",
       "      <th></th>\n",
       "      <th>age</th>\n",
       "      <th>favorite_foods</th>\n",
       "      <th>name</th>\n",
       "    </tr>\n",
       "  </thead>\n",
       "  <tbody>\n",
       "    <tr>\n",
       "      <th>0</th>\n",
       "      <td>36</td>\n",
       "      <td>[Pumpkin, Oatmeal]</td>\n",
       "      <td>Sabine</td>\n",
       "    </tr>\n",
       "    <tr>\n",
       "      <th>1</th>\n",
       "      <td>40</td>\n",
       "      <td>[Chicken, Pizza, Chocolate]</td>\n",
       "      <td>Zoe</td>\n",
       "    </tr>\n",
       "    <tr>\n",
       "      <th>2</th>\n",
       "      <td>40</td>\n",
       "      <td>[Caesar Salad]</td>\n",
       "      <td>Heidi</td>\n",
       "    </tr>\n",
       "  </tbody>\n",
       "</table>\n",
       "</div>"
      ],
      "text/plain": [
       "   age               favorite_foods    name\n",
       "0   36           [Pumpkin, Oatmeal]  Sabine\n",
       "1   40  [Chicken, Pizza, Chocolate]     Zoe\n",
       "2   40               [Caesar Salad]   Heidi"
      ]
     },
     "execution_count": 176,
     "metadata": {},
     "output_type": "execute_result"
    }
   ],
   "source": [
    "json_df = pd.DataFrame(json_obj)\n",
    "json_df"
   ]
  },
  {
   "cell_type": "code",
   "execution_count": 177,
   "metadata": {},
   "outputs": [
    {
     "data": {
      "text/html": [
       "<div>\n",
       "<style scoped>\n",
       "    .dataframe tbody tr th:only-of-type {\n",
       "        vertical-align: middle;\n",
       "    }\n",
       "\n",
       "    .dataframe tbody tr th {\n",
       "        vertical-align: top;\n",
       "    }\n",
       "\n",
       "    .dataframe thead th {\n",
       "        text-align: right;\n",
       "    }\n",
       "</style>\n",
       "<table border=\"1\" class=\"dataframe\">\n",
       "  <thead>\n",
       "    <tr style=\"text-align: right;\">\n",
       "      <th></th>\n",
       "      <th>author</th>\n",
       "      <th>numComments</th>\n",
       "      <th>points</th>\n",
       "      <th>url</th>\n",
       "      <th>storyText</th>\n",
       "      <th>createdAt</th>\n",
       "      <th>tags</th>\n",
       "      <th>title</th>\n",
       "      <th>objectId</th>\n",
       "    </tr>\n",
       "  </thead>\n",
       "  <tbody>\n",
       "    <tr>\n",
       "      <th>0</th>\n",
       "      <td>dragongraphics</td>\n",
       "      <td>0</td>\n",
       "      <td>2</td>\n",
       "      <td>http://ashleynolan.co.uk/blog/are-we-getting-t...</td>\n",
       "      <td></td>\n",
       "      <td>2014-05-29T08:07:50Z</td>\n",
       "      <td>[story, author_dragongraphics, story_7815238]</td>\n",
       "      <td>Are we getting too Sassy? Weighing up micro-op...</td>\n",
       "      <td>7815238</td>\n",
       "    </tr>\n",
       "    <tr>\n",
       "      <th>1</th>\n",
       "      <td>jcr</td>\n",
       "      <td>0</td>\n",
       "      <td>1</td>\n",
       "      <td>http://spectrum.ieee.org/automaton/robotics/ho...</td>\n",
       "      <td></td>\n",
       "      <td>2014-05-29T08:05:58Z</td>\n",
       "      <td>[story, author_jcr, story_7815234]</td>\n",
       "      <td>Telemba Turns Your Old Roomba and Tablet Into ...</td>\n",
       "      <td>7815234</td>\n",
       "    </tr>\n",
       "    <tr>\n",
       "      <th>2</th>\n",
       "      <td>callum85</td>\n",
       "      <td>0</td>\n",
       "      <td>1</td>\n",
       "      <td>http://online.wsj.com/articles/apple-to-buy-be...</td>\n",
       "      <td></td>\n",
       "      <td>2014-05-29T08:05:06Z</td>\n",
       "      <td>[story, author_callum85, story_7815230]</td>\n",
       "      <td>Apple Agrees to Buy Beats for $3 Billion</td>\n",
       "      <td>7815230</td>\n",
       "    </tr>\n",
       "    <tr>\n",
       "      <th>3</th>\n",
       "      <td>d3v3r0</td>\n",
       "      <td>0</td>\n",
       "      <td>1</td>\n",
       "      <td>http://alexsblog.org/2014/05/29/dont-wait-for-...</td>\n",
       "      <td></td>\n",
       "      <td>2014-05-29T08:00:08Z</td>\n",
       "      <td>[story, author_d3v3r0, story_7815222]</td>\n",
       "      <td>Don’t wait for inspiration</td>\n",
       "      <td>7815222</td>\n",
       "    </tr>\n",
       "    <tr>\n",
       "      <th>4</th>\n",
       "      <td>timmipetit</td>\n",
       "      <td>0</td>\n",
       "      <td>1</td>\n",
       "      <td>http://techcrunch.com/2014/05/28/hackerone-get...</td>\n",
       "      <td></td>\n",
       "      <td>2014-05-29T07:46:19Z</td>\n",
       "      <td>[story, author_timmipetit, story_7815191]</td>\n",
       "      <td>HackerOne Get $9M In Series A Funding To Build...</td>\n",
       "      <td>7815191</td>\n",
       "    </tr>\n",
       "  </tbody>\n",
       "</table>\n",
       "</div>"
      ],
      "text/plain": [
       "           author  numComments  points  \\\n",
       "0  dragongraphics            0       2   \n",
       "1             jcr            0       1   \n",
       "2        callum85            0       1   \n",
       "3          d3v3r0            0       1   \n",
       "4      timmipetit            0       1   \n",
       "\n",
       "                                                 url storyText  \\\n",
       "0  http://ashleynolan.co.uk/blog/are-we-getting-t...             \n",
       "1  http://spectrum.ieee.org/automaton/robotics/ho...             \n",
       "2  http://online.wsj.com/articles/apple-to-buy-be...             \n",
       "3  http://alexsblog.org/2014/05/29/dont-wait-for-...             \n",
       "4  http://techcrunch.com/2014/05/28/hackerone-get...             \n",
       "\n",
       "              createdAt                                           tags  \\\n",
       "0  2014-05-29T08:07:50Z  [story, author_dragongraphics, story_7815238]   \n",
       "1  2014-05-29T08:05:58Z             [story, author_jcr, story_7815234]   \n",
       "2  2014-05-29T08:05:06Z        [story, author_callum85, story_7815230]   \n",
       "3  2014-05-29T08:00:08Z          [story, author_d3v3r0, story_7815222]   \n",
       "4  2014-05-29T07:46:19Z      [story, author_timmipetit, story_7815191]   \n",
       "\n",
       "                                               title objectId  \n",
       "0  Are we getting too Sassy? Weighing up micro-op...  7815238  \n",
       "1  Telemba Turns Your Old Roomba and Tablet Into ...  7815234  \n",
       "2           Apple Agrees to Buy Beats for $3 Billion  7815230  \n",
       "3                         Don’t wait for inspiration  7815222  \n",
       "4  HackerOne Get $9M In Series A Funding To Build...  7815191  "
      ]
     },
     "execution_count": 177,
     "metadata": {},
     "output_type": "execute_result"
    }
   ],
   "source": [
    "hn_df = pd.DataFrame(hn_clean)\n",
    "hn_df.head(5)"
   ]
  },
  {
   "cell_type": "code",
   "execution_count": 178,
   "metadata": {},
   "outputs": [
    {
     "name": "stdout",
     "output_type": "stream",
     "text": [
      "object\n"
     ]
    }
   ],
   "source": [
    "tags = hn_df.tags\n",
    "print(tags.dtype)"
   ]
  },
  {
   "cell_type": "code",
   "execution_count": 179,
   "metadata": {},
   "outputs": [
    {
     "name": "stdout",
     "output_type": "stream",
     "text": [
      "<class 'list'>    35806\n",
      "Name: tags, dtype: int64\n"
     ]
    }
   ],
   "source": [
    "tags_types = tags.apply(type)\n",
    "type_counts = tags_types.value_counts(dropna=False)\n",
    "print(type_counts)"
   ]
  },
  {
   "cell_type": "code",
   "execution_count": 180,
   "metadata": {},
   "outputs": [
    {
     "name": "stdout",
     "output_type": "stream",
     "text": [
      "3    33459\n",
      "4     2347\n",
      "Name: tags, dtype: int64\n"
     ]
    }
   ],
   "source": [
    "tags_types = tags.apply(len)\n",
    "type_lengths = tags_types.value_counts(dropna=False)\n",
    "print(type_lengths)"
   ]
  },
  {
   "cell_type": "markdown",
   "metadata": {},
   "source": [
    "##### Boolean mask to filter rows with 4 tags "
   ]
  },
  {
   "cell_type": "code",
   "execution_count": 181,
   "metadata": {},
   "outputs": [],
   "source": [
    "bm = tags.apply(len) == 4"
   ]
  },
  {
   "cell_type": "code",
   "execution_count": 182,
   "metadata": {},
   "outputs": [
    {
     "data": {
      "text/plain": [
       "43       [story, author_alamgir_mand, story_7813869, sh...\n",
       "86         [story, author_cweagans, story_7812404, ask_hn]\n",
       "104      [story, author_nightstrike789, story_7812099, ...\n",
       "107      [story, author_ISeemToBeAVerb, story_7812048, ...\n",
       "109         [story, author_Swizec, story_7812018, show_hn]\n",
       "                               ...                        \n",
       "35747      [story, author_rpm4321, story_6994970, show_hn]\n",
       "35759            [story, author_ct, story_6994828, ask_hn]\n",
       "35778    [story, author_ChrisNorstrom, story_6994370, a...\n",
       "35787    [story, author_benjamincburns, story_6994163, ...\n",
       "35792      [story, author_randall, story_6993981, show_hn]\n",
       "Name: tags, Length: 2347, dtype: object"
      ]
     },
     "execution_count": 182,
     "metadata": {},
     "output_type": "execute_result"
    }
   ],
   "source": [
    "tags[bm]"
   ]
  },
  {
   "cell_type": "markdown",
   "metadata": {},
   "source": [
    "##### Lambda function to extract the fourth value in cases where there is one"
   ]
  },
  {
   "cell_type": "code",
   "execution_count": 183,
   "metadata": {},
   "outputs": [],
   "source": [
    "def extract_last_tag(l):\n",
    "    if len(l) == 4:\n",
    "        return l[-1]\n",
    "    else:\n",
    "        return None"
   ]
  },
  {
   "cell_type": "code",
   "execution_count": 184,
   "metadata": {},
   "outputs": [],
   "source": [
    "extract_last_tag = lambda l: l[-1] if len(l) == 4 else None "
   ]
  },
  {
   "cell_type": "code",
   "execution_count": 185,
   "metadata": {},
   "outputs": [],
   "source": [
    "last_tag = tags.apply(extract_last_tag)"
   ]
  },
  {
   "cell_type": "code",
   "execution_count": 186,
   "metadata": {},
   "outputs": [
    {
     "data": {
      "text/plain": [
       "ask_hn     1348\n",
       "show_hn     999\n",
       "Name: tags, dtype: int64"
      ]
     },
     "execution_count": 186,
     "metadata": {},
     "output_type": "execute_result"
    }
   ],
   "source": [
    "last_tag.value_counts()"
   ]
  },
  {
   "cell_type": "code",
   "execution_count": 187,
   "metadata": {},
   "outputs": [],
   "source": [
    "hn_df.tags = last_tag"
   ]
  },
  {
   "cell_type": "code",
   "execution_count": 188,
   "metadata": {},
   "outputs": [
    {
     "data": {
      "text/html": [
       "<div>\n",
       "<style scoped>\n",
       "    .dataframe tbody tr th:only-of-type {\n",
       "        vertical-align: middle;\n",
       "    }\n",
       "\n",
       "    .dataframe tbody tr th {\n",
       "        vertical-align: top;\n",
       "    }\n",
       "\n",
       "    .dataframe thead th {\n",
       "        text-align: right;\n",
       "    }\n",
       "</style>\n",
       "<table border=\"1\" class=\"dataframe\">\n",
       "  <thead>\n",
       "    <tr style=\"text-align: right;\">\n",
       "      <th></th>\n",
       "      <th>author</th>\n",
       "      <th>numComments</th>\n",
       "      <th>points</th>\n",
       "      <th>url</th>\n",
       "      <th>storyText</th>\n",
       "      <th>createdAt</th>\n",
       "      <th>tags</th>\n",
       "      <th>title</th>\n",
       "      <th>objectId</th>\n",
       "    </tr>\n",
       "  </thead>\n",
       "  <tbody>\n",
       "    <tr>\n",
       "      <th>0</th>\n",
       "      <td>dragongraphics</td>\n",
       "      <td>0</td>\n",
       "      <td>2</td>\n",
       "      <td>http://ashleynolan.co.uk/blog/are-we-getting-t...</td>\n",
       "      <td></td>\n",
       "      <td>2014-05-29T08:07:50Z</td>\n",
       "      <td>None</td>\n",
       "      <td>Are we getting too Sassy? Weighing up micro-op...</td>\n",
       "      <td>7815238</td>\n",
       "    </tr>\n",
       "    <tr>\n",
       "      <th>1</th>\n",
       "      <td>jcr</td>\n",
       "      <td>0</td>\n",
       "      <td>1</td>\n",
       "      <td>http://spectrum.ieee.org/automaton/robotics/ho...</td>\n",
       "      <td></td>\n",
       "      <td>2014-05-29T08:05:58Z</td>\n",
       "      <td>None</td>\n",
       "      <td>Telemba Turns Your Old Roomba and Tablet Into ...</td>\n",
       "      <td>7815234</td>\n",
       "    </tr>\n",
       "    <tr>\n",
       "      <th>2</th>\n",
       "      <td>callum85</td>\n",
       "      <td>0</td>\n",
       "      <td>1</td>\n",
       "      <td>http://online.wsj.com/articles/apple-to-buy-be...</td>\n",
       "      <td></td>\n",
       "      <td>2014-05-29T08:05:06Z</td>\n",
       "      <td>None</td>\n",
       "      <td>Apple Agrees to Buy Beats for $3 Billion</td>\n",
       "      <td>7815230</td>\n",
       "    </tr>\n",
       "    <tr>\n",
       "      <th>3</th>\n",
       "      <td>d3v3r0</td>\n",
       "      <td>0</td>\n",
       "      <td>1</td>\n",
       "      <td>http://alexsblog.org/2014/05/29/dont-wait-for-...</td>\n",
       "      <td></td>\n",
       "      <td>2014-05-29T08:00:08Z</td>\n",
       "      <td>None</td>\n",
       "      <td>Don’t wait for inspiration</td>\n",
       "      <td>7815222</td>\n",
       "    </tr>\n",
       "    <tr>\n",
       "      <th>4</th>\n",
       "      <td>timmipetit</td>\n",
       "      <td>0</td>\n",
       "      <td>1</td>\n",
       "      <td>http://techcrunch.com/2014/05/28/hackerone-get...</td>\n",
       "      <td></td>\n",
       "      <td>2014-05-29T07:46:19Z</td>\n",
       "      <td>None</td>\n",
       "      <td>HackerOne Get $9M In Series A Funding To Build...</td>\n",
       "      <td>7815191</td>\n",
       "    </tr>\n",
       "  </tbody>\n",
       "</table>\n",
       "</div>"
      ],
      "text/plain": [
       "           author  numComments  points  \\\n",
       "0  dragongraphics            0       2   \n",
       "1             jcr            0       1   \n",
       "2        callum85            0       1   \n",
       "3          d3v3r0            0       1   \n",
       "4      timmipetit            0       1   \n",
       "\n",
       "                                                 url storyText  \\\n",
       "0  http://ashleynolan.co.uk/blog/are-we-getting-t...             \n",
       "1  http://spectrum.ieee.org/automaton/robotics/ho...             \n",
       "2  http://online.wsj.com/articles/apple-to-buy-be...             \n",
       "3  http://alexsblog.org/2014/05/29/dont-wait-for-...             \n",
       "4  http://techcrunch.com/2014/05/28/hackerone-get...             \n",
       "\n",
       "              createdAt  tags  \\\n",
       "0  2014-05-29T08:07:50Z  None   \n",
       "1  2014-05-29T08:05:58Z  None   \n",
       "2  2014-05-29T08:05:06Z  None   \n",
       "3  2014-05-29T08:00:08Z  None   \n",
       "4  2014-05-29T07:46:19Z  None   \n",
       "\n",
       "                                               title objectId  \n",
       "0  Are we getting too Sassy? Weighing up micro-op...  7815238  \n",
       "1  Telemba Turns Your Old Roomba and Tablet Into ...  7815234  \n",
       "2           Apple Agrees to Buy Beats for $3 Billion  7815230  \n",
       "3                         Don’t wait for inspiration  7815222  \n",
       "4  HackerOne Get $9M In Series A Funding To Build...  7815191  "
      ]
     },
     "execution_count": 188,
     "metadata": {},
     "output_type": "execute_result"
    }
   ],
   "source": [
    "hn_df.head()"
   ]
  },
  {
   "cell_type": "code",
   "execution_count": 189,
   "metadata": {},
   "outputs": [
    {
     "data": {
      "text/plain": [
       "0        True\n",
       "1        True\n",
       "2        True\n",
       "3        True\n",
       "4        True\n",
       "         ... \n",
       "35801    True\n",
       "35802    True\n",
       "35803    True\n",
       "35804    True\n",
       "35805    True\n",
       "Name: tags, Length: 35806, dtype: bool"
      ]
     },
     "execution_count": 189,
     "metadata": {},
     "output_type": "execute_result"
    }
   ],
   "source": [
    "hn_df.tags.isnull()"
   ]
  },
  {
   "cell_type": "code",
   "execution_count": 190,
   "metadata": {},
   "outputs": [
    {
     "data": {
      "text/html": [
       "<div>\n",
       "<style scoped>\n",
       "    .dataframe tbody tr th:only-of-type {\n",
       "        vertical-align: middle;\n",
       "    }\n",
       "\n",
       "    .dataframe tbody tr th {\n",
       "        vertical-align: top;\n",
       "    }\n",
       "\n",
       "    .dataframe thead th {\n",
       "        text-align: right;\n",
       "    }\n",
       "</style>\n",
       "<table border=\"1\" class=\"dataframe\">\n",
       "  <thead>\n",
       "    <tr style=\"text-align: right;\">\n",
       "      <th></th>\n",
       "      <th>author</th>\n",
       "      <th>numComments</th>\n",
       "      <th>points</th>\n",
       "      <th>url</th>\n",
       "      <th>storyText</th>\n",
       "      <th>createdAt</th>\n",
       "      <th>tags</th>\n",
       "      <th>title</th>\n",
       "      <th>objectId</th>\n",
       "    </tr>\n",
       "  </thead>\n",
       "  <tbody>\n",
       "    <tr>\n",
       "      <th>0</th>\n",
       "      <td>dragongraphics</td>\n",
       "      <td>0</td>\n",
       "      <td>2</td>\n",
       "      <td>http://ashleynolan.co.uk/blog/are-we-getting-t...</td>\n",
       "      <td></td>\n",
       "      <td>2014-05-29T08:07:50Z</td>\n",
       "      <td>None</td>\n",
       "      <td>Are we getting too Sassy? Weighing up micro-op...</td>\n",
       "      <td>7815238</td>\n",
       "    </tr>\n",
       "    <tr>\n",
       "      <th>1</th>\n",
       "      <td>jcr</td>\n",
       "      <td>0</td>\n",
       "      <td>1</td>\n",
       "      <td>http://spectrum.ieee.org/automaton/robotics/ho...</td>\n",
       "      <td></td>\n",
       "      <td>2014-05-29T08:05:58Z</td>\n",
       "      <td>None</td>\n",
       "      <td>Telemba Turns Your Old Roomba and Tablet Into ...</td>\n",
       "      <td>7815234</td>\n",
       "    </tr>\n",
       "    <tr>\n",
       "      <th>2</th>\n",
       "      <td>callum85</td>\n",
       "      <td>0</td>\n",
       "      <td>1</td>\n",
       "      <td>http://online.wsj.com/articles/apple-to-buy-be...</td>\n",
       "      <td></td>\n",
       "      <td>2014-05-29T08:05:06Z</td>\n",
       "      <td>None</td>\n",
       "      <td>Apple Agrees to Buy Beats for $3 Billion</td>\n",
       "      <td>7815230</td>\n",
       "    </tr>\n",
       "  </tbody>\n",
       "</table>\n",
       "</div>"
      ],
      "text/plain": [
       "           author  numComments  points  \\\n",
       "0  dragongraphics            0       2   \n",
       "1             jcr            0       1   \n",
       "2        callum85            0       1   \n",
       "\n",
       "                                                 url storyText  \\\n",
       "0  http://ashleynolan.co.uk/blog/are-we-getting-t...             \n",
       "1  http://spectrum.ieee.org/automaton/robotics/ho...             \n",
       "2  http://online.wsj.com/articles/apple-to-buy-be...             \n",
       "\n",
       "              createdAt  tags  \\\n",
       "0  2014-05-29T08:07:50Z  None   \n",
       "1  2014-05-29T08:05:58Z  None   \n",
       "2  2014-05-29T08:05:06Z  None   \n",
       "\n",
       "                                               title objectId  \n",
       "0  Are we getting too Sassy? Weighing up micro-op...  7815238  \n",
       "1  Telemba Turns Your Old Roomba and Tablet Into ...  7815234  \n",
       "2           Apple Agrees to Buy Beats for $3 Billion  7815230  "
      ]
     },
     "execution_count": 190,
     "metadata": {},
     "output_type": "execute_result"
    }
   ],
   "source": [
    "hn_df[hn_df.tags.isnull()].head(3)"
   ]
  },
  {
   "cell_type": "code",
   "execution_count": 191,
   "metadata": {},
   "outputs": [
    {
     "data": {
      "text/html": [
       "<div>\n",
       "<style scoped>\n",
       "    .dataframe tbody tr th:only-of-type {\n",
       "        vertical-align: middle;\n",
       "    }\n",
       "\n",
       "    .dataframe tbody tr th {\n",
       "        vertical-align: top;\n",
       "    }\n",
       "\n",
       "    .dataframe thead th {\n",
       "        text-align: right;\n",
       "    }\n",
       "</style>\n",
       "<table border=\"1\" class=\"dataframe\">\n",
       "  <thead>\n",
       "    <tr style=\"text-align: right;\">\n",
       "      <th></th>\n",
       "      <th>author</th>\n",
       "      <th>numComments</th>\n",
       "      <th>points</th>\n",
       "      <th>url</th>\n",
       "      <th>storyText</th>\n",
       "      <th>createdAt</th>\n",
       "      <th>tags</th>\n",
       "      <th>title</th>\n",
       "      <th>objectId</th>\n",
       "    </tr>\n",
       "  </thead>\n",
       "  <tbody>\n",
       "    <tr>\n",
       "      <th>43</th>\n",
       "      <td>alamgir_mand</td>\n",
       "      <td>0</td>\n",
       "      <td>3</td>\n",
       "      <td>https://www.tapresearch.com/app-development-re...</td>\n",
       "      <td></td>\n",
       "      <td>2014-05-29T00:19:19Z</td>\n",
       "      <td>show_hn</td>\n",
       "      <td>Show HN: Test your App Store Assets Before You...</td>\n",
       "      <td>7813869</td>\n",
       "    </tr>\n",
       "    <tr>\n",
       "      <th>86</th>\n",
       "      <td>cweagans</td>\n",
       "      <td>4</td>\n",
       "      <td>1</td>\n",
       "      <td></td>\n",
       "      <td>As a followup to my question from a few days a...</td>\n",
       "      <td>2014-05-28T19:51:02Z</td>\n",
       "      <td>ask_hn</td>\n",
       "      <td>Ask HN: New technical cofounder. How should ow...</td>\n",
       "      <td>7812404</td>\n",
       "    </tr>\n",
       "    <tr>\n",
       "      <th>104</th>\n",
       "      <td>nightstrike789</td>\n",
       "      <td>0</td>\n",
       "      <td>1</td>\n",
       "      <td></td>\n",
       "      <td>I am working on a personal project to help peo...</td>\n",
       "      <td>2014-05-28T18:57:32Z</td>\n",
       "      <td>ask_hn</td>\n",
       "      <td>Ask HN: Categorizing company cultures</td>\n",
       "      <td>7812099</td>\n",
       "    </tr>\n",
       "  </tbody>\n",
       "</table>\n",
       "</div>"
      ],
      "text/plain": [
       "             author  numComments  points  \\\n",
       "43     alamgir_mand            0       3   \n",
       "86         cweagans            4       1   \n",
       "104  nightstrike789            0       1   \n",
       "\n",
       "                                                   url  \\\n",
       "43   https://www.tapresearch.com/app-development-re...   \n",
       "86                                                       \n",
       "104                                                      \n",
       "\n",
       "                                             storyText             createdAt  \\\n",
       "43                                                      2014-05-29T00:19:19Z   \n",
       "86   As a followup to my question from a few days a...  2014-05-28T19:51:02Z   \n",
       "104  I am working on a personal project to help peo...  2014-05-28T18:57:32Z   \n",
       "\n",
       "        tags                                              title objectId  \n",
       "43   show_hn  Show HN: Test your App Store Assets Before You...  7813869  \n",
       "86    ask_hn  Ask HN: New technical cofounder. How should ow...  7812404  \n",
       "104   ask_hn              Ask HN: Categorizing company cultures  7812099  "
      ]
     },
     "execution_count": 191,
     "metadata": {},
     "output_type": "execute_result"
    }
   ],
   "source": [
    "hn_df[hn_df.tags.notnull()].head(3)"
   ]
  }
 ],
 "metadata": {
  "kernelspec": {
   "display_name": "Python 3",
   "language": "python",
   "name": "python3"
  },
  "language_info": {
   "codemirror_mode": {
    "name": "ipython",
    "version": 3
   },
   "file_extension": ".py",
   "mimetype": "text/x-python",
   "name": "python",
   "nbconvert_exporter": "python",
   "pygments_lexer": "ipython3",
   "version": "3.7.1"
  }
 },
 "nbformat": 4,
 "nbformat_minor": 4
}
