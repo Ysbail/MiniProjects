{
 "cells": [
  {
   "cell_type": "code",
   "execution_count": 1,
   "metadata": {},
   "outputs": [],
   "source": [
    "import pandas as pd\n",
    "import re\n",
    "import matplotlib.pyplot as plt\n",
    "%matplotlib inline\n",
    "import seaborn as sns\n",
    "import numpy as np"
   ]
  },
  {
   "cell_type": "code",
   "execution_count": 2,
   "metadata": {},
   "outputs": [],
   "source": [
    "pd.set_option('display.max_rows', 500)\n",
    "pd.set_option('display.max_columns', 500)\n",
    "pd.set_option('display.width', 1000)"
   ]
  },
  {
   "cell_type": "markdown",
   "metadata": {},
   "source": [
    "This project got no panda, numpy and other libraries for a specific purpose.\n",
    "\n",
    "In this project I'll be working on data from site 'Hacker News'. I am taking the data from Kaggle from this project. The dataset gotabout 300 000 rows."
   ]
  },
  {
   "cell_type": "markdown",
   "metadata": {},
   "source": [
    "|coumn|description|\n",
    "|-----|-----|\n",
    "|id|id from Hacker News|\n",
    "|title|title of the post|\n",
    "|url|rul that the post link to|\n",
    "|num_points|number of point acquired|\n",
    "|num_comment|number of comment|\n",
    "|author|username of the author|\n",
    "|created_at|date and time the post was created|"
   ]
  },
  {
   "cell_type": "markdown",
   "metadata": {},
   "source": [
    "### Import dataset"
   ]
  },
  {
   "cell_type": "code",
   "execution_count": 3,
   "metadata": {},
   "outputs": [],
   "source": [
    "hn = pd.read_csv('hackers_news.csv')"
   ]
  },
  {
   "cell_type": "markdown",
   "metadata": {},
   "source": [
    "### Make a list from a title column"
   ]
  },
  {
   "cell_type": "code",
   "execution_count": 4,
   "metadata": {},
   "outputs": [
    {
     "data": {
      "text/plain": [
       "['You have two days to comment if you want stem cells to be classified as your own',\n",
       " 'SQLAR  the SQLite Archiver',\n",
       " 'What if we just printed a flatscreen television on the side of our boxes?']"
      ]
     },
     "execution_count": 4,
     "metadata": {},
     "output_type": "execute_result"
    }
   ],
   "source": [
    "titles = hn['title'].tolist()\n",
    "titles[:3]"
   ]
  },
  {
   "cell_type": "markdown",
   "metadata": {},
   "source": [
    "### Handling cases"
   ]
  },
  {
   "cell_type": "code",
   "execution_count": 5,
   "metadata": {},
   "outputs": [],
   "source": [
    "pattern = '[Pp]ython'"
   ]
  },
  {
   "cell_type": "code",
   "execution_count": 6,
   "metadata": {},
   "outputs": [],
   "source": [
    "python_mentions = 0\n",
    "for item in titles:\n",
    "    if re.search(pattern, item):\n",
    "        python_mentions += 1"
   ]
  },
  {
   "cell_type": "code",
   "execution_count": 7,
   "metadata": {},
   "outputs": [
    {
     "data": {
      "text/plain": [
       "2572"
      ]
     },
     "execution_count": 7,
     "metadata": {},
     "output_type": "execute_result"
    }
   ],
   "source": [
    "python_mentions"
   ]
  },
  {
   "cell_type": "code",
   "execution_count": 8,
   "metadata": {},
   "outputs": [
    {
     "data": {
      "text/plain": [
       "2572"
      ]
     },
     "execution_count": 8,
     "metadata": {},
     "output_type": "execute_result"
    }
   ],
   "source": [
    "titles = hn.title\n",
    "python_mentions = titles.str.contains(pattern).sum()\n",
    "python_mentions"
   ]
  },
  {
   "cell_type": "code",
   "execution_count": 9,
   "metadata": {},
   "outputs": [
    {
     "data": {
      "text/plain": [
       "0         You have two days to comment if you want stem ...\n",
       "1                                SQLAR  the SQLite Archiver\n",
       "2         What if we just printed a flatscreen televisio...\n",
       "3                                         algorithmic music\n",
       "4         How the Data Vault Enables the Next-Gen Data W...\n",
       "                                ...                        \n",
       "293114          Ask HN: What is/are your favorite quote(s)?\n",
       "293115    Attention and awareness in stage magic: turnin...\n",
       "293116                    Dying vets fuck you letter (2013)\n",
       "293117    PHP 7 Coolest Features: Space Ships, Type Hint...\n",
       "293118    Toyota Establishes Research Centers with MIT a...\n",
       "Name: title, Length: 286298, dtype: object"
      ]
     },
     "execution_count": 9,
     "metadata": {},
     "output_type": "execute_result"
    }
   ],
   "source": [
    "ruby_titles = hn.title[hn.title.str.contains('[Rruby]')]\n",
    "ruby_titles"
   ]
  },
  {
   "cell_type": "code",
   "execution_count": null,
   "metadata": {},
   "outputs": [],
   "source": []
  },
  {
   "cell_type": "code",
   "execution_count": 10,
   "metadata": {},
   "outputs": [
    {
     "data": {
      "text/plain": [
       "0         False\n",
       "1         False\n",
       "2         False\n",
       "3         False\n",
       "4         False\n",
       "          ...  \n",
       "293114    False\n",
       "293115    False\n",
       "293116    False\n",
       "293117    False\n",
       "293118    False\n",
       "Name: title, Length: 293119, dtype: bool"
      ]
     },
     "execution_count": 10,
     "metadata": {},
     "output_type": "execute_result"
    }
   ],
   "source": [
    "email_bool = titles.str.contains('e-{0,1}mail')\n",
    "email_bool"
   ]
  },
  {
   "cell_type": "code",
   "execution_count": 11,
   "metadata": {},
   "outputs": [
    {
     "data": {
      "text/plain": [
       "873"
      ]
     },
     "execution_count": 11,
     "metadata": {},
     "output_type": "execute_result"
    }
   ],
   "source": [
    "email_bool.sum()"
   ]
  },
  {
   "cell_type": "code",
   "execution_count": 12,
   "metadata": {},
   "outputs": [
    {
     "data": {
      "text/plain": [
       "90        This is what happens when you reply to spam email\n",
       "173                  Correct way to validate email adresses\n",
       "1010      Obama used a pseudonym in emails with Clinton,...\n",
       "1012      The most broken part of your user experience i...\n",
       "1029                 Visualization of Clinton email scandal\n",
       "                                ...                        \n",
       "291942    U.S., tech industry fight over email privacy h...\n",
       "292071    U.S., tech industry fight over email privacy h...\n",
       "292094    Why you shouldn't use disposable email address...\n",
       "292341    Ex-Tesla engineer could face prison for email ...\n",
       "292778    Show HN: LeadStage emaildomaindb  Flag email a...\n",
       "Name: title, Length: 873, dtype: object"
      ]
     },
     "execution_count": 12,
     "metadata": {},
     "output_type": "execute_result"
    }
   ],
   "source": [
    "email_titles = titles[email_bool]\n",
    "email_titles"
   ]
  },
  {
   "cell_type": "markdown",
   "metadata": {},
   "source": [
    "### Handling square brackets"
   ]
  },
  {
   "cell_type": "code",
   "execution_count": 13,
   "metadata": {},
   "outputs": [],
   "source": [
    "pattern = '\\[\\w+\\]'"
   ]
  },
  {
   "cell_type": "code",
   "execution_count": 14,
   "metadata": {},
   "outputs": [
    {
     "data": {
      "text/plain": [
       "0         False\n",
       "1         False\n",
       "2         False\n",
       "3         False\n",
       "4         False\n",
       "          ...  \n",
       "293114    False\n",
       "293115     True\n",
       "293116    False\n",
       "293117    False\n",
       "293118    False\n",
       "Name: title, Length: 293119, dtype: bool"
      ]
     },
     "execution_count": 14,
     "metadata": {},
     "output_type": "execute_result"
    }
   ],
   "source": [
    "tag_titles = titles.str.contains(pattern)\n",
    "tag_titles"
   ]
  },
  {
   "cell_type": "code",
   "execution_count": 15,
   "metadata": {},
   "outputs": [
    {
     "data": {
      "text/plain": [
       "5871"
      ]
     },
     "execution_count": 15,
     "metadata": {},
     "output_type": "execute_result"
    }
   ],
   "source": [
    "tag_titles.sum()"
   ]
  },
  {
   "cell_type": "code",
   "execution_count": 16,
   "metadata": {},
   "outputs": [
    {
     "data": {
      "text/plain": [
       "36     Cuba's DIY Inventions from 30 Years of Isolati...\n",
       "114    A Possible Future of Software Development by  ...\n",
       "153                               FreeBSD Issue #1 [pdf]\n",
       "154       Proprietary versus open instruction sets [pdf]\n",
       "217                      Forever Alone Programming [FAP]\n",
       "Name: title, dtype: object"
      ]
     },
     "execution_count": 16,
     "metadata": {},
     "output_type": "execute_result"
    }
   ],
   "source": [
    "titles[titles.str.contains(pattern)].head()"
   ]
  },
  {
   "cell_type": "code",
   "execution_count": 17,
   "metadata": {},
   "outputs": [],
   "source": [
    "titles = hn.title\n",
    "pattern = r'\\[(\\w+)\\]'"
   ]
  },
  {
   "cell_type": "code",
   "execution_count": 18,
   "metadata": {},
   "outputs": [],
   "source": [
    "pattern_matches = titles.str.extract(pattern)"
   ]
  },
  {
   "cell_type": "code",
   "execution_count": 19,
   "metadata": {},
   "outputs": [
    {
     "name": "stdout",
     "output_type": "stream",
     "text": [
      "On the reception and detection of pseudo-profound bullshit [pdf]                   15\n",
      "Employee benefits at Basecamp                                                      15\n",
      "Unwinding Ubers Most Efficient Service                                             15\n",
      "How Zano Raised Millions on Kickstarter and Left Most Backers with Nothing         12\n",
      "Letter of Resignation from the Palo Alto Planning and Transportation Commission    12\n",
      "                                                                                   ..\n",
      "Show HN: Automated Craigslist Poster via Selenium/Gmail API                         1\n",
      "How to Make Your Own Homemade Clock That Isn't a Bomb                               1\n",
      "To find true love, it helps to understand the economics underpinning the search     1\n",
      "Verifying gpg keys                                                                  1\n",
      "How women started to smoke                                                          1\n",
      "Name: title, Length: 269452, dtype: int64\n"
     ]
    }
   ],
   "source": [
    "print(titles.value_counts())"
   ]
  },
  {
   "cell_type": "code",
   "execution_count": 20,
   "metadata": {},
   "outputs": [
    {
     "data": {
      "text/plain": [
       "pdf                3531\n",
       "video              1524\n",
       "audio                65\n",
       "2015                 23\n",
       "Infographic          18\n",
       "2014                 15\n",
       "2013                 12\n",
       "Video                10\n",
       "Podcast               9\n",
       "Tutorial              9\n",
       "podcast               9\n",
       "2012                  8\n",
       "iOS                   8\n",
       "slides                7\n",
       "32c3                  7\n",
       "Android               6\n",
       "fiction               6\n",
       "Blog                  6\n",
       "infographic           6\n",
       "Python                5\n",
       "YouTube               5\n",
       "beta                  5\n",
       "Beta                  5\n",
       "SaaS                  5\n",
       "screencast            5\n",
       "2011                  5\n",
       "JavaScript            4\n",
       "Rust                  4\n",
       "German                4\n",
       "comic                 4\n",
       "ANN                   4\n",
       "Interview             3\n",
       "Poll                  3\n",
       "webinar               3\n",
       "TLS                   3\n",
       "repost                3\n",
       "Ebook                 3\n",
       "Screencast            3\n",
       "React                 3\n",
       "live                  3\n",
       "updated               3\n",
       "Satire                3\n",
       "Aristotle             3\n",
       "videos                3\n",
       "Updated               3\n",
       "image                 3\n",
       "Audio                 3\n",
       "Interactive           3\n",
       "Book                  3\n",
       "golang                3\n",
       "Live                  3\n",
       "LIVE                  3\n",
       "Spanish               3\n",
       "fixed                 3\n",
       "Scientific            3\n",
       "Go                    3\n",
       "VIDEO                 3\n",
       "US                    3\n",
       "1994                  3\n",
       "PDF                   3\n",
       "eBook                 3\n",
       "Review                3\n",
       "PHP                   2\n",
       "ebook                 2\n",
       "Excerpt               2\n",
       "UPDATED               2\n",
       "Update                2\n",
       "USA                   2\n",
       "survey                2\n",
       "2010                  2\n",
       "NSFW                  2\n",
       "ab                    2\n",
       "Forbes                2\n",
       "ask                   2\n",
       "Giveaway              2\n",
       "WEBINAR               2\n",
       "Slideshare            2\n",
       "French                2\n",
       "Solved                2\n",
       "presentation          2\n",
       "x                     2\n",
       "Quora                 2\n",
       "Vid                   2\n",
       "security              2\n",
       "ANNOUNCE              2\n",
       "SlideShare            2\n",
       "mp3                   2\n",
       "python                2\n",
       "Study                 2\n",
       "BBC                   2\n",
       "dot                   2\n",
       "Golang                2\n",
       "Hack                  2\n",
       "Infographics          2\n",
       "2009                  2\n",
       "Discussion            2\n",
       "scientific            2\n",
       "5                     2\n",
       "SLIDES                2\n",
       "Documentary           2\n",
       "Concept               2\n",
       "Wikipedia             2\n",
       "1986                  2\n",
       "WIP                   2\n",
       "Elixir                2\n",
       "INFOGRAPHIC           2\n",
       "App                   2\n",
       "2002                  2\n",
       "vid                   2\n",
       "TensorFlow            2\n",
       "song                  2\n",
       "anything              2\n",
       "Tip                   2\n",
       "Ethereum              2\n",
       "Twitter               2\n",
       "2008                  2\n",
       "2016                  2\n",
       "VR                    2\n",
       "paper                 2\n",
       "X                     2\n",
       "2004                  2\n",
       "interactive           2\n",
       "1996                  2\n",
       "translated            1\n",
       "Computerphile         1\n",
       "dotfiles              1\n",
       "Smart                 1\n",
       "app                   1\n",
       "Official              1\n",
       "CMD                   1\n",
       "interview             1\n",
       "SFW                   1\n",
       "Branson               1\n",
       "2001                  1\n",
       "social                1\n",
       "RFC                   1\n",
       "Pdf                   1\n",
       "A                     1\n",
       "Funny                 1\n",
       "Competition           1\n",
       "JS                    1\n",
       "mirror                1\n",
       "BOOK                  1\n",
       "Ubuntu                1\n",
       "Help                  1\n",
       "83                    1\n",
       "rooted                1\n",
       "flowchart             1\n",
       "c                     1\n",
       "DigitalOcean          1\n",
       "Report                1\n",
       "PODCAST               1\n",
       "CSRF                  1\n",
       "Urgent                1\n",
       "Full                  1\n",
       "T                     1\n",
       "1918                  1\n",
       "Objective             1\n",
       "docx                  1\n",
       "MAP                   1\n",
       "ZenHub                1\n",
       "webcomics             1\n",
       "Scaleway              1\n",
       "1                     1\n",
       "battery               1\n",
       "The                   1\n",
       "Slides                1\n",
       "slideshow             1\n",
       "translation           1\n",
       "Verizon               1\n",
       "Denmark               1\n",
       "Longform              1\n",
       "img                   1\n",
       "NEW                   1\n",
       "viz                   1\n",
       "Chrome                1\n",
       "blank                 1\n",
       "Snowplow              1\n",
       "Alleged               1\n",
       "UK                    1\n",
       "vimeo                 1\n",
       "gist                  1\n",
       "Udacity               1\n",
       "Security              1\n",
       "Swift                 1\n",
       "Seattle               1\n",
       "Fisherman             1\n",
       "on                    1\n",
       "Google                1\n",
       "Tesla                 1\n",
       "linux                 1\n",
       "QUIZ                  1\n",
       "CSC                   1\n",
       "NLG                   1\n",
       "simulation            1\n",
       "Their                 1\n",
       "Wikidata              1\n",
       "India                 1\n",
       "NASA                  1\n",
       "Error                 1\n",
       "codeplex              1\n",
       "Flash                 1\n",
       "gif                   1\n",
       "media                 1\n",
       "SCIENTIFIC            1\n",
       "Dev                   1\n",
       "Pirate                1\n",
       "game                  1\n",
       "Skinnywhale           1\n",
       "coffee                1\n",
       "course                1\n",
       "ES                    1\n",
       "h                     1\n",
       "APP                   1\n",
       "V                     1\n",
       "TEARDOWN              1\n",
       "Today                 1\n",
       "Rendering             1\n",
       "DEV                   1\n",
       "1993                  1\n",
       "DRAFT                 1\n",
       "Harvard               1\n",
       "CHINA                 1\n",
       "poll                  1\n",
       "EPS                   1\n",
       "jpg                   1\n",
       "FIXED                 1\n",
       "TechCrunch            1\n",
       "Text                  1\n",
       "Asciicast             1\n",
       "LWN                   1\n",
       "topsmnews             1\n",
       "Survey                1\n",
       "PR                    1\n",
       "Poem                  1\n",
       "Reddit                1\n",
       "PERISCOPE             1\n",
       "crash                 1\n",
       "fundraiser            1\n",
       "analytics             1\n",
       "Request               1\n",
       "Final                 1\n",
       "Question              1\n",
       "Remastered            1\n",
       "Dropbox               1\n",
       "code                  1\n",
       "Infograph             1\n",
       "release               1\n",
       "transcript            1\n",
       "POLL                  1\n",
       "Petition              1\n",
       "spoilers              1\n",
       "List                  1\n",
       "Automotive            1\n",
       "stable                1\n",
       "Win10                 1\n",
       "programming           1\n",
       "1977                  1\n",
       "TelegramBot           1\n",
       "tutorial              1\n",
       "duplicate             1\n",
       "Snapumentary          1\n",
       "go                    1\n",
       "ps                    1\n",
       "board                 1\n",
       "Blueprint             1\n",
       "1978                  1\n",
       "Wall                  1\n",
       "Finnish               1\n",
       "Australia             1\n",
       "Games                 1\n",
       "Videos                1\n",
       "old                   1\n",
       "Paper                 1\n",
       "reddit                1\n",
       "FOSDEM                1\n",
       "CSS                   1\n",
       "Preprint              1\n",
       "Experimental          1\n",
       "better                1\n",
       "yourtube              1\n",
       "HBR                   1\n",
       "raspberrypi           1\n",
       "our                   1\n",
       "Atellier              1\n",
       "Galactic              1\n",
       "GOST                  1\n",
       "a16z                  1\n",
       "mtgox                 1\n",
       "ChainAnchor           1\n",
       "at                    1\n",
       "2                     1\n",
       "LinkedIn              1\n",
       "equation              1\n",
       "1984                  1\n",
       "screenshot            1\n",
       "Presentation          1\n",
       "another               1\n",
       "spreadsheet           1\n",
       "paywall               1\n",
       "GIF                   1\n",
       "Human                 1\n",
       "Puzzle                1\n",
       "CNN                   1\n",
       "Australian            1\n",
       "Part1                 1\n",
       "Procedurally          1\n",
       "bench                 1\n",
       "are                   1\n",
       "SpaceX                1\n",
       "Hasbro                1\n",
       "3                     1\n",
       "brain                 1\n",
       "AUDIO                 1\n",
       "Ask                   1\n",
       "portuguese            1\n",
       "actually              1\n",
       "Tweetstorm            1\n",
       "IoT                   1\n",
       "Guide                 1\n",
       "proposal              1\n",
       "book                  1\n",
       "thesis                1\n",
       "DLang                 1\n",
       "POD                   1\n",
       "BYU                   1\n",
       "Mummy                 1\n",
       "93                    1\n",
       "all                   1\n",
       "nsfw                  1\n",
       "Windows               1\n",
       "FT                    1\n",
       "NIST                  1\n",
       "Patent                1\n",
       "Photos                1\n",
       "SEC                   1\n",
       "BugBounty             1\n",
       "WiFi                  1\n",
       "big                   1\n",
       "satire                1\n",
       "getsentry             1\n",
       "Raspberry             1\n",
       "DRM                   1\n",
       "1981                  1\n",
       "speakervest           1\n",
       "map                   1\n",
       "openpgp               1\n",
       "PayPal                1\n",
       "Pocket                1\n",
       "DE                    1\n",
       "Apple                 1\n",
       "cheap                 1\n",
       "1h24m                 1\n",
       "OLD                   1\n",
       "Map                   1\n",
       "animation             1\n",
       "WEB                   1\n",
       "4                     1\n",
       "pics                  1\n",
       "nVidia                1\n",
       "heic1610              1\n",
       "FAP                   1\n",
       "BrExit                1\n",
       "Dutch                 1\n",
       "SPA                   1\n",
       "Talk                  1\n",
       "CuriousMarc           1\n",
       "Ofcom                 1\n",
       "Freelancer            1\n",
       "Livestream            1\n",
       "unrelated             1\n",
       "Webinar               1\n",
       "Course                1\n",
       "GatesNotes            1\n",
       "Unauthenticated       1\n",
       "redacted              1\n",
       "Webtasks              1\n",
       "GIT                   1\n",
       "poster                1\n",
       "Offer                 1\n",
       "Fiction               1\n",
       "Demo                  1\n",
       "Vimeo                 1\n",
       "Prime                 1\n",
       "Benchmark             1\n",
       "Challenge             1\n",
       "Big                   1\n",
       "FCC                   1\n",
       "livestream            1\n",
       "LECTURE               1\n",
       "script                1\n",
       "sudo                  1\n",
       "only                  1\n",
       "Mesos                 1\n",
       "60fsp                 1\n",
       "Image                 1\n",
       "npm                   1\n",
       "detainee              1\n",
       "Curated               1\n",
       "government            1\n",
       "ISS                   1\n",
       "Language_1            1\n",
       "Opinion               1\n",
       "talk                  1\n",
       "data                  1\n",
       "ROOT                  1\n",
       "academic              1\n",
       "NYTimes               1\n",
       "S                     1\n",
       "GoLang                1\n",
       "Simulation            1\n",
       "german                1\n",
       "Spoilers              1\n",
       "SVG                   1\n",
       "r                     1\n",
       "WebAppSec             1\n",
       "much                  1\n",
       "Tellform              1\n",
       "photos                1\n",
       "Facebook              1\n",
       "She                   1\n",
       "30c3                  1\n",
       "V8                    1\n",
       "FR                    1\n",
       "FREE                  1\n",
       "subprime              1\n",
       "Roominate             1\n",
       "performance           1\n",
       "Pricing               1\n",
       "sales                 1\n",
       "webcast               1\n",
       "GitHub                1\n",
       "Nuovo                 1\n",
       "sic                   1\n",
       "italian               1\n",
       "RebaseAssister        1\n",
       "MySQL                 1\n",
       "graphic               1\n",
       "png                   1\n",
       "118                   1\n",
       "31c3                  1\n",
       "Adrian                1\n",
       "DeepMind              1\n",
       "CPD                   1\n",
       "02016                 1\n",
       "Name: 0, dtype: int64"
      ]
     },
     "execution_count": 20,
     "metadata": {},
     "output_type": "execute_result"
    }
   ],
   "source": [
    "pattern_matches[0].value_counts()"
   ]
  },
  {
   "cell_type": "markdown",
   "metadata": {},
   "source": [
    "### Convenience previews "
   ]
  },
  {
   "cell_type": "code",
   "execution_count": 21,
   "metadata": {},
   "outputs": [],
   "source": [
    "def first_10_matches(pattern):\n",
    "    \"\"\"\n",
    "    Return the first 10 story titles that match\n",
    "    the provided regular expression\n",
    "    \"\"\"\n",
    "    all_matches = titles[titles.str.contains(pattern)]\n",
    "    first_10 = all_matches.head(10)\n",
    "    return first_10"
   ]
  },
  {
   "cell_type": "markdown",
   "metadata": {},
   "source": [
    "### Creation of more complex designs"
   ]
  },
  {
   "cell_type": "code",
   "execution_count": 22,
   "metadata": {},
   "outputs": [],
   "source": [
    "pattern = r'[Jj]ava[^Ss]'"
   ]
  },
  {
   "cell_type": "code",
   "execution_count": 23,
   "metadata": {},
   "outputs": [
    {
     "data": {
      "text/plain": [
       "734     Show HN: New and Painless Couchbase Java SDK W...\n",
       "1244                2016 JavaOne Intel Keynote  32mn Talk\n",
       "1803                  RxJava library for Jersey framework\n",
       "2569    A Demo App of Zhihu Daily Based on MVP and RxJ...\n",
       "2592       Swift versus Java: the bitset performance test\n",
       "2919                            Scala VS Java: fresh view\n",
       "3590    HeapStats: JVMTI agent and JavaFX analyzer for...\n",
       "3904    Red Hat Links Java to Microsoft's Visual Studi...\n",
       "4126    ?Oracle pledges continued support for Java and...\n",
       "4223    How Did We End Up with Java Running Inside of ...\n",
       "Name: title, dtype: object"
      ]
     },
     "execution_count": 23,
     "metadata": {},
     "output_type": "execute_result"
    }
   ],
   "source": [
    "first_10_matches(pattern)"
   ]
  },
  {
   "cell_type": "code",
   "execution_count": 24,
   "metadata": {},
   "outputs": [],
   "source": [
    "java_titles = titles[titles.str.contains(pattern)]"
   ]
  },
  {
   "cell_type": "code",
   "execution_count": 25,
   "metadata": {},
   "outputs": [],
   "source": [
    "pattern = r'\\b[Jj]ava\\b'"
   ]
  },
  {
   "cell_type": "code",
   "execution_count": 26,
   "metadata": {},
   "outputs": [],
   "source": [
    "java_titles = titles.str.contains(pattern)"
   ]
  },
  {
   "cell_type": "code",
   "execution_count": 27,
   "metadata": {},
   "outputs": [
    {
     "data": {
      "text/plain": [
       "734     Show HN: New and Painless Couchbase Java SDK W...\n",
       "2592       Swift versus Java: the bitset performance test\n",
       "2919                            Scala VS Java: fresh view\n",
       "3584                                    Var comes to Java\n",
       "3904    Red Hat Links Java to Microsoft's Visual Studi...\n",
       "4126    ?Oracle pledges continued support for Java and...\n",
       "4223    How Did We End Up with Java Running Inside of ...\n",
       "4315    Java Language Support for Visual Studio Code H...\n",
       "4512    How to find and fix memory leaks in your Java ...\n",
       "4535       A Beginners Guide to Java Internationalization\n",
       "Name: title, dtype: object"
      ]
     },
     "execution_count": 27,
     "metadata": {},
     "output_type": "execute_result"
    }
   ],
   "source": [
    "first_10_matches(pattern)"
   ]
  },
  {
   "cell_type": "code",
   "execution_count": 28,
   "metadata": {},
   "outputs": [
    {
     "data": {
      "text/plain": [
       "1130"
      ]
     },
     "execution_count": 28,
     "metadata": {},
     "output_type": "execute_result"
    }
   ],
   "source": [
    "java_titles.sum()"
   ]
  },
  {
   "cell_type": "code",
   "execution_count": 29,
   "metadata": {},
   "outputs": [],
   "source": [
    "pattern_beginning = r'^\\[\\w+\\]'\n",
    "pattern_ending = r'\\[\\w+\\]$'"
   ]
  },
  {
   "cell_type": "code",
   "execution_count": 30,
   "metadata": {},
   "outputs": [
    {
     "data": {
      "text/plain": [
       "304"
      ]
     },
     "execution_count": 30,
     "metadata": {},
     "output_type": "execute_result"
    }
   ],
   "source": [
    "beginning_count = titles.str.contains(pattern_beginning).sum()\n",
    "beginning_count"
   ]
  },
  {
   "cell_type": "code",
   "execution_count": 31,
   "metadata": {},
   "outputs": [
    {
     "data": {
      "text/plain": [
       "5384"
      ]
     },
     "execution_count": 31,
     "metadata": {},
     "output_type": "execute_result"
    }
   ],
   "source": [
    "pattern_ending = titles.str.contains(pattern_ending).sum()\n",
    "pattern_ending"
   ]
  },
  {
   "cell_type": "markdown",
   "metadata": {},
   "source": [
    "### Using flags as parameter"
   ]
  },
  {
   "cell_type": "code",
   "execution_count": 32,
   "metadata": {},
   "outputs": [],
   "source": [
    "email_tests = pd.Series(['email', 'Email', 'e Mail', 'e mail', 'E-mail',\n",
    "              'e-mail', 'eMail', 'E-Mail', 'EMAIL'])"
   ]
  },
  {
   "cell_type": "code",
   "execution_count": 33,
   "metadata": {},
   "outputs": [
    {
     "data": {
      "text/plain": [
       "0     True\n",
       "1     True\n",
       "2    False\n",
       "3    False\n",
       "4    False\n",
       "5    False\n",
       "6     True\n",
       "7    False\n",
       "8     True\n",
       "dtype: bool"
      ]
     },
     "execution_count": 33,
     "metadata": {},
     "output_type": "execute_result"
    }
   ],
   "source": [
    "email_tests.str.contains(r'email', flags=re.I)"
   ]
  },
  {
   "cell_type": "code",
   "execution_count": 34,
   "metadata": {},
   "outputs": [],
   "source": [
    "pattern = r'\\be[\\-\\s]?mail'\n",
    "email_mentions = titles.str.contains(pattern, flags=re.I).sum()"
   ]
  },
  {
   "cell_type": "code",
   "execution_count": null,
   "metadata": {},
   "outputs": [],
   "source": []
  },
  {
   "cell_type": "markdown",
   "metadata": {},
   "source": [
    "### Analyze and count mentions of different programming languages in the dataset"
   ]
  },
  {
   "cell_type": "code",
   "execution_count": 35,
   "metadata": {},
   "outputs": [
    {
     "data": {
      "text/html": [
       "<div>\n",
       "<style scoped>\n",
       "    .dataframe tbody tr th:only-of-type {\n",
       "        vertical-align: middle;\n",
       "    }\n",
       "\n",
       "    .dataframe tbody tr th {\n",
       "        vertical-align: top;\n",
       "    }\n",
       "\n",
       "    .dataframe thead th {\n",
       "        text-align: right;\n",
       "    }\n",
       "</style>\n",
       "<table border=\"1\" class=\"dataframe\">\n",
       "  <thead>\n",
       "    <tr style=\"text-align: right;\">\n",
       "      <th></th>\n",
       "      <th>id</th>\n",
       "      <th>title</th>\n",
       "      <th>url</th>\n",
       "      <th>num_points</th>\n",
       "      <th>num_comments</th>\n",
       "      <th>author</th>\n",
       "      <th>created_at</th>\n",
       "    </tr>\n",
       "  </thead>\n",
       "  <tbody>\n",
       "    <tr>\n",
       "      <th>0</th>\n",
       "      <td>12579008</td>\n",
       "      <td>You have two days to comment if you want stem ...</td>\n",
       "      <td>http://www.regulations.gov/document?D=FDA-2015...</td>\n",
       "      <td>1</td>\n",
       "      <td>0</td>\n",
       "      <td>altstar</td>\n",
       "      <td>9/26/2016 3:26</td>\n",
       "    </tr>\n",
       "    <tr>\n",
       "      <th>1</th>\n",
       "      <td>12579005</td>\n",
       "      <td>SQLAR  the SQLite Archiver</td>\n",
       "      <td>https://www.sqlite.org/sqlar/doc/trunk/README.md</td>\n",
       "      <td>1</td>\n",
       "      <td>0</td>\n",
       "      <td>blacksqr</td>\n",
       "      <td>9/26/2016 3:24</td>\n",
       "    </tr>\n",
       "    <tr>\n",
       "      <th>2</th>\n",
       "      <td>12578997</td>\n",
       "      <td>What if we just printed a flatscreen televisio...</td>\n",
       "      <td>https://medium.com/vanmoof/our-secrets-out-f21...</td>\n",
       "      <td>1</td>\n",
       "      <td>0</td>\n",
       "      <td>pavel_lishin</td>\n",
       "      <td>9/26/2016 3:19</td>\n",
       "    </tr>\n",
       "    <tr>\n",
       "      <th>3</th>\n",
       "      <td>12578989</td>\n",
       "      <td>algorithmic music</td>\n",
       "      <td>http://cacm.acm.org/magazines/2011/7/109891-al...</td>\n",
       "      <td>1</td>\n",
       "      <td>0</td>\n",
       "      <td>poindontcare</td>\n",
       "      <td>9/26/2016 3:16</td>\n",
       "    </tr>\n",
       "    <tr>\n",
       "      <th>4</th>\n",
       "      <td>12578979</td>\n",
       "      <td>How the Data Vault Enables the Next-Gen Data W...</td>\n",
       "      <td>https://www.talend.com/blog/2016/05/12/talend-...</td>\n",
       "      <td>1</td>\n",
       "      <td>0</td>\n",
       "      <td>markgainor1</td>\n",
       "      <td>9/26/2016 3:14</td>\n",
       "    </tr>\n",
       "  </tbody>\n",
       "</table>\n",
       "</div>"
      ],
      "text/plain": [
       "         id                                              title                                                url  num_points  num_comments        author      created_at\n",
       "0  12579008  You have two days to comment if you want stem ...  http://www.regulations.gov/document?D=FDA-2015...           1             0       altstar  9/26/2016 3:26\n",
       "1  12579005                         SQLAR  the SQLite Archiver   https://www.sqlite.org/sqlar/doc/trunk/README.md           1             0      blacksqr  9/26/2016 3:24\n",
       "2  12578997  What if we just printed a flatscreen televisio...  https://medium.com/vanmoof/our-secrets-out-f21...           1             0  pavel_lishin  9/26/2016 3:19\n",
       "3  12578989                                  algorithmic music  http://cacm.acm.org/magazines/2011/7/109891-al...           1             0  poindontcare  9/26/2016 3:16\n",
       "4  12578979  How the Data Vault Enables the Next-Gen Data W...  https://www.talend.com/blog/2016/05/12/talend-...           1             0   markgainor1  9/26/2016 3:14"
      ]
     },
     "execution_count": 35,
     "metadata": {},
     "output_type": "execute_result"
    }
   ],
   "source": [
    "hn.head()"
   ]
  },
  {
   "cell_type": "code",
   "execution_count": 36,
   "metadata": {},
   "outputs": [],
   "source": [
    "titles = hn.title"
   ]
  },
  {
   "cell_type": "markdown",
   "metadata": {},
   "source": [
    "### Counting mentions of 'SQL' in the titles of stories"
   ]
  },
  {
   "cell_type": "code",
   "execution_count": 37,
   "metadata": {},
   "outputs": [],
   "source": [
    "pattern = r'(?i)SQL'"
   ]
  },
  {
   "cell_type": "code",
   "execution_count": 38,
   "metadata": {},
   "outputs": [
    {
     "data": {
      "text/plain": [
       "1327"
      ]
     },
     "execution_count": 38,
     "metadata": {},
     "output_type": "execute_result"
    }
   ],
   "source": [
    "sql_counts = titles.str.contains(pattern).sum()\n",
    "sql_counts"
   ]
  },
  {
   "cell_type": "markdown",
   "metadata": {},
   "source": [
    "### Creating a frequency table of the different capitalization of 'SQL'"
   ]
  },
  {
   "cell_type": "code",
   "execution_count": 39,
   "metadata": {},
   "outputs": [],
   "source": [
    "pattern = r'(SQL)'"
   ]
  },
  {
   "cell_type": "code",
   "execution_count": 40,
   "metadata": {},
   "outputs": [],
   "source": [
    "sql_capitalization = titles.str.extract(pattern, flags=re.I)"
   ]
  },
  {
   "cell_type": "code",
   "execution_count": 41,
   "metadata": {},
   "outputs": [
    {
     "data": {
      "text/plain": [
       "SQL    1229\n",
       "sql      74\n",
       "Sql      24\n",
       "Name: 0, dtype: int64"
      ]
     },
     "execution_count": 41,
     "metadata": {},
     "output_type": "execute_result"
    }
   ],
   "source": [
    "sql_capitalization_freq = sql_capitalization[0].value_counts()\n",
    "sql_capitalization_freq"
   ]
  },
  {
   "cell_type": "markdown",
   "metadata": {},
   "source": [
    "### Creating a frequency table of different variations of flavours of SQL"
   ]
  },
  {
   "cell_type": "code",
   "execution_count": 42,
   "metadata": {},
   "outputs": [],
   "source": [
    "pattern = r'(\\w+SQL)'"
   ]
  },
  {
   "cell_type": "code",
   "execution_count": 43,
   "metadata": {},
   "outputs": [],
   "source": [
    "sql_flavours = titles.str.extract(pattern, flags=re.I)"
   ]
  },
  {
   "cell_type": "code",
   "execution_count": 44,
   "metadata": {},
   "outputs": [
    {
     "data": {
      "text/plain": [
       "PostgreSQL       352\n",
       "MySQL            206\n",
       "NoSQL            106\n",
       "Postgresql        16\n",
       "mysql             13\n",
       "Mysql             12\n",
       "MemSQL            10\n",
       "postgresql         7\n",
       "WebSQL             5\n",
       "TSQL               4\n",
       "MSSQL              4\n",
       "SparkSQL           3\n",
       "MySql              3\n",
       "nosql              3\n",
       "NOSQL              3\n",
       "PubSubSQL          2\n",
       "NewSQL             2\n",
       "Pgsql              1\n",
       "PrefSQL            1\n",
       "PhxSQL             1\n",
       "KnowSQL            1\n",
       "PostreSQL          1\n",
       "html5sql           1\n",
       "ContinuouSQL       1\n",
       "tSQL               1\n",
       "Hgsql              1\n",
       "NoSql              1\n",
       "noSQL              1\n",
       "SimpleSQL          1\n",
       "psql               1\n",
       "SuperiorMySQL      1\n",
       "pgSQL              1\n",
       "CloudSQL           1\n",
       "PowerUpSQL         1\n",
       "Psql               1\n",
       "DeepSQL            1\n",
       "HoTTSQL            1\n",
       "NoNoSQL            1\n",
       "FirebirdSQL        1\n",
       "HTSQL              1\n",
       "mySql              1\n",
       "Name: 0, dtype: int64"
      ]
     },
     "execution_count": 44,
     "metadata": {},
     "output_type": "execute_result"
    }
   ],
   "source": [
    "sql_flavours_freq = sql_flavours[0].value_counts()\n",
    "sql_flavours_freq"
   ]
  },
  {
   "cell_type": "markdown",
   "metadata": {},
   "source": [
    "### Create a copy od dataframe that contain SQL flavours"
   ]
  },
  {
   "cell_type": "code",
   "execution_count": 45,
   "metadata": {},
   "outputs": [],
   "source": [
    "hn_sql = hn[hn['title'].str.contains(r\"\\w+SQL\", flags=re.I)].copy()"
   ]
  },
  {
   "cell_type": "code",
   "execution_count": 46,
   "metadata": {},
   "outputs": [],
   "source": [
    "pattern = r'(\\w+SQL)'"
   ]
  },
  {
   "cell_type": "code",
   "execution_count": 47,
   "metadata": {},
   "outputs": [
    {
     "data": {
      "text/html": [
       "<div>\n",
       "<style scoped>\n",
       "    .dataframe tbody tr th:only-of-type {\n",
       "        vertical-align: middle;\n",
       "    }\n",
       "\n",
       "    .dataframe tbody tr th {\n",
       "        vertical-align: top;\n",
       "    }\n",
       "\n",
       "    .dataframe thead th {\n",
       "        text-align: right;\n",
       "    }\n",
       "</style>\n",
       "<table border=\"1\" class=\"dataframe\">\n",
       "  <thead>\n",
       "    <tr style=\"text-align: right;\">\n",
       "      <th></th>\n",
       "      <th>id</th>\n",
       "      <th>title</th>\n",
       "      <th>url</th>\n",
       "      <th>num_points</th>\n",
       "      <th>num_comments</th>\n",
       "      <th>author</th>\n",
       "      <th>created_at</th>\n",
       "    </tr>\n",
       "  </thead>\n",
       "  <tbody>\n",
       "    <tr>\n",
       "      <th>43</th>\n",
       "      <td>12578514</td>\n",
       "      <td>PostgreSQL RDS pg-stat-ramdisk-size new featur...</td>\n",
       "      <td>http://www.3manuek.com/pgstatramdisksize</td>\n",
       "      <td>1</td>\n",
       "      <td>0</td>\n",
       "      <td>3manuek</td>\n",
       "      <td>9/26/2016 1:16</td>\n",
       "    </tr>\n",
       "    <tr>\n",
       "      <th>240</th>\n",
       "      <td>12576116</td>\n",
       "      <td>Bidirectional Replication is coming to Postgre...</td>\n",
       "      <td>http://blog.2ndquadrant.com/bdr-is-coming-to-p...</td>\n",
       "      <td>200</td>\n",
       "      <td>38</td>\n",
       "      <td>iamd3vil</td>\n",
       "      <td>9/25/2016 16:54</td>\n",
       "    </tr>\n",
       "    <tr>\n",
       "      <th>257</th>\n",
       "      <td>12576002</td>\n",
       "      <td>A fast PostgreSQL client library for Python: 3...</td>\n",
       "      <td>https://github.com/MagicStack/asyncpg</td>\n",
       "      <td>3</td>\n",
       "      <td>1</td>\n",
       "      <td>arjun27</td>\n",
       "      <td>9/25/2016 16:33</td>\n",
       "    </tr>\n",
       "  </tbody>\n",
       "</table>\n",
       "</div>"
      ],
      "text/plain": [
       "           id                                              title                                                url  num_points  num_comments    author       created_at\n",
       "43   12578514  PostgreSQL RDS pg-stat-ramdisk-size new featur...           http://www.3manuek.com/pgstatramdisksize           1             0   3manuek   9/26/2016 1:16\n",
       "240  12576116  Bidirectional Replication is coming to Postgre...  http://blog.2ndquadrant.com/bdr-is-coming-to-p...         200            38  iamd3vil  9/25/2016 16:54\n",
       "257  12576002  A fast PostgreSQL client library for Python: 3...              https://github.com/MagicStack/asyncpg           3             1   arjun27  9/25/2016 16:33"
      ]
     },
     "execution_count": 47,
     "metadata": {},
     "output_type": "execute_result"
    }
   ],
   "source": [
    "hn_sql.head(3)"
   ]
  },
  {
   "cell_type": "markdown",
   "metadata": {},
   "source": [
    "#### Create a new column called flavor in the hn_sql dataframe, containing extracted mentions of SQL flavors"
   ]
  },
  {
   "cell_type": "code",
   "execution_count": 48,
   "metadata": {},
   "outputs": [],
   "source": [
    "hn_sql['flavour'] = hn_sql.title.str.extract(pattern, flags=re.I)"
   ]
  },
  {
   "cell_type": "code",
   "execution_count": 49,
   "metadata": {},
   "outputs": [
    {
     "data": {
      "text/html": [
       "<div>\n",
       "<style scoped>\n",
       "    .dataframe tbody tr th:only-of-type {\n",
       "        vertical-align: middle;\n",
       "    }\n",
       "\n",
       "    .dataframe tbody tr th {\n",
       "        vertical-align: top;\n",
       "    }\n",
       "\n",
       "    .dataframe thead th {\n",
       "        text-align: right;\n",
       "    }\n",
       "</style>\n",
       "<table border=\"1\" class=\"dataframe\">\n",
       "  <thead>\n",
       "    <tr style=\"text-align: right;\">\n",
       "      <th></th>\n",
       "      <th>id</th>\n",
       "      <th>title</th>\n",
       "      <th>url</th>\n",
       "      <th>num_points</th>\n",
       "      <th>num_comments</th>\n",
       "      <th>author</th>\n",
       "      <th>created_at</th>\n",
       "      <th>flavour</th>\n",
       "    </tr>\n",
       "  </thead>\n",
       "  <tbody>\n",
       "    <tr>\n",
       "      <th>43</th>\n",
       "      <td>12578514</td>\n",
       "      <td>PostgreSQL RDS pg-stat-ramdisk-size new featur...</td>\n",
       "      <td>http://www.3manuek.com/pgstatramdisksize</td>\n",
       "      <td>1</td>\n",
       "      <td>0</td>\n",
       "      <td>3manuek</td>\n",
       "      <td>9/26/2016 1:16</td>\n",
       "      <td>PostgreSQL</td>\n",
       "    </tr>\n",
       "    <tr>\n",
       "      <th>240</th>\n",
       "      <td>12576116</td>\n",
       "      <td>Bidirectional Replication is coming to Postgre...</td>\n",
       "      <td>http://blog.2ndquadrant.com/bdr-is-coming-to-p...</td>\n",
       "      <td>200</td>\n",
       "      <td>38</td>\n",
       "      <td>iamd3vil</td>\n",
       "      <td>9/25/2016 16:54</td>\n",
       "      <td>PostgreSQL</td>\n",
       "    </tr>\n",
       "    <tr>\n",
       "      <th>257</th>\n",
       "      <td>12576002</td>\n",
       "      <td>A fast PostgreSQL client library for Python: 3...</td>\n",
       "      <td>https://github.com/MagicStack/asyncpg</td>\n",
       "      <td>3</td>\n",
       "      <td>1</td>\n",
       "      <td>arjun27</td>\n",
       "      <td>9/25/2016 16:33</td>\n",
       "      <td>PostgreSQL</td>\n",
       "    </tr>\n",
       "  </tbody>\n",
       "</table>\n",
       "</div>"
      ],
      "text/plain": [
       "           id                                              title                                                url  num_points  num_comments    author       created_at     flavour\n",
       "43   12578514  PostgreSQL RDS pg-stat-ramdisk-size new featur...           http://www.3manuek.com/pgstatramdisksize           1             0   3manuek   9/26/2016 1:16  PostgreSQL\n",
       "240  12576116  Bidirectional Replication is coming to Postgre...  http://blog.2ndquadrant.com/bdr-is-coming-to-p...         200            38  iamd3vil  9/25/2016 16:54  PostgreSQL\n",
       "257  12576002  A fast PostgreSQL client library for Python: 3...              https://github.com/MagicStack/asyncpg           3             1   arjun27  9/25/2016 16:33  PostgreSQL"
      ]
     },
     "execution_count": 49,
     "metadata": {},
     "output_type": "execute_result"
    }
   ],
   "source": [
    "hn_sql.head(3)"
   ]
  },
  {
   "cell_type": "code",
   "execution_count": 50,
   "metadata": {},
   "outputs": [],
   "source": [
    "hn_sql.flavour = hn_sql.flavour.str.lower()"
   ]
  },
  {
   "cell_type": "code",
   "execution_count": 51,
   "metadata": {},
   "outputs": [
    {
     "data": {
      "text/html": [
       "<div>\n",
       "<style scoped>\n",
       "    .dataframe tbody tr th:only-of-type {\n",
       "        vertical-align: middle;\n",
       "    }\n",
       "\n",
       "    .dataframe tbody tr th {\n",
       "        vertical-align: top;\n",
       "    }\n",
       "\n",
       "    .dataframe thead th {\n",
       "        text-align: right;\n",
       "    }\n",
       "</style>\n",
       "<table border=\"1\" class=\"dataframe\">\n",
       "  <thead>\n",
       "    <tr style=\"text-align: right;\">\n",
       "      <th></th>\n",
       "      <th>id</th>\n",
       "      <th>title</th>\n",
       "      <th>url</th>\n",
       "      <th>num_points</th>\n",
       "      <th>num_comments</th>\n",
       "      <th>author</th>\n",
       "      <th>created_at</th>\n",
       "      <th>flavour</th>\n",
       "    </tr>\n",
       "  </thead>\n",
       "  <tbody>\n",
       "    <tr>\n",
       "      <th>43</th>\n",
       "      <td>12578514</td>\n",
       "      <td>PostgreSQL RDS pg-stat-ramdisk-size new featur...</td>\n",
       "      <td>http://www.3manuek.com/pgstatramdisksize</td>\n",
       "      <td>1</td>\n",
       "      <td>0</td>\n",
       "      <td>3manuek</td>\n",
       "      <td>9/26/2016 1:16</td>\n",
       "      <td>postgresql</td>\n",
       "    </tr>\n",
       "    <tr>\n",
       "      <th>240</th>\n",
       "      <td>12576116</td>\n",
       "      <td>Bidirectional Replication is coming to Postgre...</td>\n",
       "      <td>http://blog.2ndquadrant.com/bdr-is-coming-to-p...</td>\n",
       "      <td>200</td>\n",
       "      <td>38</td>\n",
       "      <td>iamd3vil</td>\n",
       "      <td>9/25/2016 16:54</td>\n",
       "      <td>postgresql</td>\n",
       "    </tr>\n",
       "    <tr>\n",
       "      <th>257</th>\n",
       "      <td>12576002</td>\n",
       "      <td>A fast PostgreSQL client library for Python: 3...</td>\n",
       "      <td>https://github.com/MagicStack/asyncpg</td>\n",
       "      <td>3</td>\n",
       "      <td>1</td>\n",
       "      <td>arjun27</td>\n",
       "      <td>9/25/2016 16:33</td>\n",
       "      <td>postgresql</td>\n",
       "    </tr>\n",
       "  </tbody>\n",
       "</table>\n",
       "</div>"
      ],
      "text/plain": [
       "           id                                              title                                                url  num_points  num_comments    author       created_at     flavour\n",
       "43   12578514  PostgreSQL RDS pg-stat-ramdisk-size new featur...           http://www.3manuek.com/pgstatramdisksize           1             0   3manuek   9/26/2016 1:16  postgresql\n",
       "240  12576116  Bidirectional Replication is coming to Postgre...  http://blog.2ndquadrant.com/bdr-is-coming-to-p...         200            38  iamd3vil  9/25/2016 16:54  postgresql\n",
       "257  12576002  A fast PostgreSQL client library for Python: 3...              https://github.com/MagicStack/asyncpg           3             1   arjun27  9/25/2016 16:33  postgresql"
      ]
     },
     "execution_count": 51,
     "metadata": {},
     "output_type": "execute_result"
    }
   ],
   "source": [
    "hn_sql.head(3)"
   ]
  },
  {
   "cell_type": "code",
   "execution_count": 52,
   "metadata": {},
   "outputs": [
    {
     "data": {
      "text/html": [
       "<div>\n",
       "<style scoped>\n",
       "    .dataframe tbody tr th:only-of-type {\n",
       "        vertical-align: middle;\n",
       "    }\n",
       "\n",
       "    .dataframe tbody tr th {\n",
       "        vertical-align: top;\n",
       "    }\n",
       "\n",
       "    .dataframe thead th {\n",
       "        text-align: right;\n",
       "    }\n",
       "</style>\n",
       "<table border=\"1\" class=\"dataframe\">\n",
       "  <thead>\n",
       "    <tr style=\"text-align: right;\">\n",
       "      <th></th>\n",
       "      <th>num_comments</th>\n",
       "    </tr>\n",
       "    <tr>\n",
       "      <th>flavour</th>\n",
       "      <th></th>\n",
       "    </tr>\n",
       "  </thead>\n",
       "  <tbody>\n",
       "    <tr>\n",
       "      <th>cloudsql</th>\n",
       "      <td>5.000000</td>\n",
       "    </tr>\n",
       "    <tr>\n",
       "      <th>continuousql</th>\n",
       "      <td>7.000000</td>\n",
       "    </tr>\n",
       "    <tr>\n",
       "      <th>deepsql</th>\n",
       "      <td>0.000000</td>\n",
       "    </tr>\n",
       "    <tr>\n",
       "      <th>firebirdsql</th>\n",
       "      <td>0.000000</td>\n",
       "    </tr>\n",
       "    <tr>\n",
       "      <th>hgsql</th>\n",
       "      <td>0.000000</td>\n",
       "    </tr>\n",
       "    <tr>\n",
       "      <th>hottsql</th>\n",
       "      <td>0.000000</td>\n",
       "    </tr>\n",
       "    <tr>\n",
       "      <th>html5sql</th>\n",
       "      <td>0.000000</td>\n",
       "    </tr>\n",
       "    <tr>\n",
       "      <th>htsql</th>\n",
       "      <td>17.000000</td>\n",
       "    </tr>\n",
       "    <tr>\n",
       "      <th>knowsql</th>\n",
       "      <td>0.000000</td>\n",
       "    </tr>\n",
       "    <tr>\n",
       "      <th>memsql</th>\n",
       "      <td>1.600000</td>\n",
       "    </tr>\n",
       "    <tr>\n",
       "      <th>mssql</th>\n",
       "      <td>0.750000</td>\n",
       "    </tr>\n",
       "    <tr>\n",
       "      <th>mysql</th>\n",
       "      <td>4.697872</td>\n",
       "    </tr>\n",
       "    <tr>\n",
       "      <th>newsql</th>\n",
       "      <td>0.000000</td>\n",
       "    </tr>\n",
       "    <tr>\n",
       "      <th>nonosql</th>\n",
       "      <td>0.000000</td>\n",
       "    </tr>\n",
       "    <tr>\n",
       "      <th>nosql</th>\n",
       "      <td>4.307018</td>\n",
       "    </tr>\n",
       "    <tr>\n",
       "      <th>pgsql</th>\n",
       "      <td>0.000000</td>\n",
       "    </tr>\n",
       "    <tr>\n",
       "      <th>phxsql</th>\n",
       "      <td>4.000000</td>\n",
       "    </tr>\n",
       "    <tr>\n",
       "      <th>postgresql</th>\n",
       "      <td>6.077333</td>\n",
       "    </tr>\n",
       "    <tr>\n",
       "      <th>postresql</th>\n",
       "      <td>0.000000</td>\n",
       "    </tr>\n",
       "    <tr>\n",
       "      <th>powerupsql</th>\n",
       "      <td>0.000000</td>\n",
       "    </tr>\n",
       "    <tr>\n",
       "      <th>prefsql</th>\n",
       "      <td>0.000000</td>\n",
       "    </tr>\n",
       "    <tr>\n",
       "      <th>psql</th>\n",
       "      <td>0.000000</td>\n",
       "    </tr>\n",
       "    <tr>\n",
       "      <th>pubsubsql</th>\n",
       "      <td>0.000000</td>\n",
       "    </tr>\n",
       "    <tr>\n",
       "      <th>simplesql</th>\n",
       "      <td>2.000000</td>\n",
       "    </tr>\n",
       "    <tr>\n",
       "      <th>sparksql</th>\n",
       "      <td>0.333333</td>\n",
       "    </tr>\n",
       "    <tr>\n",
       "      <th>superiormysql</th>\n",
       "      <td>0.000000</td>\n",
       "    </tr>\n",
       "    <tr>\n",
       "      <th>tsql</th>\n",
       "      <td>0.200000</td>\n",
       "    </tr>\n",
       "    <tr>\n",
       "      <th>websql</th>\n",
       "      <td>0.000000</td>\n",
       "    </tr>\n",
       "  </tbody>\n",
       "</table>\n",
       "</div>"
      ],
      "text/plain": [
       "               num_comments\n",
       "flavour                    \n",
       "cloudsql           5.000000\n",
       "continuousql       7.000000\n",
       "deepsql            0.000000\n",
       "firebirdsql        0.000000\n",
       "hgsql              0.000000\n",
       "hottsql            0.000000\n",
       "html5sql           0.000000\n",
       "htsql             17.000000\n",
       "knowsql            0.000000\n",
       "memsql             1.600000\n",
       "mssql              0.750000\n",
       "mysql              4.697872\n",
       "newsql             0.000000\n",
       "nonosql            0.000000\n",
       "nosql              4.307018\n",
       "pgsql              0.000000\n",
       "phxsql             4.000000\n",
       "postgresql         6.077333\n",
       "postresql          0.000000\n",
       "powerupsql         0.000000\n",
       "prefsql            0.000000\n",
       "psql               0.000000\n",
       "pubsubsql          0.000000\n",
       "simplesql          2.000000\n",
       "sparksql           0.333333\n",
       "superiormysql      0.000000\n",
       "tsql               0.200000\n",
       "websql             0.000000"
      ]
     },
     "execution_count": 52,
     "metadata": {},
     "output_type": "execute_result"
    }
   ],
   "source": [
    "sql_pivot = hn_sql.pivot_table(index='flavour', values='num_comments', aggfunc='mean')\n",
    "sql_pivot"
   ]
  },
  {
   "cell_type": "code",
   "execution_count": 53,
   "metadata": {},
   "outputs": [
    {
     "data": {
      "text/plain": [
       "<matplotlib.axes._subplots.AxesSubplot at 0xb731a90>"
      ]
     },
     "execution_count": 53,
     "metadata": {},
     "output_type": "execute_result"
    },
    {
     "data": {
      "image/png": "[encoded data removed]",
      "text/plain": [
       "<Figure size 1080x360 with 1 Axes>"
      ]
     },
     "metadata": {
      "needs_background": "light"
     },
     "output_type": "display_data"
    }
   ],
   "source": [
    "sql_pivot.plot(kind='bar', figsize=(15,5))"
   ]
  },
  {
   "cell_type": "markdown",
   "metadata": {},
   "source": [
    "##### Checking frequency of python's different version."
   ]
  },
  {
   "cell_type": "code",
   "execution_count": 54,
   "metadata": {},
   "outputs": [],
   "source": [
    "pattern = r'[Pp]ython\\s*([\\d\\.]+)'"
   ]
  },
  {
   "cell_type": "code",
   "execution_count": 55,
   "metadata": {},
   "outputs": [
    {
     "data": {
      "text/plain": [
       "{'3': 120,\n",
       " '2': 19,\n",
       " '3.5': 18,\n",
       " '201': 15,\n",
       " '2.7': 12,\n",
       " '3.6': 10,\n",
       " '101': 7,\n",
       " '.': 5,\n",
       " '3.5.1': 5,\n",
       " '3.4': 5,\n",
       " '2.7.11': 5,\n",
       " '3.6.0': 4,\n",
       " '4': 4,\n",
       " '3.5.0': 3,\n",
       " '2.7.': 3,\n",
       " '5': 3,\n",
       " '0.3.8': 1,\n",
       " '1.7': 1,\n",
       " '0.6': 1,\n",
       " '2.7.2': 1,\n",
       " '2.': 1,\n",
       " '5.0': 1,\n",
       " '2016': 1,\n",
       " '1.8.1': 1,\n",
       " '8': 1,\n",
       " '1.5': 1,\n",
       " '3.5.2': 1,\n",
       " '2.7.12': 1}"
      ]
     },
     "execution_count": 55,
     "metadata": {},
     "output_type": "execute_result"
    }
   ],
   "source": [
    "py_versions = titles.str.extract(pattern)\n",
    "py_versions_freq = dict(py_versions[0].value_counts())\n",
    "py_versions_freq"
   ]
  },
  {
   "cell_type": "markdown",
   "metadata": {},
   "source": [
    "##### Regular expression to find 'C'"
   ]
  },
  {
   "cell_type": "code",
   "execution_count": 56,
   "metadata": {},
   "outputs": [
    {
     "data": {
      "text/plain": [
       "87       Smart pointers and move semantics in modern C++\n",
       "98                   A Simple Commodore 64 Game in C++17\n",
       "252    Show HN: openemacs  a tiny emacs clone, ? 1024...\n",
       "332    Jason Turner: A Simple Commodore 64 Game in C+...\n",
       "457           Talking to C Programmers about C++ [video]\n",
       "467    Show HN: Semile  simpler profile and diagnose ...\n",
       "476        A brief guide to C++ template metaprogramming\n",
       "517           Booksbyus/scalable-c: Scalable C  The Book\n",
       "519                                 Python by the C side\n",
       "761    Semile  simpler way to profile and diagnose (C++)\n",
       "Name: title, dtype: object"
      ]
     },
     "execution_count": 56,
     "metadata": {},
     "output_type": "execute_result"
    }
   ],
   "source": [
    "pattern = r\"\\b[Cc]\\b\"\n",
    "first_10_matches(pattern)"
   ]
  },
  {
   "cell_type": "markdown",
   "metadata": {},
   "source": [
    "##### The pattern did not exclude C++, and I need to look for more exceptions"
   ]
  },
  {
   "cell_type": "code",
   "execution_count": 57,
   "metadata": {},
   "outputs": [
    {
     "data": {
      "text/plain": [
       "252     Show HN: openemacs  a tiny emacs clone, ? 1024...\n",
       "457            Talking to C Programmers about C++ [video]\n",
       "517            Booksbyus/scalable-c: Scalable C  The Book\n",
       "519                                  Python by the C side\n",
       "906                                       Tiny C Compiler\n",
       "914     What is the difference between String and stri...\n",
       "1662                         Lesser-known C coding styles\n",
       "2215    UniLua -A pure c# implementation of Lua 5.2 fo...\n",
       "2558    C# functional language extensions and 'Erlang ...\n",
       "3024        Local Static Variables in Visual Basic and C#\n",
       "3178    New release of the unit testing framework cmoc...\n",
       "3634    RoslynLinqRewrite  Compiles C# by rewriting an...\n",
       "3959    Ask HN: Any distributed-db has redis-like cust...\n",
       "4019    U.C. Berkeley faces legal action because free ...\n",
       "4161    How to run C programs on the BeagleBone's PRU ...\n",
       "4175                     Stabilizing C's Quicksort (2014)\n",
       "4329     Automatic C library binding generator for Golang\n",
       "4803           Calling a simple C function from D  strcmp\n",
       "5383    C Preprocessor Trick for Implementing Similar ...\n",
       "5684               Tiny C program to limit volume on OS X\n",
       "5916                                Priority Queues in C#\n",
       "6110    C2ats  An utility to generate ATS interface fr...\n",
       "6117    Realm Objective-C and Swift 1.1.0  Official Sw...\n",
       "6281    JavaScript vs. C, Java, Python, Ruby, and C#in...\n",
       "6324    Ask HN: What are some examples of well written...\n",
       "7291    NET: Translating an enum in C# using the Descr...\n",
       "7501    Assange agrees to serve prison term if Obama p...\n",
       "7629    Show HN: ShouldBe  Eye-pleasing assertions for...\n",
       "8147    How to trick C/C++ compilers into generating t...\n",
       "8235              Ask HN: Personal C&C software/hardware?\n",
       "Name: title, dtype: object"
      ]
     },
     "execution_count": 57,
     "metadata": {},
     "output_type": "execute_result"
    }
   ],
   "source": [
    "pattern = r\"\\b[Cc]\\b[^+]\"\n",
    "c_find = titles[titles.str.contains(pattern)]\n",
    "c_find[0:30]"
   ]
  },
  {
   "cell_type": "code",
   "execution_count": 58,
   "metadata": {},
   "outputs": [
    {
     "data": {
      "text/plain": [
       "'RoslynLinqRewrite  Compiles C# by rewriting and optimising LINQ expressions'"
      ]
     },
     "execution_count": 58,
     "metadata": {},
     "output_type": "execute_result"
    }
   ],
   "source": [
    "c_find[3634]"
   ]
  },
  {
   "cell_type": "code",
   "execution_count": 59,
   "metadata": {},
   "outputs": [
    {
     "data": {
      "text/plain": [
       "'U.C. Berkeley faces legal action because free online courseware not accessible'"
      ]
     },
     "execution_count": 59,
     "metadata": {},
     "output_type": "execute_result"
    }
   ],
   "source": [
    "c_find[4019]"
   ]
  },
  {
   "cell_type": "code",
   "execution_count": 60,
   "metadata": {},
   "outputs": [
    {
     "data": {
      "text/plain": [
       "'Realm Objective-C and Swift 1.1.0  Official Swift 3 APIs and Xcode 8 Support'"
      ]
     },
     "execution_count": 60,
     "metadata": {},
     "output_type": "execute_result"
    }
   ],
   "source": [
    "c_find[6117]"
   ]
  },
  {
   "cell_type": "markdown",
   "metadata": {},
   "source": [
    "##### C#, 'U.C. Berkley', 'Objective-C' are another exeptions"
   ]
  },
  {
   "cell_type": "code",
   "execution_count": 61,
   "metadata": {},
   "outputs": [
    {
     "data": {
      "text/plain": [
       "252      Show HN: openemacs  a tiny emacs clone, ? 1024...\n",
       "457             Talking to C Programmers about C++ [video]\n",
       "517             Booksbyus/scalable-c: Scalable C  The Book\n",
       "519                                   Python by the C side\n",
       "906                                        Tiny C Compiler\n",
       "1662                          Lesser-known C coding styles\n",
       "3178     New release of the unit testing framework cmoc...\n",
       "3959     Ask HN: Any distributed-db has redis-like cust...\n",
       "4161     How to run C programs on the BeagleBone's PRU ...\n",
       "4175                      Stabilizing C's Quicksort (2014)\n",
       "4329      Automatic C library binding generator for Golang\n",
       "4803            Calling a simple C function from D  strcmp\n",
       "5684                Tiny C program to limit volume on OS X\n",
       "6110     C2ats  An utility to generate ATS interface fr...\n",
       "6281     JavaScript vs. C, Java, Python, Ruby, and C#in...\n",
       "6324     Ask HN: What are some examples of well written...\n",
       "8147     How to trick C/C++ compilers into generating t...\n",
       "8235               Ask HN: Personal C&C software/hardware?\n",
       "8533                      The new C standards are worth it\n",
       "8818                      Calling from C into Ocaml (2009)\n",
       "9170     How to trick C/C++ compilers into generating t...\n",
       "11129    One year later: Can Android 7.0 Nougat save th...\n",
       "11341    Learn C the Hard Way is no longer available fo...\n",
       "11585    xlsLib  A C/C++ multi-platform library for dyn...\n",
       "11629    Lowcode: Extending Pharo with C Types to Impro...\n",
       "11635                26th century C (void.h macro headers)\n",
       "12045    Show HN: Simple C library for an XBox Controll...\n",
       "12582    Interest in the C programming language is plum...\n",
       "13021    Print bits from any type using less code and r...\n",
       "13086     Benchmarking build systems for a large C project\n",
       "Name: title, dtype: object"
      ]
     },
     "execution_count": 61,
     "metadata": {},
     "output_type": "execute_result"
    }
   ],
   "source": [
    "pattern = r\"[^-]\\b[Cc]\\b[^+.#-]\"\n",
    "c_find = titles[titles.str.contains(pattern)]\n",
    "c_find[0:30]"
   ]
  },
  {
   "cell_type": "code",
   "execution_count": 62,
   "metadata": {},
   "outputs": [
    {
     "data": {
      "text/plain": [
       "'Ask HN: What are some examples of well written C/C++ codebases?'"
      ]
     },
     "execution_count": 62,
     "metadata": {},
     "output_type": "execute_result"
    }
   ],
   "source": [
    "c_find[6324]"
   ]
  },
  {
   "cell_type": "code",
   "execution_count": 63,
   "metadata": {},
   "outputs": [
    {
     "data": {
      "text/plain": [
       "'Ask HN: Personal C&C software/hardware?'"
      ]
     },
     "execution_count": 63,
     "metadata": {},
     "output_type": "execute_result"
    }
   ],
   "source": [
    "c_find[8235]"
   ]
  },
  {
   "cell_type": "code",
   "execution_count": 64,
   "metadata": {},
   "outputs": [
    {
     "data": {
      "text/plain": [
       "'Show HN: openemacs  a tiny emacs clone, ? 1024 LOC (C), based on kilo (BSD)'"
      ]
     },
     "execution_count": 64,
     "metadata": {},
     "output_type": "execute_result"
    }
   ],
   "source": [
    "c_find[252]"
   ]
  },
  {
   "cell_type": "code",
   "execution_count": 65,
   "metadata": {},
   "outputs": [
    {
     "data": {
      "text/plain": [
       "252      Show HN: openemacs  a tiny emacs clone, ? 1024...\n",
       "457             Talking to C Programmers about C++ [video]\n",
       "517             Booksbyus/scalable-c: Scalable C  The Book\n",
       "519                                   Python by the C side\n",
       "906                                        Tiny C Compiler\n",
       "1662                          Lesser-known C coding styles\n",
       "3178     New release of the unit testing framework cmoc...\n",
       "3959     Ask HN: Any distributed-db has redis-like cust...\n",
       "4161     How to run C programs on the BeagleBone's PRU ...\n",
       "4175                      Stabilizing C's Quicksort (2014)\n",
       "4329      Automatic C library binding generator for Golang\n",
       "4803            Calling a simple C function from D  strcmp\n",
       "5684                Tiny C program to limit volume on OS X\n",
       "6110     C2ats  An utility to generate ATS interface fr...\n",
       "6281     JavaScript vs. C, Java, Python, Ruby, and C#in...\n",
       "6324     Ask HN: What are some examples of well written...\n",
       "8147     How to trick C/C++ compilers into generating t...\n",
       "8533                      The new C standards are worth it\n",
       "8818                      Calling from C into Ocaml (2009)\n",
       "9170     How to trick C/C++ compilers into generating t...\n",
       "11129    One year later: Can Android 7.0 Nougat save th...\n",
       "11341    Learn C the Hard Way is no longer available fo...\n",
       "11585    xlsLib  A C/C++ multi-platform library for dyn...\n",
       "11629    Lowcode: Extending Pharo with C Types to Impro...\n",
       "11635                26th century C (void.h macro headers)\n",
       "12045    Show HN: Simple C library for an XBox Controll...\n",
       "12582    Interest in the C programming language is plum...\n",
       "13021    Print bits from any type using less code and r...\n",
       "13086     Benchmarking build systems for a large C project\n",
       "14650    Lowcode: Extending Smalltalk with C Types to I...\n",
       "Name: title, dtype: object"
      ]
     },
     "execution_count": 65,
     "metadata": {},
     "output_type": "execute_result"
    }
   ],
   "source": [
    "pattern = r\"[^+.#\\-&]\\b[Cc]\\b[^+.#\\-&]\"\n",
    "c_find = titles[titles.str.contains(pattern)]\n",
    "c_find[0:30]"
   ]
  },
  {
   "cell_type": "markdown",
   "metadata": {},
   "source": [
    "##### But this way also rows that start with 'C' are remove from results"
   ]
  },
  {
   "cell_type": "code",
   "execution_count": 66,
   "metadata": {},
   "outputs": [
    {
     "data": {
      "text/plain": [
       "'Print bits from any type using less code and resources (C)'"
      ]
     },
     "execution_count": 66,
     "metadata": {},
     "output_type": "execute_result"
    }
   ],
   "source": [
    "c_find[13021]"
   ]
  },
  {
   "cell_type": "markdown",
   "metadata": {},
   "source": [
    "### Lookarounds"
   ]
  },
  {
   "cell_type": "markdown",
   "metadata": {},
   "source": [
    "define a character or sequence of characters that either must or must not come before or after our regex match"
   ]
  },
  {
   "cell_type": "code",
   "execution_count": 67,
   "metadata": {},
   "outputs": [],
   "source": [
    "test_cases = ['Red_Green_Blue',\n",
    "              'Yellow_Green_Red',\n",
    "              'Red_Green_Red',\n",
    "              'Yellow_Green_Blue',\n",
    "              'Green']"
   ]
  },
  {
   "cell_type": "code",
   "execution_count": 68,
   "metadata": {},
   "outputs": [],
   "source": [
    "def run_test_cases(pattern):\n",
    "    for tc in test_cases:\n",
    "        result = re.search(pattern, tc)\n",
    "        print(result or 'no match')"
   ]
  },
  {
   "cell_type": "markdown",
   "metadata": {},
   "source": [
    "##### Positive lookahead "
   ]
  },
  {
   "cell_type": "code",
   "execution_count": 69,
   "metadata": {},
   "outputs": [
    {
     "name": "stdout",
     "output_type": "stream",
     "text": [
      "<re.Match object; span=(4, 9), match='Green'>\n",
      "no match\n",
      "no match\n",
      "<re.Match object; span=(7, 12), match='Green'>\n",
      "no match\n"
     ]
    }
   ],
   "source": [
    "pattern = r'Green(?=_Blue)'\n",
    "run_test_cases(pattern)"
   ]
  },
  {
   "cell_type": "markdown",
   "metadata": {},
   "source": [
    "##### Negative lookahead"
   ]
  },
  {
   "cell_type": "code",
   "execution_count": 70,
   "metadata": {},
   "outputs": [
    {
     "name": "stdout",
     "output_type": "stream",
     "text": [
      "no match\n",
      "<re.Match object; span=(7, 12), match='Green'>\n",
      "<re.Match object; span=(4, 9), match='Green'>\n",
      "no match\n",
      "<re.Match object; span=(0, 5), match='Green'>\n"
     ]
    }
   ],
   "source": [
    "pattern = r'Green(?!_Blue)'\n",
    "run_test_cases(pattern)"
   ]
  },
  {
   "cell_type": "markdown",
   "metadata": {},
   "source": [
    "##### Positive lookbehind"
   ]
  },
  {
   "cell_type": "code",
   "execution_count": 71,
   "metadata": {},
   "outputs": [
    {
     "name": "stdout",
     "output_type": "stream",
     "text": [
      "<re.Match object; span=(4, 9), match='Green'>\n",
      "no match\n",
      "<re.Match object; span=(4, 9), match='Green'>\n",
      "no match\n",
      "no match\n"
     ]
    }
   ],
   "source": [
    "pattern = r'(?<=Red_)Green'\n",
    "run_test_cases(pattern)"
   ]
  },
  {
   "cell_type": "markdown",
   "metadata": {},
   "source": [
    "##### Negative lookbehind"
   ]
  },
  {
   "cell_type": "code",
   "execution_count": 72,
   "metadata": {},
   "outputs": [
    {
     "name": "stdout",
     "output_type": "stream",
     "text": [
      "<re.Match object; span=(4, 9), match='Green'>\n",
      "no match\n",
      "<re.Match object; span=(4, 9), match='Green'>\n",
      "no match\n",
      "<re.Match object; span=(0, 5), match='Green'>\n"
     ]
    }
   ],
   "source": [
    "pattern = r'(?<!Yellow_)Green'\n",
    "run_test_cases(pattern)"
   ]
  },
  {
   "cell_type": "markdown",
   "metadata": {},
   "source": [
    "##### Cases that are followed by exactly five characters"
   ]
  },
  {
   "cell_type": "code",
   "execution_count": 73,
   "metadata": {},
   "outputs": [
    {
     "name": "stdout",
     "output_type": "stream",
     "text": [
      "<re.Match object; span=(4, 9), match='Green'>\n",
      "no match\n",
      "no match\n",
      "<re.Match object; span=(7, 12), match='Green'>\n",
      "no match\n"
     ]
    }
   ],
   "source": [
    "pattern = r'Green(?=.{5})'\n",
    "run_test_cases(pattern)"
   ]
  },
  {
   "cell_type": "markdown",
   "metadata": {},
   "source": [
    "##### Refine the regular expression builded above to capture mentions of the \"C\" programming language"
   ]
  },
  {
   "cell_type": "code",
   "execution_count": 74,
   "metadata": {},
   "outputs": [
    {
     "data": {
      "text/plain": [
       "252      Show HN: openemacs  a tiny emacs clone, ? 1024...\n",
       "457             Talking to C Programmers about C++ [video]\n",
       "517             Booksbyus/scalable-c: Scalable C  The Book\n",
       "519                                   Python by the C side\n",
       "906                                        Tiny C Compiler\n",
       "1662                          Lesser-known C coding styles\n",
       "2469     The oil and gas we have already tapped will ta...\n",
       "3178     New release of the unit testing framework cmoc...\n",
       "3959     Ask HN: Any distributed-db has redis-like cust...\n",
       "4161     How to run C programs on the BeagleBone's PRU ...\n",
       "4175                      Stabilizing C's Quicksort (2014)\n",
       "4329      Automatic C library binding generator for Golang\n",
       "4803            Calling a simple C function from D  strcmp\n",
       "5383     C Preprocessor Trick for Implementing Similar ...\n",
       "5684                Tiny C program to limit volume on OS X\n",
       "6110     C2ats  An utility to generate ATS interface fr...\n",
       "6117     Realm Objective-C and Swift 1.1.0  Official Sw...\n",
       "6281     JavaScript vs. C, Java, Python, Ruby, and C#in...\n",
       "6324     Ask HN: What are some examples of well written...\n",
       "8147     How to trick C/C++ compilers into generating t...\n",
       "8235               Ask HN: Personal C&C software/hardware?\n",
       "8533                      The new C standards are worth it\n",
       "8818                      Calling from C into Ocaml (2009)\n",
       "9170     How to trick C/C++ compilers into generating t...\n",
       "9370                     Philz Coffee raises $45M Series C\n",
       "10489    A subset-of-C compiler targeting 32-bit x86 (h...\n",
       "10723    Show HN: Micro RFC 3161 Time-Stamp server writ...\n",
       "11129    One year later: Can Android 7.0 Nougat save th...\n",
       "11341    Learn C the Hard Way is no longer available fo...\n",
       "11585    xlsLib  A C/C++ multi-platform library for dyn...\n",
       "Name: title, dtype: object"
      ]
     },
     "execution_count": 74,
     "metadata": {},
     "output_type": "execute_result"
    }
   ],
   "source": [
    "#pattern = r\"[^+.#\\-&]\\b[Cc]\\b[^+.#\\-&]\"\n",
    "pattern = r'(?!\\-)\\b[Cc]\\b(?![+.#\\-&])'\n",
    "c_find = titles[titles.str.contains(pattern)]\n",
    "c_find[0:30]"
   ]
  },
  {
   "cell_type": "code",
   "execution_count": 75,
   "metadata": {},
   "outputs": [
    {
     "data": {
      "text/plain": [
       "'A subset-of-C compiler targeting 32-bit x86 (hobby project)'"
      ]
     },
     "execution_count": 75,
     "metadata": {},
     "output_type": "execute_result"
    }
   ],
   "source": [
    "c_find[10489]"
   ]
  },
  {
   "cell_type": "code",
   "execution_count": 76,
   "metadata": {},
   "outputs": [
    {
     "data": {
      "text/plain": [
       "252      Show HN: openemacs  a tiny emacs clone, ? 1024...\n",
       "457             Talking to C Programmers about C++ [video]\n",
       "517             Booksbyus/scalable-c: Scalable C  The Book\n",
       "519                                   Python by the C side\n",
       "906                                        Tiny C Compiler\n",
       "1662                          Lesser-known C coding styles\n",
       "2469     The oil and gas we have already tapped will ta...\n",
       "3178     New release of the unit testing framework cmoc...\n",
       "3959     Ask HN: Any distributed-db has redis-like cust...\n",
       "4161     How to run C programs on the BeagleBone's PRU ...\n",
       "4175                      Stabilizing C's Quicksort (2014)\n",
       "4329      Automatic C library binding generator for Golang\n",
       "4803            Calling a simple C function from D  strcmp\n",
       "5383     C Preprocessor Trick for Implementing Similar ...\n",
       "5684                Tiny C program to limit volume on OS X\n",
       "6110     C2ats  An utility to generate ATS interface fr...\n",
       "6281     JavaScript vs. C, Java, Python, Ruby, and C#in...\n",
       "6324     Ask HN: What are some examples of well written...\n",
       "8147     How to trick C/C++ compilers into generating t...\n",
       "8235               Ask HN: Personal C&C software/hardware?\n",
       "8533                      The new C standards are worth it\n",
       "8818                      Calling from C into Ocaml (2009)\n",
       "9170     How to trick C/C++ compilers into generating t...\n",
       "9370                     Philz Coffee raises $45M Series C\n",
       "10723    Show HN: Micro RFC 3161 Time-Stamp server writ...\n",
       "11129    One year later: Can Android 7.0 Nougat save th...\n",
       "11341    Learn C the Hard Way is no longer available fo...\n",
       "11585    xlsLib  A C/C++ multi-platform library for dyn...\n",
       "11629    Lowcode: Extending Pharo with C Types to Impro...\n",
       "11635                26th century C (void.h macro headers)\n",
       "Name: title, dtype: object"
      ]
     },
     "execution_count": 76,
     "metadata": {},
     "output_type": "execute_result"
    }
   ],
   "source": [
    "#pattern = r\"[^+.#\\-&]\\b[Cc]\\b[^+.#\\-&]\"\n",
    "pattern = r'(?<!\\-)\\b[Cc]\\b(?![+.#\\-&])'\n",
    "c_find = titles[titles.str.contains(pattern)]\n",
    "c_find[0:30]"
   ]
  },
  {
   "cell_type": "code",
   "execution_count": 77,
   "metadata": {},
   "outputs": [
    {
     "data": {
      "text/plain": [
       "'C2ats  An utility to generate ATS interface from C code'"
      ]
     },
     "execution_count": 77,
     "metadata": {},
     "output_type": "execute_result"
    }
   ],
   "source": [
    "c_find[6110]"
   ]
  },
  {
   "cell_type": "code",
   "execution_count": 78,
   "metadata": {},
   "outputs": [
    {
     "data": {
      "text/plain": [
       "'One year later: Can Android 7.0 Nougat save the Pixel C?'"
      ]
     },
     "execution_count": 78,
     "metadata": {},
     "output_type": "execute_result"
    }
   ],
   "source": [
    "c_find[11129]"
   ]
  },
  {
   "cell_type": "markdown",
   "metadata": {},
   "source": [
    "#### Backreferences"
   ]
  },
  {
   "cell_type": "markdown",
   "metadata": {},
   "source": [
    "specify a capture group and then to repeat it"
   ]
  },
  {
   "cell_type": "code",
   "execution_count": 79,
   "metadata": {},
   "outputs": [],
   "source": [
    "test_cases = [\n",
    "              \"I'm going to read a book.\",\n",
    "              \"Green is my favorite color.\",\n",
    "              \"My name is Aaron.\",\n",
    "              \"No doubles here.\",\n",
    "              \"I have a pet eel.\"\n",
    "             ]"
   ]
  },
  {
   "cell_type": "code",
   "execution_count": 80,
   "metadata": {},
   "outputs": [
    {
     "name": "stdout",
     "output_type": "stream",
     "text": [
      "<re.Match object; span=(21, 23), match='oo'>\n",
      "<re.Match object; span=(2, 4), match='ee'>\n",
      "no match\n",
      "no match\n",
      "<re.Match object; span=(13, 15), match='ee'>\n"
     ]
    }
   ],
   "source": [
    "pattern = r'(\\w)\\1'\n",
    "run_test_cases(pattern)"
   ]
  },
  {
   "cell_type": "markdown",
   "metadata": {},
   "source": [
    "Aaron doesn't match because A and a are different characters"
   ]
  },
  {
   "cell_type": "code",
   "execution_count": 81,
   "metadata": {},
   "outputs": [
    {
     "name": "stderr",
     "output_type": "stream",
     "text": [
      "F:\\Program Files\\Anaconda\\lib\\site-packages\\pandas\\core\\strings.py:1843: UserWarning: This pattern has match groups. To actually get the groups, use str.extract.\n",
      "  return func(self, *args, **kwargs)\n"
     ]
    },
    {
     "data": {
      "text/plain": [
       "0     True\n",
       "1     True\n",
       "2    False\n",
       "3    False\n",
       "4     True\n",
       "dtype: bool"
      ]
     },
     "execution_count": 81,
     "metadata": {},
     "output_type": "execute_result"
    }
   ],
   "source": [
    "#using pandas\n",
    "test_cases = pd.Series(test_cases)\n",
    "test_cases.str.contains(pattern)"
   ]
  },
  {
   "cell_type": "code",
   "execution_count": 82,
   "metadata": {},
   "outputs": [
    {
     "data": {
      "text/html": [
       "<div>\n",
       "<style scoped>\n",
       "    .dataframe tbody tr th:only-of-type {\n",
       "        vertical-align: middle;\n",
       "    }\n",
       "\n",
       "    .dataframe tbody tr th {\n",
       "        vertical-align: top;\n",
       "    }\n",
       "\n",
       "    .dataframe thead th {\n",
       "        text-align: right;\n",
       "    }\n",
       "</style>\n",
       "<table border=\"1\" class=\"dataframe\">\n",
       "  <thead>\n",
       "    <tr style=\"text-align: right;\">\n",
       "      <th></th>\n",
       "      <th>0</th>\n",
       "    </tr>\n",
       "  </thead>\n",
       "  <tbody>\n",
       "    <tr>\n",
       "      <th>0</th>\n",
       "      <td>o</td>\n",
       "    </tr>\n",
       "    <tr>\n",
       "      <th>1</th>\n",
       "      <td>e</td>\n",
       "    </tr>\n",
       "    <tr>\n",
       "      <th>2</th>\n",
       "      <td>NaN</td>\n",
       "    </tr>\n",
       "    <tr>\n",
       "      <th>3</th>\n",
       "      <td>NaN</td>\n",
       "    </tr>\n",
       "    <tr>\n",
       "      <th>4</th>\n",
       "      <td>e</td>\n",
       "    </tr>\n",
       "  </tbody>\n",
       "</table>\n",
       "</div>"
      ],
      "text/plain": [
       "     0\n",
       "0    o\n",
       "1    e\n",
       "2  NaN\n",
       "3  NaN\n",
       "4    e"
      ]
     },
     "execution_count": 82,
     "metadata": {},
     "output_type": "execute_result"
    }
   ],
   "source": [
    "test_cases.str.extract(pattern)"
   ]
  },
  {
   "cell_type": "markdown",
   "metadata": {},
   "source": [
    "##### Identify story titles that have repeated words"
   ]
  },
  {
   "cell_type": "code",
   "execution_count": 83,
   "metadata": {},
   "outputs": [
    {
     "data": {
      "text/plain": [
       "0         You have two days to comment if you want stem ...\n",
       "2         What if we just printed a flatscreen televisio...\n",
       "5                             Saving the Hassle of Shopping\n",
       "6         Macalifa  A new open-source music app for UWP ...\n",
       "7         GitHub  theweavrs/Macalifa: A music player wri...\n",
       "                                ...                        \n",
       "293107                   Hands-On with Googles OnHub Router\n",
       "293110                JSF ViewState and CSRF Hacker Attacks\n",
       "293115    Attention and awareness in stage magic: turnin...\n",
       "293116                    Dying vets fuck you letter (2013)\n",
       "293117    PHP 7 Coolest Features: Space Ships, Type Hint...\n",
       "Name: title, Length: 171074, dtype: object"
      ]
     },
     "execution_count": 83,
     "metadata": {},
     "output_type": "execute_result"
    }
   ],
   "source": [
    "pattern = r'(\\w)\\1'\n",
    "titles[titles.str.contains(pattern)]"
   ]
  },
  {
   "cell_type": "code",
   "execution_count": 84,
   "metadata": {},
   "outputs": [
    {
     "data": {
      "text/plain": [
       "2597     The Log Log Prior for the Frequency of Extrate...\n",
       "2804         AI Is the New New Thing (And Its Taking Over)\n",
       "9592     A very very very good vacation responder. The ...\n",
       "10487    The Last Last Summer:  Donald Trump and the Fa...\n",
       "10722    Grunt 1.0.1 1+ What is the difference and what...\n",
       "Name: title, dtype: object"
      ]
     },
     "execution_count": 84,
     "metadata": {},
     "output_type": "execute_result"
    }
   ],
   "source": [
    "pattern = r'\\b(\\w+)\\s\\1\\b'\n",
    "titles[titles.str.contains(pattern)].head()"
   ]
  },
  {
   "cell_type": "markdown",
   "metadata": {},
   "source": [
    "#### Replace simple substrings"
   ]
  },
  {
   "cell_type": "code",
   "execution_count": 85,
   "metadata": {},
   "outputs": [],
   "source": [
    "string = \"aBcDEfGHIj\""
   ]
  },
  {
   "cell_type": "code",
   "execution_count": 86,
   "metadata": {},
   "outputs": [
    {
     "data": {
      "text/plain": [
       "'-B-DE-GHI-'"
      ]
     },
     "execution_count": 86,
     "metadata": {},
     "output_type": "execute_result"
    }
   ],
   "source": [
    "pattern = r'[a-z]'\n",
    "re.sub(pattern, '-', string)"
   ]
  },
  {
   "cell_type": "code",
   "execution_count": 87,
   "metadata": {},
   "outputs": [
    {
     "data": {
      "text/plain": [
       "0    SQL\n",
       "1    SQL\n",
       "2    SQL\n",
       "dtype: object"
      ]
     },
     "execution_count": 87,
     "metadata": {},
     "output_type": "execute_result"
    }
   ],
   "source": [
    "sql_variations = pd.Series([\"SQL\", \"Sql\", \"sql\"])\n",
    "\n",
    "sql_variations.str.replace(r\"sql\", \"SQL\", flags=re.I)"
   ]
  },
  {
   "cell_type": "markdown",
   "metadata": {},
   "source": [
    "##### Regular expression to replace each of the matches in email_variations with 'email'"
   ]
  },
  {
   "cell_type": "code",
   "execution_count": 88,
   "metadata": {},
   "outputs": [],
   "source": [
    "email_variations = pd.Series(['email', 'Email', 'e Mail',\n",
    "                        'e mail', 'E-mail', 'e-mail',\n",
    "                        'eMail', 'E-Mail', 'EMAIL'])"
   ]
  },
  {
   "cell_type": "code",
   "execution_count": 89,
   "metadata": {},
   "outputs": [
    {
     "data": {
      "text/plain": [
       "0    email\n",
       "1    email\n",
       "2    email\n",
       "3    email\n",
       "4    email\n",
       "5    email\n",
       "6    email\n",
       "7    email\n",
       "8    email\n",
       "dtype: object"
      ]
     },
     "execution_count": 89,
     "metadata": {},
     "output_type": "execute_result"
    }
   ],
   "source": [
    "pattern = r'e[- ]*mail'\n",
    "email_variations.str.replace(pattern, 'email', flags=re.I)"
   ]
  },
  {
   "cell_type": "code",
   "execution_count": 90,
   "metadata": {},
   "outputs": [
    {
     "data": {
      "text/plain": [
       "0         You have two days to comment if you want stem ...\n",
       "1                                SQLAR  the SQLite Archiver\n",
       "2         What if we just printed a flatscreen televisio...\n",
       "3                                         algorithmic music\n",
       "4         How the Data Vault Enables the Next-Gen Data W...\n",
       "                                ...                        \n",
       "293114          Ask HN: What is/are your favorite quote(s)?\n",
       "293115    Attention and awareness in stage magic: turnin...\n",
       "293116                    Dying vets fuck you letter (2013)\n",
       "293117    PHP 7 Coolest Features: Space Ships, Type Hint...\n",
       "293118    Toyota Establishes Research Centers with MIT a...\n",
       "Name: title, Length: 293119, dtype: object"
      ]
     },
     "execution_count": 90,
     "metadata": {},
     "output_type": "execute_result"
    }
   ],
   "source": [
    "titles.str.replace(pattern, 'email', flags=re.I)"
   ]
  },
  {
   "cell_type": "markdown",
   "metadata": {},
   "source": [
    "#### Regular expressions to extract the domain"
   ]
  },
  {
   "cell_type": "code",
   "execution_count": 91,
   "metadata": {},
   "outputs": [
    {
     "data": {
      "text/html": [
       "<div>\n",
       "<style scoped>\n",
       "    .dataframe tbody tr th:only-of-type {\n",
       "        vertical-align: middle;\n",
       "    }\n",
       "\n",
       "    .dataframe tbody tr th {\n",
       "        vertical-align: top;\n",
       "    }\n",
       "\n",
       "    .dataframe thead th {\n",
       "        text-align: right;\n",
       "    }\n",
       "</style>\n",
       "<table border=\"1\" class=\"dataframe\">\n",
       "  <thead>\n",
       "    <tr style=\"text-align: right;\">\n",
       "      <th></th>\n",
       "      <th>id</th>\n",
       "      <th>title</th>\n",
       "      <th>url</th>\n",
       "      <th>num_points</th>\n",
       "      <th>num_comments</th>\n",
       "      <th>author</th>\n",
       "      <th>created_at</th>\n",
       "    </tr>\n",
       "  </thead>\n",
       "  <tbody>\n",
       "    <tr>\n",
       "      <th>0</th>\n",
       "      <td>12579008</td>\n",
       "      <td>You have two days to comment if you want stem ...</td>\n",
       "      <td>http://www.regulations.gov/document?D=FDA-2015...</td>\n",
       "      <td>1</td>\n",
       "      <td>0</td>\n",
       "      <td>altstar</td>\n",
       "      <td>9/26/2016 3:26</td>\n",
       "    </tr>\n",
       "    <tr>\n",
       "      <th>1</th>\n",
       "      <td>12579005</td>\n",
       "      <td>SQLAR  the SQLite Archiver</td>\n",
       "      <td>https://www.sqlite.org/sqlar/doc/trunk/README.md</td>\n",
       "      <td>1</td>\n",
       "      <td>0</td>\n",
       "      <td>blacksqr</td>\n",
       "      <td>9/26/2016 3:24</td>\n",
       "    </tr>\n",
       "    <tr>\n",
       "      <th>2</th>\n",
       "      <td>12578997</td>\n",
       "      <td>What if we just printed a flatscreen televisio...</td>\n",
       "      <td>https://medium.com/vanmoof/our-secrets-out-f21...</td>\n",
       "      <td>1</td>\n",
       "      <td>0</td>\n",
       "      <td>pavel_lishin</td>\n",
       "      <td>9/26/2016 3:19</td>\n",
       "    </tr>\n",
       "  </tbody>\n",
       "</table>\n",
       "</div>"
      ],
      "text/plain": [
       "         id                                              title                                                url  num_points  num_comments        author      created_at\n",
       "0  12579008  You have two days to comment if you want stem ...  http://www.regulations.gov/document?D=FDA-2015...           1             0       altstar  9/26/2016 3:26\n",
       "1  12579005                         SQLAR  the SQLite Archiver   https://www.sqlite.org/sqlar/doc/trunk/README.md           1             0      blacksqr  9/26/2016 3:24\n",
       "2  12578997  What if we just printed a flatscreen televisio...  https://medium.com/vanmoof/our-secrets-out-f21...           1             0  pavel_lishin  9/26/2016 3:19"
      ]
     },
     "execution_count": 91,
     "metadata": {},
     "output_type": "execute_result"
    }
   ],
   "source": [
    "hn.head(3)"
   ]
  },
  {
   "cell_type": "code",
   "execution_count": 92,
   "metadata": {},
   "outputs": [],
   "source": [
    "pattern = r'https?://([\\w\\.]+)'"
   ]
  },
  {
   "cell_type": "code",
   "execution_count": 93,
   "metadata": {},
   "outputs": [
    {
     "data": {
      "text/html": [
       "<div>\n",
       "<style scoped>\n",
       "    .dataframe tbody tr th:only-of-type {\n",
       "        vertical-align: middle;\n",
       "    }\n",
       "\n",
       "    .dataframe tbody tr th {\n",
       "        vertical-align: top;\n",
       "    }\n",
       "\n",
       "    .dataframe thead th {\n",
       "        text-align: right;\n",
       "    }\n",
       "</style>\n",
       "<table border=\"1\" class=\"dataframe\">\n",
       "  <thead>\n",
       "    <tr style=\"text-align: right;\">\n",
       "      <th></th>\n",
       "      <th>0</th>\n",
       "    </tr>\n",
       "  </thead>\n",
       "  <tbody>\n",
       "    <tr>\n",
       "      <th>0</th>\n",
       "      <td>www.regulations.gov</td>\n",
       "    </tr>\n",
       "    <tr>\n",
       "      <th>1</th>\n",
       "      <td>www.sqlite.org</td>\n",
       "    </tr>\n",
       "    <tr>\n",
       "      <th>2</th>\n",
       "      <td>medium.com</td>\n",
       "    </tr>\n",
       "    <tr>\n",
       "      <th>3</th>\n",
       "      <td>cacm.acm.org</td>\n",
       "    </tr>\n",
       "    <tr>\n",
       "      <th>4</th>\n",
       "      <td>www.talend.com</td>\n",
       "    </tr>\n",
       "    <tr>\n",
       "      <th>...</th>\n",
       "      <td>...</td>\n",
       "    </tr>\n",
       "    <tr>\n",
       "      <th>293114</th>\n",
       "      <td>NaN</td>\n",
       "    </tr>\n",
       "    <tr>\n",
       "      <th>293115</th>\n",
       "      <td>people.cs.uchicago.edu</td>\n",
       "    </tr>\n",
       "    <tr>\n",
       "      <th>293116</th>\n",
       "      <td>dangerousminds.net</td>\n",
       "    </tr>\n",
       "    <tr>\n",
       "      <th>293117</th>\n",
       "      <td>www.zend.com</td>\n",
       "    </tr>\n",
       "    <tr>\n",
       "      <th>293118</th>\n",
       "      <td>newsroom.toyota.co.jp</td>\n",
       "    </tr>\n",
       "  </tbody>\n",
       "</table>\n",
       "<p>293119 rows × 1 columns</p>\n",
       "</div>"
      ],
      "text/plain": [
       "                             0\n",
       "0          www.regulations.gov\n",
       "1               www.sqlite.org\n",
       "2                   medium.com\n",
       "3                 cacm.acm.org\n",
       "4               www.talend.com\n",
       "...                        ...\n",
       "293114                     NaN\n",
       "293115  people.cs.uchicago.edu\n",
       "293116      dangerousminds.net\n",
       "293117            www.zend.com\n",
       "293118   newsroom.toyota.co.jp\n",
       "\n",
       "[293119 rows x 1 columns]"
      ]
     },
     "execution_count": 93,
     "metadata": {},
     "output_type": "execute_result"
    }
   ],
   "source": [
    "hn_domains = hn.url.str.extract(pattern, flags=re.I)\n",
    "hn_domains"
   ]
  },
  {
   "cell_type": "markdown",
   "metadata": {},
   "source": [
    "I see some NaN values, I need to check it"
   ]
  },
  {
   "cell_type": "code",
   "execution_count": 94,
   "metadata": {},
   "outputs": [
    {
     "data": {
      "text/plain": [
       "id                                                 10176919\n",
       "title           Ask HN: What is/are your favorite quote(s)?\n",
       "url                                                     NaN\n",
       "num_points                                               15\n",
       "num_comments                                             20\n",
       "author                                             kumarski\n",
       "created_at                                    9/6/2015 6:02\n",
       "Name: 293114, dtype: object"
      ]
     },
     "execution_count": 94,
     "metadata": {},
     "output_type": "execute_result"
    }
   ],
   "source": [
    "hn.loc[293114]"
   ]
  },
  {
   "cell_type": "code",
   "execution_count": 95,
   "metadata": {},
   "outputs": [
    {
     "data": {
      "text/plain": [
       "medium.com                 15929\n",
       "github.com                 14419\n",
       "www.nytimes.com             5985\n",
       "www.youtube.com             5232\n",
       "techcrunch.com              4114\n",
       "                           ...  \n",
       "builditwith.me                 1\n",
       "blog.socialsearch.io           1\n",
       "www.aasc.ucla.edu              1\n",
       "enigmastation.com              1\n",
       "electricitymap.tmrow.co        1\n",
       "Name: 0, Length: 50631, dtype: int64"
      ]
     },
     "execution_count": 95,
     "metadata": {},
     "output_type": "execute_result"
    }
   ],
   "source": [
    "hn_domains[0].value_counts()"
   ]
  },
  {
   "cell_type": "markdown",
   "metadata": {},
   "source": [
    "Check NaN urls"
   ]
  },
  {
   "cell_type": "code",
   "execution_count": 96,
   "metadata": {},
   "outputs": [
    {
     "data": {
      "text/plain": [
       "13866"
      ]
     },
     "execution_count": 96,
     "metadata": {},
     "output_type": "execute_result"
    }
   ],
   "source": [
    "hn_domains[0].isna().sum()"
   ]
  },
  {
   "cell_type": "code",
   "execution_count": 98,
   "metadata": {},
   "outputs": [
    {
     "data": {
      "text/plain": [
       "293119"
      ]
     },
     "execution_count": 98,
     "metadata": {},
     "output_type": "execute_result"
    }
   ],
   "source": [
    "len(hn_domains)"
   ]
  },
  {
   "cell_type": "code",
   "execution_count": 99,
   "metadata": {},
   "outputs": [
    {
     "data": {
      "text/plain": [
       "0    279253\n",
       "dtype: int64"
      ]
     },
     "execution_count": 99,
     "metadata": {},
     "output_type": "execute_result"
    }
   ],
   "source": [
    "hn_domains.count()"
   ]
  },
  {
   "cell_type": "code",
   "execution_count": 100,
   "metadata": {},
   "outputs": [
    {
     "data": {
      "text/plain": [
       "0    13866\n",
       "dtype: int64"
      ]
     },
     "execution_count": 100,
     "metadata": {},
     "output_type": "execute_result"
    }
   ],
   "source": [
    "count_nan = len(hn_domains) - hn_domains.count()\n",
    "count_nan"
   ]
  },
  {
   "cell_type": "markdown",
   "metadata": {},
   "source": [
    "#### Extract Protocol, domain and Page Path"
   ]
  },
  {
   "cell_type": "code",
   "execution_count": 101,
   "metadata": {},
   "outputs": [
    {
     "data": {
      "text/html": [
       "<div>\n",
       "<style scoped>\n",
       "    .dataframe tbody tr th:only-of-type {\n",
       "        vertical-align: middle;\n",
       "    }\n",
       "\n",
       "    .dataframe tbody tr th {\n",
       "        vertical-align: top;\n",
       "    }\n",
       "\n",
       "    .dataframe thead th {\n",
       "        text-align: right;\n",
       "    }\n",
       "</style>\n",
       "<table border=\"1\" class=\"dataframe\">\n",
       "  <thead>\n",
       "    <tr style=\"text-align: right;\">\n",
       "      <th></th>\n",
       "      <th>0</th>\n",
       "      <th>1</th>\n",
       "      <th>2</th>\n",
       "    </tr>\n",
       "  </thead>\n",
       "  <tbody>\n",
       "    <tr>\n",
       "      <th>0</th>\n",
       "      <td>http</td>\n",
       "      <td>www.regulations.gov</td>\n",
       "      <td>document?D=FDA-2015-D-3719-0018</td>\n",
       "    </tr>\n",
       "    <tr>\n",
       "      <th>1</th>\n",
       "      <td>https</td>\n",
       "      <td>www.sqlite.org</td>\n",
       "      <td>sqlar/doc/trunk/README.md</td>\n",
       "    </tr>\n",
       "    <tr>\n",
       "      <th>2</th>\n",
       "      <td>https</td>\n",
       "      <td>medium.com</td>\n",
       "      <td>vanmoof/our-secrets-out-f21c1f03fdc8#.ietxmez43</td>\n",
       "    </tr>\n",
       "    <tr>\n",
       "      <th>3</th>\n",
       "      <td>http</td>\n",
       "      <td>cacm.acm.org</td>\n",
       "      <td>magazines/2011/7/109891-algorithmic-compositio...</td>\n",
       "    </tr>\n",
       "    <tr>\n",
       "      <th>4</th>\n",
       "      <td>https</td>\n",
       "      <td>www.talend.com</td>\n",
       "      <td>blog/2016/05/12/talend-and-Âthe-data-vaultÂ</td>\n",
       "    </tr>\n",
       "    <tr>\n",
       "      <th>...</th>\n",
       "      <td>...</td>\n",
       "      <td>...</td>\n",
       "      <td>...</td>\n",
       "    </tr>\n",
       "    <tr>\n",
       "      <th>293114</th>\n",
       "      <td>NaN</td>\n",
       "      <td>NaN</td>\n",
       "      <td>NaN</td>\n",
       "    </tr>\n",
       "    <tr>\n",
       "      <th>293115</th>\n",
       "      <td>http</td>\n",
       "      <td>people.cs.uchicago.edu</td>\n",
       "      <td>~luitien/nrn2473.pdf</td>\n",
       "    </tr>\n",
       "    <tr>\n",
       "      <th>293116</th>\n",
       "      <td>http</td>\n",
       "      <td>dangerousminds.net</td>\n",
       "      <td>comments/dying_vets_fuck_you_letter_to_george_...</td>\n",
       "    </tr>\n",
       "    <tr>\n",
       "      <th>293117</th>\n",
       "      <td>https</td>\n",
       "      <td>www.zend.com</td>\n",
       "      <td>en/resources/php-7</td>\n",
       "    </tr>\n",
       "    <tr>\n",
       "      <th>293118</th>\n",
       "      <td>http</td>\n",
       "      <td>newsroom.toyota.co.jp</td>\n",
       "      <td>en/detail/9233109/</td>\n",
       "    </tr>\n",
       "  </tbody>\n",
       "</table>\n",
       "<p>293119 rows × 3 columns</p>\n",
       "</div>"
      ],
      "text/plain": [
       "            0                       1                                                  2\n",
       "0        http     www.regulations.gov                    document?D=FDA-2015-D-3719-0018\n",
       "1       https          www.sqlite.org                          sqlar/doc/trunk/README.md\n",
       "2       https              medium.com    vanmoof/our-secrets-out-f21c1f03fdc8#.ietxmez43\n",
       "3        http            cacm.acm.org  magazines/2011/7/109891-algorithmic-compositio...\n",
       "4       https          www.talend.com      blog/2016/05/12/talend-and-Âthe-data-vaultÂ\n",
       "...       ...                     ...                                                ...\n",
       "293114    NaN                     NaN                                                NaN\n",
       "293115   http  people.cs.uchicago.edu                               ~luitien/nrn2473.pdf\n",
       "293116   http      dangerousminds.net  comments/dying_vets_fuck_you_letter_to_george_...\n",
       "293117  https            www.zend.com                                 en/resources/php-7\n",
       "293118   http   newsroom.toyota.co.jp                                 en/detail/9233109/\n",
       "\n",
       "[293119 rows x 3 columns]"
      ]
     },
     "execution_count": 101,
     "metadata": {},
     "output_type": "execute_result"
    }
   ],
   "source": [
    "pattern = r\"(.+)://([\\w\\.]+)/?(.*)\"\n",
    "hn.url.str.extract(pattern)"
   ]
  },
  {
   "cell_type": "markdown",
   "metadata": {},
   "source": [
    "#### Naming with named capture groups"
   ]
  },
  {
   "cell_type": "code",
   "execution_count": 102,
   "metadata": {},
   "outputs": [
    {
     "data": {
      "text/plain": [
       "0    9/26/2016 3:26\n",
       "1    9/26/2016 3:24\n",
       "2    9/26/2016 3:19\n",
       "Name: created_at, dtype: object"
      ]
     },
     "execution_count": 102,
     "metadata": {},
     "output_type": "execute_result"
    }
   ],
   "source": [
    "created_at = hn['created_at'].head()\n",
    "created_at.head(3)"
   ]
  },
  {
   "cell_type": "code",
   "execution_count": 103,
   "metadata": {},
   "outputs": [
    {
     "data": {
      "text/html": [
       "<div>\n",
       "<style scoped>\n",
       "    .dataframe tbody tr th:only-of-type {\n",
       "        vertical-align: middle;\n",
       "    }\n",
       "\n",
       "    .dataframe tbody tr th {\n",
       "        vertical-align: top;\n",
       "    }\n",
       "\n",
       "    .dataframe thead th {\n",
       "        text-align: right;\n",
       "    }\n",
       "</style>\n",
       "<table border=\"1\" class=\"dataframe\">\n",
       "  <thead>\n",
       "    <tr style=\"text-align: right;\">\n",
       "      <th></th>\n",
       "      <th>Date</th>\n",
       "      <th>Time</th>\n",
       "    </tr>\n",
       "  </thead>\n",
       "  <tbody>\n",
       "    <tr>\n",
       "      <th>0</th>\n",
       "      <td>9/26/2016</td>\n",
       "      <td>3:26</td>\n",
       "    </tr>\n",
       "    <tr>\n",
       "      <th>1</th>\n",
       "      <td>9/26/2016</td>\n",
       "      <td>3:24</td>\n",
       "    </tr>\n",
       "    <tr>\n",
       "      <th>2</th>\n",
       "      <td>9/26/2016</td>\n",
       "      <td>3:19</td>\n",
       "    </tr>\n",
       "    <tr>\n",
       "      <th>3</th>\n",
       "      <td>9/26/2016</td>\n",
       "      <td>3:16</td>\n",
       "    </tr>\n",
       "    <tr>\n",
       "      <th>4</th>\n",
       "      <td>9/26/2016</td>\n",
       "      <td>3:14</td>\n",
       "    </tr>\n",
       "  </tbody>\n",
       "</table>\n",
       "</div>"
      ],
      "text/plain": [
       "        Date  Time\n",
       "0  9/26/2016  3:26\n",
       "1  9/26/2016  3:24\n",
       "2  9/26/2016  3:19\n",
       "3  9/26/2016  3:16\n",
       "4  9/26/2016  3:14"
      ]
     },
     "execution_count": 103,
     "metadata": {},
     "output_type": "execute_result"
    }
   ],
   "source": [
    "pattern = r\"(?P<Date>.+) (?P<Time>.+)\"\n",
    "created_at.str.extract(pattern)"
   ]
  },
  {
   "cell_type": "code",
   "execution_count": 104,
   "metadata": {},
   "outputs": [
    {
     "data": {
      "text/html": [
       "<div>\n",
       "<style scoped>\n",
       "    .dataframe tbody tr th:only-of-type {\n",
       "        vertical-align: middle;\n",
       "    }\n",
       "\n",
       "    .dataframe tbody tr th {\n",
       "        vertical-align: top;\n",
       "    }\n",
       "\n",
       "    .dataframe thead th {\n",
       "        text-align: right;\n",
       "    }\n",
       "</style>\n",
       "<table border=\"1\" class=\"dataframe\">\n",
       "  <thead>\n",
       "    <tr style=\"text-align: right;\">\n",
       "      <th></th>\n",
       "      <th>protocol</th>\n",
       "      <th>domain</th>\n",
       "      <th>path</th>\n",
       "    </tr>\n",
       "  </thead>\n",
       "  <tbody>\n",
       "    <tr>\n",
       "      <th>0</th>\n",
       "      <td>http</td>\n",
       "      <td>www.regulations.gov</td>\n",
       "      <td>document?D=FDA-2015-D-3719-0018</td>\n",
       "    </tr>\n",
       "    <tr>\n",
       "      <th>1</th>\n",
       "      <td>https</td>\n",
       "      <td>www.sqlite.org</td>\n",
       "      <td>sqlar/doc/trunk/README.md</td>\n",
       "    </tr>\n",
       "    <tr>\n",
       "      <th>2</th>\n",
       "      <td>https</td>\n",
       "      <td>medium.com</td>\n",
       "      <td>vanmoof/our-secrets-out-f21c1f03fdc8#.ietxmez43</td>\n",
       "    </tr>\n",
       "    <tr>\n",
       "      <th>3</th>\n",
       "      <td>http</td>\n",
       "      <td>cacm.acm.org</td>\n",
       "      <td>magazines/2011/7/109891-algorithmic-compositio...</td>\n",
       "    </tr>\n",
       "    <tr>\n",
       "      <th>4</th>\n",
       "      <td>https</td>\n",
       "      <td>www.talend.com</td>\n",
       "      <td>blog/2016/05/12/talend-and-Âthe-data-vaultÂ</td>\n",
       "    </tr>\n",
       "    <tr>\n",
       "      <th>...</th>\n",
       "      <td>...</td>\n",
       "      <td>...</td>\n",
       "      <td>...</td>\n",
       "    </tr>\n",
       "    <tr>\n",
       "      <th>293114</th>\n",
       "      <td>NaN</td>\n",
       "      <td>NaN</td>\n",
       "      <td>NaN</td>\n",
       "    </tr>\n",
       "    <tr>\n",
       "      <th>293115</th>\n",
       "      <td>http</td>\n",
       "      <td>people.cs.uchicago.edu</td>\n",
       "      <td>~luitien/nrn2473.pdf</td>\n",
       "    </tr>\n",
       "    <tr>\n",
       "      <th>293116</th>\n",
       "      <td>http</td>\n",
       "      <td>dangerousminds.net</td>\n",
       "      <td>comments/dying_vets_fuck_you_letter_to_george_...</td>\n",
       "    </tr>\n",
       "    <tr>\n",
       "      <th>293117</th>\n",
       "      <td>https</td>\n",
       "      <td>www.zend.com</td>\n",
       "      <td>en/resources/php-7</td>\n",
       "    </tr>\n",
       "    <tr>\n",
       "      <th>293118</th>\n",
       "      <td>http</td>\n",
       "      <td>newsroom.toyota.co.jp</td>\n",
       "      <td>en/detail/9233109/</td>\n",
       "    </tr>\n",
       "  </tbody>\n",
       "</table>\n",
       "<p>293119 rows × 3 columns</p>\n",
       "</div>"
      ],
      "text/plain": [
       "       protocol                  domain                                               path\n",
       "0          http     www.regulations.gov                    document?D=FDA-2015-D-3719-0018\n",
       "1         https          www.sqlite.org                          sqlar/doc/trunk/README.md\n",
       "2         https              medium.com    vanmoof/our-secrets-out-f21c1f03fdc8#.ietxmez43\n",
       "3          http            cacm.acm.org  magazines/2011/7/109891-algorithmic-compositio...\n",
       "4         https          www.talend.com      blog/2016/05/12/talend-and-Âthe-data-vaultÂ\n",
       "...         ...                     ...                                                ...\n",
       "293114      NaN                     NaN                                                NaN\n",
       "293115     http  people.cs.uchicago.edu                               ~luitien/nrn2473.pdf\n",
       "293116     http      dangerousminds.net  comments/dying_vets_fuck_you_letter_to_george_...\n",
       "293117    https            www.zend.com                                 en/resources/php-7\n",
       "293118     http   newsroom.toyota.co.jp                                 en/detail/9233109/\n",
       "\n",
       "[293119 rows x 3 columns]"
      ]
     },
     "execution_count": 104,
     "metadata": {},
     "output_type": "execute_result"
    }
   ],
   "source": [
    "pattern = r\"(?P<protocol>.+)://(?P<domain>[\\w\\.]+)/?(?P<path>.*)\"\n",
    "hn.url.str.extract(pattern)"
   ]
  }
 ],
 "metadata": {
  "kernelspec": {
   "display_name": "Python 3",
   "language": "python",
   "name": "python3"
  },
  "language_info": {
   "codemirror_mode": {
    "name": "ipython",
    "version": 3
   },
   "file_extension": ".py",
   "mimetype": "text/x-python",
   "name": "python",
   "nbconvert_exporter": "python",
   "pygments_lexer": "ipython3",
   "version": "3.7.1"
  }
 },
 "nbformat": 4,
 "nbformat_minor": 4
}
