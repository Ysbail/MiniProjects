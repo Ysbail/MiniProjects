{
 "cells": [
  {
   "cell_type": "code",
   "execution_count": 1,
   "metadata": {},
   "outputs": [],
   "source": [
    "import pandas as pd\n",
    "import re\n",
    "import matplotlib.pyplot as plt\n",
    "%matplotlib inline\n",
    "import seaborn as sns\n",
    "import numpy as np"
   ]
  },
  {
   "cell_type": "markdown",
   "metadata": {},
   "source": [
    "The task of this project is to find a price that can be suggested when adding a new offer without a price. The data is taken from [Inside Airbnb](http://insideairbnb.com/get-the-data.html). I took the data for Praque in Chech Republic from 29 November, 2019. The columns I will be working with:\n",
    "- host_response_rate: the response rate of the host\n",
    "- host_acceptance_rate: number of requests to the host that convert to rentals\n",
    "- host_listings_count: number of other listings the host has\n",
    "- latitude: latitude dimension of the geographic coordinates\n",
    "- longitude: longitude part of the coordinates\n",
    "- city: the city the living space resides\n",
    "- zipcode: the zip code the living space resides\n",
    "- state: the state the living space resides\n",
    "- accommodates: the number of guests the rental can accommodate\n",
    "- room_type: the type of living space (Private room, Shared room or Entire home/apt\n",
    "- bedrooms: number of bedrooms included in the rental\n",
    "- bathrooms: number of bathrooms included in the rental\n",
    "- beds: number of beds included in the rental\n",
    "- price: nightly price for the rental\n",
    "- cleaning_fee: additional fee used for cleaning the living space after the guest leaves\n",
    "- security_deposit: refundable security deposit, in case of damages\n",
    "- minimum_nights: minimum number of nights a guest can stay for the rental\n",
    "- maximum_nights: maximum number of nights a guest can stay for the rental\n",
    "- number_of_reviews: number of reviews that previous guests have left"
   ]
  },
  {
   "cell_type": "markdown",
   "metadata": {},
   "source": [
    "#### Define columns to import"
   ]
  },
  {
   "cell_type": "code",
   "execution_count": 2,
   "metadata": {},
   "outputs": [],
   "source": [
    "cols = ['host_response_rate','host_acceptance_rate','host_listings_count',\n",
    "        'latitude','longitude','city','zipcode','state','accommodates',\n",
    "        'room_type','bedrooms','bathrooms','beds','price','cleaning_fee',\n",
    "        'security_deposit','minimum_nights','maximum_nights','number_of_reviews']"
   ]
  },
  {
   "cell_type": "code",
   "execution_count": 3,
   "metadata": {},
   "outputs": [
    {
     "data": {
      "text/html": [
       "<div>\n",
       "<style scoped>\n",
       "    .dataframe tbody tr th:only-of-type {\n",
       "        vertical-align: middle;\n",
       "    }\n",
       "\n",
       "    .dataframe tbody tr th {\n",
       "        vertical-align: top;\n",
       "    }\n",
       "\n",
       "    .dataframe thead th {\n",
       "        text-align: right;\n",
       "    }\n",
       "</style>\n",
       "<table border=\"1\" class=\"dataframe\">\n",
       "  <thead>\n",
       "    <tr style=\"text-align: right;\">\n",
       "      <th></th>\n",
       "      <th>host_response_rate</th>\n",
       "      <th>host_acceptance_rate</th>\n",
       "      <th>host_listings_count</th>\n",
       "      <th>city</th>\n",
       "      <th>state</th>\n",
       "      <th>zipcode</th>\n",
       "      <th>latitude</th>\n",
       "      <th>longitude</th>\n",
       "      <th>room_type</th>\n",
       "      <th>accommodates</th>\n",
       "      <th>bathrooms</th>\n",
       "      <th>bedrooms</th>\n",
       "      <th>beds</th>\n",
       "      <th>price</th>\n",
       "      <th>security_deposit</th>\n",
       "      <th>cleaning_fee</th>\n",
       "      <th>minimum_nights</th>\n",
       "      <th>maximum_nights</th>\n",
       "      <th>number_of_reviews</th>\n",
       "    </tr>\n",
       "  </thead>\n",
       "  <tbody>\n",
       "    <tr>\n",
       "      <th>0</th>\n",
       "      <td>100%</td>\n",
       "      <td>NaN</td>\n",
       "      <td>69.0</td>\n",
       "      <td>Prague</td>\n",
       "      <td>Czech Republic</td>\n",
       "      <td>11000</td>\n",
       "      <td>50.08295</td>\n",
       "      <td>14.41623</td>\n",
       "      <td>Entire home/apt</td>\n",
       "      <td>4</td>\n",
       "      <td>1.0</td>\n",
       "      <td>1.0</td>\n",
       "      <td>2.0</td>\n",
       "      <td>$3,736.00</td>\n",
       "      <td>$2,555.00</td>\n",
       "      <td>NaN</td>\n",
       "      <td>1</td>\n",
       "      <td>365</td>\n",
       "      <td>19</td>\n",
       "    </tr>\n",
       "    <tr>\n",
       "      <th>1</th>\n",
       "      <td>100%</td>\n",
       "      <td>NaN</td>\n",
       "      <td>69.0</td>\n",
       "      <td>Prague</td>\n",
       "      <td>Czech Republic</td>\n",
       "      <td>11000</td>\n",
       "      <td>50.08983</td>\n",
       "      <td>14.42317</td>\n",
       "      <td>Entire home/apt</td>\n",
       "      <td>4</td>\n",
       "      <td>1.0</td>\n",
       "      <td>1.0</td>\n",
       "      <td>2.0</td>\n",
       "      <td>$2,506.00</td>\n",
       "      <td>$2,555.00</td>\n",
       "      <td>NaN</td>\n",
       "      <td>1</td>\n",
       "      <td>365</td>\n",
       "      <td>113</td>\n",
       "    </tr>\n",
       "  </tbody>\n",
       "</table>\n",
       "</div>"
      ],
      "text/plain": [
       "  host_response_rate  host_acceptance_rate  host_listings_count    city  \\\n",
       "0               100%                   NaN                 69.0  Prague   \n",
       "1               100%                   NaN                 69.0  Prague   \n",
       "\n",
       "            state zipcode  latitude  longitude        room_type  accommodates  \\\n",
       "0  Czech Republic   11000  50.08295   14.41623  Entire home/apt             4   \n",
       "1  Czech Republic   11000  50.08983   14.42317  Entire home/apt             4   \n",
       "\n",
       "   bathrooms  bedrooms  beds      price security_deposit cleaning_fee  \\\n",
       "0        1.0       1.0   2.0  $3,736.00        $2,555.00          NaN   \n",
       "1        1.0       1.0   2.0  $2,506.00        $2,555.00          NaN   \n",
       "\n",
       "   minimum_nights  maximum_nights  number_of_reviews  \n",
       "0               1             365                 19  \n",
       "1               1             365                113  "
      ]
     },
     "execution_count": 3,
     "metadata": {},
     "output_type": "execute_result"
    }
   ],
   "source": [
    "praque_listings = pd.read_csv('listings.csv', usecols=cols)\n",
    "praque_listings.head(2)"
   ]
  },
  {
   "cell_type": "code",
   "execution_count": 4,
   "metadata": {},
   "outputs": [],
   "source": [
    "stripped_commas = praque_listings['price'].str.replace(',', '')\n",
    "stripped_dollars = stripped_commas.str.replace('$', '')\n",
    "praque_listings['price'] = stripped_dollars.astype('float')"
   ]
  },
  {
   "cell_type": "markdown",
   "metadata": {},
   "source": [
    "Strategy to achive target:\n",
    "- find comparable offers\n",
    "- calculate the price\n",
    "- calculate the average price"
   ]
  },
  {
   "cell_type": "markdown",
   "metadata": {},
   "source": [
    "While using k-nearest algorythm it is important to specify the k parameter. In this case k is the number of similar listing that will be compare."
   ]
  },
  {
   "cell_type": "markdown",
   "metadata": {},
   "source": [
    "#### Similarity metric"
   ]
  },
  {
   "cell_type": "code",
   "execution_count": 5,
   "metadata": {},
   "outputs": [
    {
     "data": {
      "text/plain": [
       "1"
      ]
     },
     "execution_count": 5,
     "metadata": {},
     "output_type": "execute_result"
    }
   ],
   "source": [
    "acc = 3\n",
    "first_living_space_value = praque_listings.iloc[0]['accommodates']\n",
    "first_distance = np.abs(first_living_space_value - acc)\n",
    "first_distance"
   ]
  },
  {
   "cell_type": "code",
   "execution_count": 6,
   "metadata": {},
   "outputs": [
    {
     "data": {
      "text/plain": [
       "0    1\n",
       "1    1\n",
       "2    3\n",
       "Name: accommodates, dtype: int64"
      ]
     },
     "execution_count": 6,
     "metadata": {},
     "output_type": "execute_result"
    }
   ],
   "source": [
    "diffrences = praque_listings.accommodates.apply(lambda x: np.abs(x - acc))\n",
    "diffrences[:3]"
   ]
  },
  {
   "cell_type": "code",
   "execution_count": 7,
   "metadata": {},
   "outputs": [],
   "source": [
    "praque_listings['distance'] = diffrences"
   ]
  },
  {
   "cell_type": "code",
   "execution_count": 8,
   "metadata": {},
   "outputs": [
    {
     "data": {
      "text/plain": [
       "1     8336\n",
       "0     1762\n",
       "3     1394\n",
       "2     1254\n",
       "5      482\n",
       "4      281\n",
       "7      199\n",
       "13     120\n",
       "6      119\n",
       "9       97\n",
       "8       63\n",
       "11      38\n",
       "10      28\n",
       "12      11\n",
       "Name: distance, dtype: int64"
      ]
     },
     "execution_count": 8,
     "metadata": {},
     "output_type": "execute_result"
    }
   ],
   "source": [
    "praque_listings.distance.value_counts()"
   ]
  },
  {
   "cell_type": "markdown",
   "metadata": {},
   "source": [
    "#### Sorting by the distance"
   ]
  },
  {
   "cell_type": "code",
   "execution_count": 9,
   "metadata": {},
   "outputs": [
    {
     "data": {
      "text/plain": [
       "0     1762\n",
       "1     8336\n",
       "2     1254\n",
       "3     1394\n",
       "4      281\n",
       "5      482\n",
       "6      119\n",
       "7      199\n",
       "8       63\n",
       "9       97\n",
       "10      28\n",
       "11      38\n",
       "12      11\n",
       "13     120\n",
       "Name: distance, dtype: int64"
      ]
     },
     "execution_count": 9,
     "metadata": {},
     "output_type": "execute_result"
    }
   ],
   "source": [
    "praque_listings.distance.value_counts().sort_index()"
   ]
  },
  {
   "cell_type": "markdown",
   "metadata": {},
   "source": [
    "There is 1762 spaces that have this same number of accomodation - 3."
   ]
  },
  {
   "cell_type": "code",
   "execution_count": 10,
   "metadata": {},
   "outputs": [
    {
     "data": {
      "text/html": [
       "<div>\n",
       "<style scoped>\n",
       "    .dataframe tbody tr th:only-of-type {\n",
       "        vertical-align: middle;\n",
       "    }\n",
       "\n",
       "    .dataframe tbody tr th {\n",
       "        vertical-align: top;\n",
       "    }\n",
       "\n",
       "    .dataframe thead th {\n",
       "        text-align: right;\n",
       "    }\n",
       "</style>\n",
       "<table border=\"1\" class=\"dataframe\">\n",
       "  <thead>\n",
       "    <tr style=\"text-align: right;\">\n",
       "      <th></th>\n",
       "      <th>host_response_rate</th>\n",
       "      <th>host_acceptance_rate</th>\n",
       "      <th>host_listings_count</th>\n",
       "      <th>city</th>\n",
       "      <th>state</th>\n",
       "      <th>zipcode</th>\n",
       "      <th>latitude</th>\n",
       "      <th>longitude</th>\n",
       "      <th>room_type</th>\n",
       "      <th>accommodates</th>\n",
       "      <th>bathrooms</th>\n",
       "      <th>bedrooms</th>\n",
       "      <th>beds</th>\n",
       "      <th>price</th>\n",
       "      <th>security_deposit</th>\n",
       "      <th>cleaning_fee</th>\n",
       "      <th>minimum_nights</th>\n",
       "      <th>maximum_nights</th>\n",
       "      <th>number_of_reviews</th>\n",
       "      <th>distance</th>\n",
       "    </tr>\n",
       "  </thead>\n",
       "  <tbody>\n",
       "    <tr>\n",
       "      <th>6</th>\n",
       "      <td>100%</td>\n",
       "      <td>NaN</td>\n",
       "      <td>12.0</td>\n",
       "      <td>Prague</td>\n",
       "      <td>Hlavní město Praha</td>\n",
       "      <td>118 00</td>\n",
       "      <td>50.08871</td>\n",
       "      <td>14.40769</td>\n",
       "      <td>Entire home/apt</td>\n",
       "      <td>3</td>\n",
       "      <td>1.0</td>\n",
       "      <td>1.0</td>\n",
       "      <td>1.0</td>\n",
       "      <td>1624.0</td>\n",
       "      <td>$0.00</td>\n",
       "      <td>$383.00</td>\n",
       "      <td>3</td>\n",
       "      <td>365</td>\n",
       "      <td>272</td>\n",
       "      <td>0</td>\n",
       "    </tr>\n",
       "    <tr>\n",
       "      <th>9</th>\n",
       "      <td>100%</td>\n",
       "      <td>NaN</td>\n",
       "      <td>3.0</td>\n",
       "      <td>Prague</td>\n",
       "      <td>Prague</td>\n",
       "      <td>130 00</td>\n",
       "      <td>50.07871</td>\n",
       "      <td>14.45213</td>\n",
       "      <td>Entire home/apt</td>\n",
       "      <td>3</td>\n",
       "      <td>1.0</td>\n",
       "      <td>1.0</td>\n",
       "      <td>3.0</td>\n",
       "      <td>1091.0</td>\n",
       "      <td>NaN</td>\n",
       "      <td>$1,226.00</td>\n",
       "      <td>2</td>\n",
       "      <td>1825</td>\n",
       "      <td>117</td>\n",
       "      <td>0</td>\n",
       "    </tr>\n",
       "    <tr>\n",
       "      <th>10</th>\n",
       "      <td>100%</td>\n",
       "      <td>NaN</td>\n",
       "      <td>1.0</td>\n",
       "      <td>Prague</td>\n",
       "      <td>Hlavní město Praha</td>\n",
       "      <td>110 00</td>\n",
       "      <td>50.08365</td>\n",
       "      <td>14.41409</td>\n",
       "      <td>Entire home/apt</td>\n",
       "      <td>3</td>\n",
       "      <td>1.0</td>\n",
       "      <td>1.0</td>\n",
       "      <td>2.0</td>\n",
       "      <td>2181.0</td>\n",
       "      <td>$3,194.00</td>\n",
       "      <td>$1,022.00</td>\n",
       "      <td>3</td>\n",
       "      <td>365</td>\n",
       "      <td>320</td>\n",
       "      <td>0</td>\n",
       "    </tr>\n",
       "  </tbody>\n",
       "</table>\n",
       "</div>"
      ],
      "text/plain": [
       "   host_response_rate  host_acceptance_rate  host_listings_count    city  \\\n",
       "6                100%                   NaN                 12.0  Prague   \n",
       "9                100%                   NaN                  3.0  Prague   \n",
       "10               100%                   NaN                  1.0  Prague   \n",
       "\n",
       "                 state zipcode  latitude  longitude        room_type  \\\n",
       "6   Hlavní město Praha  118 00  50.08871   14.40769  Entire home/apt   \n",
       "9               Prague  130 00  50.07871   14.45213  Entire home/apt   \n",
       "10  Hlavní město Praha  110 00  50.08365   14.41409  Entire home/apt   \n",
       "\n",
       "    accommodates  bathrooms  bedrooms  beds   price security_deposit  \\\n",
       "6              3        1.0       1.0   1.0  1624.0            $0.00   \n",
       "9              3        1.0       1.0   3.0  1091.0              NaN   \n",
       "10             3        1.0       1.0   2.0  2181.0        $3,194.00   \n",
       "\n",
       "   cleaning_fee  minimum_nights  maximum_nights  number_of_reviews  distance  \n",
       "6       $383.00               3             365                272         0  \n",
       "9     $1,226.00               2            1825                117         0  \n",
       "10    $1,022.00               3             365                320         0  "
      ]
     },
     "execution_count": 10,
     "metadata": {},
     "output_type": "execute_result"
    }
   ],
   "source": [
    "praque_listings[praque_listings.distance == 0].head(3)"
   ]
  },
  {
   "cell_type": "code",
   "execution_count": 11,
   "metadata": {},
   "outputs": [
    {
     "data": {
      "text/plain": [
       "6     3\n",
       "9     3\n",
       "10    3\n",
       "Name: accommodates, dtype: int64"
      ]
     },
     "execution_count": 11,
     "metadata": {},
     "output_type": "execute_result"
    }
   ],
   "source": [
    "praque_listings[praque_listings.distance == 0]['accommodates'].head(3)"
   ]
  },
  {
   "cell_type": "code",
   "execution_count": 12,
   "metadata": {},
   "outputs": [
    {
     "data": {
      "text/html": [
       "<div>\n",
       "<style scoped>\n",
       "    .dataframe tbody tr th:only-of-type {\n",
       "        vertical-align: middle;\n",
       "    }\n",
       "\n",
       "    .dataframe tbody tr th {\n",
       "        vertical-align: top;\n",
       "    }\n",
       "\n",
       "    .dataframe thead th {\n",
       "        text-align: right;\n",
       "    }\n",
       "</style>\n",
       "<table border=\"1\" class=\"dataframe\">\n",
       "  <thead>\n",
       "    <tr style=\"text-align: right;\">\n",
       "      <th></th>\n",
       "      <th>host_response_rate</th>\n",
       "      <th>host_acceptance_rate</th>\n",
       "      <th>host_listings_count</th>\n",
       "      <th>city</th>\n",
       "      <th>state</th>\n",
       "      <th>zipcode</th>\n",
       "      <th>latitude</th>\n",
       "      <th>longitude</th>\n",
       "      <th>room_type</th>\n",
       "      <th>accommodates</th>\n",
       "      <th>bathrooms</th>\n",
       "      <th>bedrooms</th>\n",
       "      <th>beds</th>\n",
       "      <th>price</th>\n",
       "      <th>security_deposit</th>\n",
       "      <th>cleaning_fee</th>\n",
       "      <th>minimum_nights</th>\n",
       "      <th>maximum_nights</th>\n",
       "      <th>number_of_reviews</th>\n",
       "      <th>distance</th>\n",
       "    </tr>\n",
       "  </thead>\n",
       "  <tbody>\n",
       "    <tr>\n",
       "      <th>3196</th>\n",
       "      <td>100%</td>\n",
       "      <td>NaN</td>\n",
       "      <td>3.0</td>\n",
       "      <td>Praha 4</td>\n",
       "      <td>Prague</td>\n",
       "      <td>14000</td>\n",
       "      <td>50.05978</td>\n",
       "      <td>14.43548</td>\n",
       "      <td>Entire home/apt</td>\n",
       "      <td>3</td>\n",
       "      <td>1.0</td>\n",
       "      <td>3.0</td>\n",
       "      <td>3.0</td>\n",
       "      <td>2344.0</td>\n",
       "      <td>$0.00</td>\n",
       "      <td>$1,500.00</td>\n",
       "      <td>30</td>\n",
       "      <td>1125</td>\n",
       "      <td>6</td>\n",
       "      <td>0</td>\n",
       "    </tr>\n",
       "    <tr>\n",
       "      <th>11792</th>\n",
       "      <td>100%</td>\n",
       "      <td>NaN</td>\n",
       "      <td>2.0</td>\n",
       "      <td>Praha-Libuš</td>\n",
       "      <td>Hlavní město Praha</td>\n",
       "      <td>142 00</td>\n",
       "      <td>50.00329</td>\n",
       "      <td>14.46514</td>\n",
       "      <td>Hotel room</td>\n",
       "      <td>3</td>\n",
       "      <td>1.0</td>\n",
       "      <td>1.0</td>\n",
       "      <td>3.0</td>\n",
       "      <td>1300.0</td>\n",
       "      <td>NaN</td>\n",
       "      <td>NaN</td>\n",
       "      <td>1</td>\n",
       "      <td>1125</td>\n",
       "      <td>3</td>\n",
       "      <td>0</td>\n",
       "    </tr>\n",
       "  </tbody>\n",
       "</table>\n",
       "</div>"
      ],
      "text/plain": [
       "      host_response_rate  host_acceptance_rate  host_listings_count  \\\n",
       "3196                100%                   NaN                  3.0   \n",
       "11792               100%                   NaN                  2.0   \n",
       "\n",
       "              city               state zipcode  latitude  longitude  \\\n",
       "3196       Praha 4              Prague   14000  50.05978   14.43548   \n",
       "11792  Praha-Libuš  Hlavní město Praha  142 00  50.00329   14.46514   \n",
       "\n",
       "             room_type  accommodates  bathrooms  bedrooms  beds   price  \\\n",
       "3196   Entire home/apt             3        1.0       3.0   3.0  2344.0   \n",
       "11792       Hotel room             3        1.0       1.0   3.0  1300.0   \n",
       "\n",
       "      security_deposit cleaning_fee  minimum_nights  maximum_nights  \\\n",
       "3196             $0.00    $1,500.00              30            1125   \n",
       "11792              NaN          NaN               1            1125   \n",
       "\n",
       "       number_of_reviews  distance  \n",
       "3196                   6         0  \n",
       "11792                  3         0  "
      ]
     },
     "execution_count": 12,
     "metadata": {},
     "output_type": "execute_result"
    }
   ],
   "source": [
    "praque_listings = praque_listings.sort_values('distance')\n",
    "praque_listings.head(2)"
   ]
  },
  {
   "cell_type": "code",
   "execution_count": 13,
   "metadata": {},
   "outputs": [],
   "source": [
    "praque_listings.price = stripped_dollars.astype(float)"
   ]
  },
  {
   "cell_type": "code",
   "execution_count": 14,
   "metadata": {},
   "outputs": [
    {
     "data": {
      "text/html": [
       "<div>\n",
       "<style scoped>\n",
       "    .dataframe tbody tr th:only-of-type {\n",
       "        vertical-align: middle;\n",
       "    }\n",
       "\n",
       "    .dataframe tbody tr th {\n",
       "        vertical-align: top;\n",
       "    }\n",
       "\n",
       "    .dataframe thead th {\n",
       "        text-align: right;\n",
       "    }\n",
       "</style>\n",
       "<table border=\"1\" class=\"dataframe\">\n",
       "  <thead>\n",
       "    <tr style=\"text-align: right;\">\n",
       "      <th></th>\n",
       "      <th>host_response_rate</th>\n",
       "      <th>host_acceptance_rate</th>\n",
       "      <th>host_listings_count</th>\n",
       "      <th>city</th>\n",
       "      <th>state</th>\n",
       "      <th>zipcode</th>\n",
       "      <th>latitude</th>\n",
       "      <th>longitude</th>\n",
       "      <th>room_type</th>\n",
       "      <th>accommodates</th>\n",
       "      <th>bathrooms</th>\n",
       "      <th>bedrooms</th>\n",
       "      <th>beds</th>\n",
       "      <th>price</th>\n",
       "      <th>security_deposit</th>\n",
       "      <th>cleaning_fee</th>\n",
       "      <th>minimum_nights</th>\n",
       "      <th>maximum_nights</th>\n",
       "      <th>number_of_reviews</th>\n",
       "      <th>distance</th>\n",
       "    </tr>\n",
       "  </thead>\n",
       "  <tbody>\n",
       "    <tr>\n",
       "      <th>3196</th>\n",
       "      <td>100%</td>\n",
       "      <td>NaN</td>\n",
       "      <td>3.0</td>\n",
       "      <td>Praha 4</td>\n",
       "      <td>Prague</td>\n",
       "      <td>14000</td>\n",
       "      <td>50.05978</td>\n",
       "      <td>14.43548</td>\n",
       "      <td>Entire home/apt</td>\n",
       "      <td>3</td>\n",
       "      <td>1.0</td>\n",
       "      <td>3.0</td>\n",
       "      <td>3.0</td>\n",
       "      <td>2344.0</td>\n",
       "      <td>$0.00</td>\n",
       "      <td>$1,500.00</td>\n",
       "      <td>30</td>\n",
       "      <td>1125</td>\n",
       "      <td>6</td>\n",
       "      <td>0</td>\n",
       "    </tr>\n",
       "    <tr>\n",
       "      <th>11792</th>\n",
       "      <td>100%</td>\n",
       "      <td>NaN</td>\n",
       "      <td>2.0</td>\n",
       "      <td>Praha-Libuš</td>\n",
       "      <td>Hlavní město Praha</td>\n",
       "      <td>142 00</td>\n",
       "      <td>50.00329</td>\n",
       "      <td>14.46514</td>\n",
       "      <td>Hotel room</td>\n",
       "      <td>3</td>\n",
       "      <td>1.0</td>\n",
       "      <td>1.0</td>\n",
       "      <td>3.0</td>\n",
       "      <td>1300.0</td>\n",
       "      <td>NaN</td>\n",
       "      <td>NaN</td>\n",
       "      <td>1</td>\n",
       "      <td>1125</td>\n",
       "      <td>3</td>\n",
       "      <td>0</td>\n",
       "    </tr>\n",
       "    <tr>\n",
       "      <th>4907</th>\n",
       "      <td>90%</td>\n",
       "      <td>NaN</td>\n",
       "      <td>5.0</td>\n",
       "      <td>Prague</td>\n",
       "      <td>NaN</td>\n",
       "      <td>186 00</td>\n",
       "      <td>50.09315</td>\n",
       "      <td>14.45219</td>\n",
       "      <td>Entire home/apt</td>\n",
       "      <td>3</td>\n",
       "      <td>1.0</td>\n",
       "      <td>1.0</td>\n",
       "      <td>3.0</td>\n",
       "      <td>1183.0</td>\n",
       "      <td>NaN</td>\n",
       "      <td>$190.00</td>\n",
       "      <td>1</td>\n",
       "      <td>1125</td>\n",
       "      <td>105</td>\n",
       "      <td>0</td>\n",
       "    </tr>\n",
       "    <tr>\n",
       "      <th>11784</th>\n",
       "      <td>100%</td>\n",
       "      <td>NaN</td>\n",
       "      <td>1.0</td>\n",
       "      <td>Praha</td>\n",
       "      <td>Hlavní město Praha</td>\n",
       "      <td>150 00</td>\n",
       "      <td>50.06362</td>\n",
       "      <td>14.40943</td>\n",
       "      <td>Entire home/apt</td>\n",
       "      <td>3</td>\n",
       "      <td>1.0</td>\n",
       "      <td>1.0</td>\n",
       "      <td>2.0</td>\n",
       "      <td>1810.0</td>\n",
       "      <td>NaN</td>\n",
       "      <td>$350.00</td>\n",
       "      <td>2</td>\n",
       "      <td>1125</td>\n",
       "      <td>17</td>\n",
       "      <td>0</td>\n",
       "    </tr>\n",
       "    <tr>\n",
       "      <th>11782</th>\n",
       "      <td>91%</td>\n",
       "      <td>NaN</td>\n",
       "      <td>2.0</td>\n",
       "      <td>Praha 3</td>\n",
       "      <td>Hlavní město Praha</td>\n",
       "      <td>130 00</td>\n",
       "      <td>50.08666</td>\n",
       "      <td>14.46025</td>\n",
       "      <td>Entire home/apt</td>\n",
       "      <td>3</td>\n",
       "      <td>1.0</td>\n",
       "      <td>1.0</td>\n",
       "      <td>2.0</td>\n",
       "      <td>1810.0</td>\n",
       "      <td>$0.00</td>\n",
       "      <td>$850.00</td>\n",
       "      <td>1</td>\n",
       "      <td>1125</td>\n",
       "      <td>23</td>\n",
       "      <td>0</td>\n",
       "    </tr>\n",
       "  </tbody>\n",
       "</table>\n",
       "</div>"
      ],
      "text/plain": [
       "      host_response_rate  host_acceptance_rate  host_listings_count  \\\n",
       "3196                100%                   NaN                  3.0   \n",
       "11792               100%                   NaN                  2.0   \n",
       "4907                 90%                   NaN                  5.0   \n",
       "11784               100%                   NaN                  1.0   \n",
       "11782                91%                   NaN                  2.0   \n",
       "\n",
       "              city               state zipcode  latitude  longitude  \\\n",
       "3196       Praha 4              Prague   14000  50.05978   14.43548   \n",
       "11792  Praha-Libuš  Hlavní město Praha  142 00  50.00329   14.46514   \n",
       "4907        Prague                 NaN  186 00  50.09315   14.45219   \n",
       "11784        Praha  Hlavní město Praha  150 00  50.06362   14.40943   \n",
       "11782      Praha 3  Hlavní město Praha  130 00  50.08666   14.46025   \n",
       "\n",
       "             room_type  accommodates  bathrooms  bedrooms  beds   price  \\\n",
       "3196   Entire home/apt             3        1.0       3.0   3.0  2344.0   \n",
       "11792       Hotel room             3        1.0       1.0   3.0  1300.0   \n",
       "4907   Entire home/apt             3        1.0       1.0   3.0  1183.0   \n",
       "11784  Entire home/apt             3        1.0       1.0   2.0  1810.0   \n",
       "11782  Entire home/apt             3        1.0       1.0   2.0  1810.0   \n",
       "\n",
       "      security_deposit cleaning_fee  minimum_nights  maximum_nights  \\\n",
       "3196             $0.00    $1,500.00              30            1125   \n",
       "11792              NaN          NaN               1            1125   \n",
       "4907               NaN      $190.00               1            1125   \n",
       "11784              NaN      $350.00               2            1125   \n",
       "11782            $0.00      $850.00               1            1125   \n",
       "\n",
       "       number_of_reviews  distance  \n",
       "3196                   6         0  \n",
       "11792                  3         0  \n",
       "4907                 105         0  \n",
       "11784                 17         0  \n",
       "11782                 23         0  "
      ]
     },
     "execution_count": 14,
     "metadata": {},
     "output_type": "execute_result"
    }
   ],
   "source": [
    "praque_listings.head(5)"
   ]
  },
  {
   "cell_type": "code",
   "execution_count": 15,
   "metadata": {},
   "outputs": [
    {
     "name": "stdout",
     "output_type": "stream",
     "text": [
      "1689.4\n"
     ]
    }
   ],
   "source": [
    "first_5 = praque_listings.price[:5]\n",
    "mean_price = sum(first_5)/len(first_5)\n",
    "print(mean_price)"
   ]
  },
  {
   "cell_type": "markdown",
   "metadata": {},
   "source": [
    "1318 is the mean of five different price that have the same accomodation as the given(0 distance)."
   ]
  },
  {
   "cell_type": "markdown",
   "metadata": {},
   "source": [
    "Below there is the same what was above but in short version"
   ]
  },
  {
   "cell_type": "code",
   "execution_count": 16,
   "metadata": {},
   "outputs": [],
   "source": [
    "praque_listings = pd.read_csv('listings.csv', usecols=cols)\n",
    "stripped_commas = praque_listings['price'].str.replace(',', '')\n",
    "stripped_dollars = stripped_commas.str.replace('$', '')\n",
    "praque_listings['price'] = stripped_dollars.astype('float')\n",
    "praque_listings = praque_listings.loc[np.random.permutation(len(praque_listings))]\n",
    "\n",
    "def predict_price(new_listing):\n",
    "    temp_df = praque_listings.copy()\n",
    "    temp_df['distance'] = temp_df.accommodates.apply(lambda x: np.abs(x- new_listing))\n",
    "    temp_df = temp_df.sort_values('distance')                                                     \n",
    "    predict_price = temp_df.price[:5].mean()\n",
    "    return(predict_price)\n",
    "\n",
    "acc_one = predict_price(1)\n",
    "acc_two = predict_price(2)\n",
    "acc_four = predict_price(4)"
   ]
  },
  {
   "cell_type": "code",
   "execution_count": 17,
   "metadata": {},
   "outputs": [
    {
     "name": "stdout",
     "output_type": "stream",
     "text": [
      "1:  2790.2 2:  1192.8 4:  1786.8\n"
     ]
    }
   ],
   "source": [
    "print('1: ' ,acc_one, '2: ', acc_two, '4: ', acc_four)"
   ]
  },
  {
   "cell_type": "markdown",
   "metadata": {},
   "source": [
    "Of course those results are incorrect because there is a very large spread of prices, so this is not solution for this case, it can be just the start."
   ]
  }
 ],
 "metadata": {
  "kernelspec": {
   "display_name": "Python 3",
   "language": "python",
   "name": "python3"
  },
  "language_info": {
   "codemirror_mode": {
    "name": "ipython",
    "version": 3
   },
   "file_extension": ".py",
   "mimetype": "text/x-python",
   "name": "python",
   "nbconvert_exporter": "python",
   "pygments_lexer": "ipython3",
   "version": "3.7.1"
  }
 },
 "nbformat": 4,
 "nbformat_minor": 4
}
