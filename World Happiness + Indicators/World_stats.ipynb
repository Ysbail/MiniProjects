{
 "cells": [
  {
   "cell_type": "code",
   "execution_count": 1,
   "metadata": {},
   "outputs": [],
   "source": [
    "import pandas as pd\n",
    "import numpy as np\n",
    "import collections\n",
    "import matplotlib.pyplot as plt\n",
    "%matplotlib inline"
   ]
  },
  {
   "cell_type": "markdown",
   "metadata": {},
   "source": [
    "This miniproject's purpose is to practice cleaning the data using string functions. The dataset I will use is from two Kaggle's projects: \n",
    "- [World Development Indicators](https://www.kaggle.com/worldbank/world-development-indicators/version/2)\n",
    "- [World Happiness](https://www.kaggle.com/unsdsn/world-happiness)\n",
    "\n",
    "<br> Important column I will be using\n",
    "- ShortName - Name of the country\n",
    "- Region - The region the country belongs to\n",
    "- IncomeGroup - The income group the country belongs to, based on Gross National Income (GNI) per capita\n",
    "- CurrencyUnit - Name of country's currency\n",
    "- SourceOfMostRecentIncomeAndExpenditureData - The name of the survey used to collect the income and expenditure data\n",
    "- SpecialNotes - Contains any miscellaneous notes about the data"
   ]
  },
  {
   "cell_type": "code",
   "execution_count": 2,
   "metadata": {},
   "outputs": [],
   "source": [
    "pd.set_option('display.max_rows', 500)\n",
    "pd.set_option('display.max_columns', 500)\n",
    "pd.set_option('display.width', 1000)"
   ]
  },
  {
   "cell_type": "markdown",
   "metadata": {},
   "source": [
    "#### Importing datasets"
   ]
  },
  {
   "cell_type": "code",
   "execution_count": 3,
   "metadata": {},
   "outputs": [],
   "source": [
    "world_dev = pd.read_csv('World_dev.csv')\n",
    "happiness2015 = pd.read_csv('World_Happiness_2015.csv')"
   ]
  },
  {
   "cell_type": "markdown",
   "metadata": {},
   "source": [
    "#### Sample rows"
   ]
  },
  {
   "cell_type": "code",
   "execution_count": 4,
   "metadata": {},
   "outputs": [
    {
     "data": {
      "text/html": [
       "<div>\n",
       "<style scoped>\n",
       "    .dataframe tbody tr th:only-of-type {\n",
       "        vertical-align: middle;\n",
       "    }\n",
       "\n",
       "    .dataframe tbody tr th {\n",
       "        vertical-align: top;\n",
       "    }\n",
       "\n",
       "    .dataframe thead th {\n",
       "        text-align: right;\n",
       "    }\n",
       "</style>\n",
       "<table border=\"1\" class=\"dataframe\">\n",
       "  <thead>\n",
       "    <tr style=\"text-align: right;\">\n",
       "      <th></th>\n",
       "      <th>CountryCode</th>\n",
       "      <th>ShortName</th>\n",
       "      <th>TableName</th>\n",
       "      <th>LongName</th>\n",
       "      <th>Alpha2Code</th>\n",
       "      <th>CurrencyUnit</th>\n",
       "      <th>SpecialNotes</th>\n",
       "      <th>Region</th>\n",
       "      <th>IncomeGroup</th>\n",
       "      <th>Wb2Code</th>\n",
       "      <th>NationalAccountsBaseYear</th>\n",
       "      <th>NationalAccountsReferenceYear</th>\n",
       "      <th>SnaPriceValuation</th>\n",
       "      <th>LendingCategory</th>\n",
       "      <th>OtherGroups</th>\n",
       "      <th>SystemOfNationalAccounts</th>\n",
       "      <th>AlternativeConversionFactor</th>\n",
       "      <th>PppSurveyYear</th>\n",
       "      <th>BalanceOfPaymentsManualInUse</th>\n",
       "      <th>ExternalDebtReportingStatus</th>\n",
       "      <th>SystemOfTrade</th>\n",
       "      <th>GovernmentAccountingConcept</th>\n",
       "      <th>ImfDataDisseminationStandard</th>\n",
       "      <th>LatestPopulationCensus</th>\n",
       "      <th>LatestHouseholdSurvey</th>\n",
       "      <th>SourceOfMostRecentIncomeAndExpenditureData</th>\n",
       "      <th>VitalRegistrationComplete</th>\n",
       "      <th>LatestAgriculturalCensus</th>\n",
       "      <th>LatestIndustrialData</th>\n",
       "      <th>LatestTradeData</th>\n",
       "      <th>LatestWaterWithdrawalData</th>\n",
       "    </tr>\n",
       "  </thead>\n",
       "  <tbody>\n",
       "    <tr>\n",
       "      <th>98</th>\n",
       "      <td>ISL</td>\n",
       "      <td>Iceland</td>\n",
       "      <td>Iceland</td>\n",
       "      <td>Republic of Iceland</td>\n",
       "      <td>IS</td>\n",
       "      <td>Iceland krona</td>\n",
       "      <td>NaN</td>\n",
       "      <td>Europe &amp; Central Asia</td>\n",
       "      <td>High income: OECD</td>\n",
       "      <td>IS</td>\n",
       "      <td>Original chained constant price data are resca...</td>\n",
       "      <td>2010</td>\n",
       "      <td>Value added at basic prices (VAB)</td>\n",
       "      <td>NaN</td>\n",
       "      <td>NaN</td>\n",
       "      <td>Country uses the 2008 System of National Accou...</td>\n",
       "      <td>NaN</td>\n",
       "      <td>Rolling</td>\n",
       "      <td>IMF Balance of Payments Manual, 6th edition.</td>\n",
       "      <td>NaN</td>\n",
       "      <td>General trade system</td>\n",
       "      <td>Consolidated central government</td>\n",
       "      <td>Special Data Dissemination Standard (SDDS)</td>\n",
       "      <td>2011</td>\n",
       "      <td>NaN</td>\n",
       "      <td>Integrated household survey (IHS), 2010</td>\n",
       "      <td>Yes</td>\n",
       "      <td>2010</td>\n",
       "      <td>2005.0</td>\n",
       "      <td>2013.0</td>\n",
       "      <td>2005.0</td>\n",
       "    </tr>\n",
       "  </tbody>\n",
       "</table>\n",
       "</div>"
      ],
      "text/plain": [
       "   CountryCode ShortName TableName             LongName Alpha2Code   CurrencyUnit SpecialNotes                 Region        IncomeGroup Wb2Code                           NationalAccountsBaseYear NationalAccountsReferenceYear                  SnaPriceValuation LendingCategory OtherGroups                           SystemOfNationalAccounts AlternativeConversionFactor PppSurveyYear                  BalanceOfPaymentsManualInUse ExternalDebtReportingStatus         SystemOfTrade      GovernmentAccountingConcept                ImfDataDisseminationStandard LatestPopulationCensus LatestHouseholdSurvey SourceOfMostRecentIncomeAndExpenditureData VitalRegistrationComplete LatestAgriculturalCensus  LatestIndustrialData  LatestTradeData  LatestWaterWithdrawalData\n",
       "98         ISL   Iceland   Iceland  Republic of Iceland         IS  Iceland krona          NaN  Europe & Central Asia  High income: OECD      IS  Original chained constant price data are resca...                          2010  Value added at basic prices (VAB)             NaN         NaN  Country uses the 2008 System of National Accou...                         NaN       Rolling  IMF Balance of Payments Manual, 6th edition.                         NaN  General trade system  Consolidated central government  Special Data Dissemination Standard (SDDS)                   2011                   NaN    Integrated household survey (IHS), 2010                       Yes                     2010                2005.0           2013.0                     2005.0"
      ]
     },
     "execution_count": 4,
     "metadata": {},
     "output_type": "execute_result"
    }
   ],
   "source": [
    "world_dev[world_dev.ShortName == 'Iceland']"
   ]
  },
  {
   "cell_type": "code",
   "execution_count": 5,
   "metadata": {},
   "outputs": [
    {
     "data": {
      "text/html": [
       "<div>\n",
       "<style scoped>\n",
       "    .dataframe tbody tr th:only-of-type {\n",
       "        vertical-align: middle;\n",
       "    }\n",
       "\n",
       "    .dataframe tbody tr th {\n",
       "        vertical-align: top;\n",
       "    }\n",
       "\n",
       "    .dataframe thead th {\n",
       "        text-align: right;\n",
       "    }\n",
       "</style>\n",
       "<table border=\"1\" class=\"dataframe\">\n",
       "  <thead>\n",
       "    <tr style=\"text-align: right;\">\n",
       "      <th></th>\n",
       "      <th>Country</th>\n",
       "      <th>Region</th>\n",
       "      <th>Happiness Rank</th>\n",
       "      <th>Happiness Score</th>\n",
       "      <th>Standard Error</th>\n",
       "      <th>Economy (GDP per Capita)</th>\n",
       "      <th>Family</th>\n",
       "      <th>Health (Life Expectancy)</th>\n",
       "      <th>Freedom</th>\n",
       "      <th>Trust (Government Corruption)</th>\n",
       "      <th>Generosity</th>\n",
       "      <th>Dystopia Residual</th>\n",
       "    </tr>\n",
       "  </thead>\n",
       "  <tbody>\n",
       "    <tr>\n",
       "      <th>1</th>\n",
       "      <td>Iceland</td>\n",
       "      <td>Western Europe</td>\n",
       "      <td>2</td>\n",
       "      <td>7.561</td>\n",
       "      <td>0.04884</td>\n",
       "      <td>1.30232</td>\n",
       "      <td>1.40223</td>\n",
       "      <td>0.94784</td>\n",
       "      <td>0.62877</td>\n",
       "      <td>0.14145</td>\n",
       "      <td>0.4363</td>\n",
       "      <td>2.70201</td>\n",
       "    </tr>\n",
       "  </tbody>\n",
       "</table>\n",
       "</div>"
      ],
      "text/plain": [
       "   Country          Region  Happiness Rank  Happiness Score  Standard Error  Economy (GDP per Capita)   Family  Health (Life Expectancy)  Freedom  Trust (Government Corruption)  Generosity  Dystopia Residual\n",
       "1  Iceland  Western Europe               2            7.561         0.04884                   1.30232  1.40223                   0.94784  0.62877                        0.14145      0.4363            2.70201"
      ]
     },
     "execution_count": 5,
     "metadata": {},
     "output_type": "execute_result"
    }
   ],
   "source": [
    "happiness2015[happiness2015.Country == 'Iceland']"
   ]
  },
  {
   "cell_type": "code",
   "execution_count": 6,
   "metadata": {},
   "outputs": [
    {
     "data": {
      "text/html": [
       "<div>\n",
       "<style scoped>\n",
       "    .dataframe tbody tr th:only-of-type {\n",
       "        vertical-align: middle;\n",
       "    }\n",
       "\n",
       "    .dataframe tbody tr th {\n",
       "        vertical-align: top;\n",
       "    }\n",
       "\n",
       "    .dataframe thead th {\n",
       "        text-align: right;\n",
       "    }\n",
       "</style>\n",
       "<table border=\"1\" class=\"dataframe\">\n",
       "  <thead>\n",
       "    <tr style=\"text-align: right;\">\n",
       "      <th></th>\n",
       "      <th>Country</th>\n",
       "      <th>Region_x</th>\n",
       "      <th>Happiness Rank</th>\n",
       "      <th>Happiness Score</th>\n",
       "      <th>Standard Error</th>\n",
       "      <th>Economy (GDP per Capita)</th>\n",
       "      <th>Family</th>\n",
       "      <th>Health (Life Expectancy)</th>\n",
       "      <th>Freedom</th>\n",
       "      <th>Trust (Government Corruption)</th>\n",
       "      <th>Generosity</th>\n",
       "      <th>Dystopia Residual</th>\n",
       "      <th>CountryCode</th>\n",
       "      <th>ShortName</th>\n",
       "      <th>TableName</th>\n",
       "      <th>LongName</th>\n",
       "      <th>Alpha2Code</th>\n",
       "      <th>CurrencyUnit</th>\n",
       "      <th>SpecialNotes</th>\n",
       "      <th>Region_y</th>\n",
       "      <th>IncomeGroup</th>\n",
       "      <th>Wb2Code</th>\n",
       "      <th>NationalAccountsBaseYear</th>\n",
       "      <th>NationalAccountsReferenceYear</th>\n",
       "      <th>SnaPriceValuation</th>\n",
       "      <th>LendingCategory</th>\n",
       "      <th>OtherGroups</th>\n",
       "      <th>SystemOfNationalAccounts</th>\n",
       "      <th>AlternativeConversionFactor</th>\n",
       "      <th>PppSurveyYear</th>\n",
       "      <th>BalanceOfPaymentsManualInUse</th>\n",
       "      <th>ExternalDebtReportingStatus</th>\n",
       "      <th>SystemOfTrade</th>\n",
       "      <th>GovernmentAccountingConcept</th>\n",
       "      <th>ImfDataDisseminationStandard</th>\n",
       "      <th>LatestPopulationCensus</th>\n",
       "      <th>LatestHouseholdSurvey</th>\n",
       "      <th>SourceOfMostRecentIncomeAndExpenditureData</th>\n",
       "      <th>VitalRegistrationComplete</th>\n",
       "      <th>LatestAgriculturalCensus</th>\n",
       "      <th>LatestIndustrialData</th>\n",
       "      <th>LatestTradeData</th>\n",
       "      <th>LatestWaterWithdrawalData</th>\n",
       "    </tr>\n",
       "  </thead>\n",
       "  <tbody>\n",
       "    <tr>\n",
       "      <th>0</th>\n",
       "      <td>Switzerland</td>\n",
       "      <td>Western Europe</td>\n",
       "      <td>1</td>\n",
       "      <td>7.587</td>\n",
       "      <td>0.03411</td>\n",
       "      <td>1.39651</td>\n",
       "      <td>1.34951</td>\n",
       "      <td>0.94143</td>\n",
       "      <td>0.66557</td>\n",
       "      <td>0.41978</td>\n",
       "      <td>0.29678</td>\n",
       "      <td>2.51738</td>\n",
       "      <td>CHE</td>\n",
       "      <td>Switzerland</td>\n",
       "      <td>Switzerland</td>\n",
       "      <td>Switzerland</td>\n",
       "      <td>CH</td>\n",
       "      <td>Swiss franc</td>\n",
       "      <td>NaN</td>\n",
       "      <td>Europe &amp; Central Asia</td>\n",
       "      <td>High income: OECD</td>\n",
       "      <td>CH</td>\n",
       "      <td>Original chained constant price data are resca...</td>\n",
       "      <td>2010</td>\n",
       "      <td>Value added at basic prices (VAB)</td>\n",
       "      <td>NaN</td>\n",
       "      <td>NaN</td>\n",
       "      <td>Country uses the 2008 System of National Accou...</td>\n",
       "      <td>NaN</td>\n",
       "      <td>Rolling</td>\n",
       "      <td>IMF Balance of Payments Manual, 6th edition.</td>\n",
       "      <td>NaN</td>\n",
       "      <td>Special trade system</td>\n",
       "      <td>Consolidated central government</td>\n",
       "      <td>Special Data Dissemination Standard (SDDS)</td>\n",
       "      <td>2010</td>\n",
       "      <td>NaN</td>\n",
       "      <td>Expenditure survey/budget survey (ES/BS), 2004</td>\n",
       "      <td>Yes</td>\n",
       "      <td>2008</td>\n",
       "      <td>2010.0</td>\n",
       "      <td>2013.0</td>\n",
       "      <td>2000.0</td>\n",
       "    </tr>\n",
       "    <tr>\n",
       "      <th>1</th>\n",
       "      <td>Iceland</td>\n",
       "      <td>Western Europe</td>\n",
       "      <td>2</td>\n",
       "      <td>7.561</td>\n",
       "      <td>0.04884</td>\n",
       "      <td>1.30232</td>\n",
       "      <td>1.40223</td>\n",
       "      <td>0.94784</td>\n",
       "      <td>0.62877</td>\n",
       "      <td>0.14145</td>\n",
       "      <td>0.43630</td>\n",
       "      <td>2.70201</td>\n",
       "      <td>ISL</td>\n",
       "      <td>Iceland</td>\n",
       "      <td>Iceland</td>\n",
       "      <td>Republic of Iceland</td>\n",
       "      <td>IS</td>\n",
       "      <td>Iceland krona</td>\n",
       "      <td>NaN</td>\n",
       "      <td>Europe &amp; Central Asia</td>\n",
       "      <td>High income: OECD</td>\n",
       "      <td>IS</td>\n",
       "      <td>Original chained constant price data are resca...</td>\n",
       "      <td>2010</td>\n",
       "      <td>Value added at basic prices (VAB)</td>\n",
       "      <td>NaN</td>\n",
       "      <td>NaN</td>\n",
       "      <td>Country uses the 2008 System of National Accou...</td>\n",
       "      <td>NaN</td>\n",
       "      <td>Rolling</td>\n",
       "      <td>IMF Balance of Payments Manual, 6th edition.</td>\n",
       "      <td>NaN</td>\n",
       "      <td>General trade system</td>\n",
       "      <td>Consolidated central government</td>\n",
       "      <td>Special Data Dissemination Standard (SDDS)</td>\n",
       "      <td>2011</td>\n",
       "      <td>NaN</td>\n",
       "      <td>Integrated household survey (IHS), 2010</td>\n",
       "      <td>Yes</td>\n",
       "      <td>2010</td>\n",
       "      <td>2005.0</td>\n",
       "      <td>2013.0</td>\n",
       "      <td>2005.0</td>\n",
       "    </tr>\n",
       "  </tbody>\n",
       "</table>\n",
       "</div>"
      ],
      "text/plain": [
       "       Country        Region_x  Happiness Rank  Happiness Score  Standard Error  Economy (GDP per Capita)   Family  Health (Life Expectancy)  Freedom  Trust (Government Corruption)  Generosity  Dystopia Residual CountryCode    ShortName    TableName             LongName Alpha2Code   CurrencyUnit SpecialNotes               Region_y        IncomeGroup Wb2Code                           NationalAccountsBaseYear NationalAccountsReferenceYear                  SnaPriceValuation LendingCategory OtherGroups                           SystemOfNationalAccounts AlternativeConversionFactor PppSurveyYear                  BalanceOfPaymentsManualInUse ExternalDebtReportingStatus         SystemOfTrade      GovernmentAccountingConcept                ImfDataDisseminationStandard LatestPopulationCensus LatestHouseholdSurvey      SourceOfMostRecentIncomeAndExpenditureData VitalRegistrationComplete LatestAgriculturalCensus  LatestIndustrialData  LatestTradeData  LatestWaterWithdrawalData\n",
       "0  Switzerland  Western Europe               1            7.587         0.03411                   1.39651  1.34951                   0.94143  0.66557                        0.41978     0.29678            2.51738         CHE  Switzerland  Switzerland          Switzerland         CH    Swiss franc          NaN  Europe & Central Asia  High income: OECD      CH  Original chained constant price data are resca...                          2010  Value added at basic prices (VAB)             NaN         NaN  Country uses the 2008 System of National Accou...                         NaN       Rolling  IMF Balance of Payments Manual, 6th edition.                         NaN  Special trade system  Consolidated central government  Special Data Dissemination Standard (SDDS)                   2010                   NaN  Expenditure survey/budget survey (ES/BS), 2004                       Yes                     2008                2010.0           2013.0                     2000.0\n",
       "1      Iceland  Western Europe               2            7.561         0.04884                   1.30232  1.40223                   0.94784  0.62877                        0.14145     0.43630            2.70201         ISL      Iceland      Iceland  Republic of Iceland         IS  Iceland krona          NaN  Europe & Central Asia  High income: OECD      IS  Original chained constant price data are resca...                          2010  Value added at basic prices (VAB)             NaN         NaN  Country uses the 2008 System of National Accou...                         NaN       Rolling  IMF Balance of Payments Manual, 6th edition.                         NaN  General trade system  Consolidated central government  Special Data Dissemination Standard (SDDS)                   2011                   NaN         Integrated household survey (IHS), 2010                       Yes                     2010                2005.0           2013.0                     2005.0"
      ]
     },
     "execution_count": 6,
     "metadata": {},
     "output_type": "execute_result"
    }
   ],
   "source": [
    "merged = pd.merge(left=happiness2015, right=world_dev, how='left', left_on='Country', right_on='ShortName')\n",
    "merged.head(2)"
   ]
  },
  {
   "cell_type": "code",
   "execution_count": 7,
   "metadata": {},
   "outputs": [],
   "source": [
    "col_renaming = {'SourceOfMostRecentIncomeAndExpenditureData': 'IESurvey'}"
   ]
  },
  {
   "cell_type": "code",
   "execution_count": 8,
   "metadata": {},
   "outputs": [],
   "source": [
    "merged = merged.rename(col_renaming, axis=1)"
   ]
  },
  {
   "cell_type": "markdown",
   "metadata": {},
   "source": [
    "Pandas has built in a number of vectorized methods that perform the same operations for strings in series as Python string methods. Vectorized string methods can be chained. Below I am checking some possibilities(because splitting currency is not for analyse purpose and not for subsequent calculations)"
   ]
  },
  {
   "cell_type": "code",
   "execution_count": 9,
   "metadata": {},
   "outputs": [
    {
     "data": {
      "text/plain": [
       "0    Swiss\n",
       "1    Icela\n",
       "2    Danis\n",
       "3    Norwe\n",
       "4    Canad\n",
       "Name: CurrencyUnit, dtype: object"
      ]
     },
     "execution_count": 9,
     "metadata": {},
     "output_type": "execute_result"
    }
   ],
   "source": [
    "merged['CurrencyUnit'].str[0:5].head()"
   ]
  },
  {
   "cell_type": "markdown",
   "metadata": {},
   "source": [
    "#### Splitting the string"
   ]
  },
  {
   "cell_type": "code",
   "execution_count": 10,
   "metadata": {},
   "outputs": [
    {
     "data": {
      "text/plain": [
       "0        [SWISS, FRANC]\n",
       "1      [ICELAND, KRONA]\n",
       "2       [DANISH, KRONE]\n",
       "3    [NORWEGIAN, KRONE]\n",
       "4    [CANADIAN, DOLLAR]\n",
       "Name: CurrencyUnit, dtype: object"
      ]
     },
     "execution_count": 10,
     "metadata": {},
     "output_type": "execute_result"
    }
   ],
   "source": [
    "merged['CurrencyUnit'].str.upper().str.split().head()"
   ]
  },
  {
   "cell_type": "code",
   "execution_count": 11,
   "metadata": {},
   "outputs": [
    {
     "data": {
      "text/plain": [
       "0     franc\n",
       "1     krona\n",
       "2     krone\n",
       "3     krone\n",
       "4    dollar\n",
       "Name: Currency Vectorized, dtype: object"
      ]
     },
     "execution_count": 11,
     "metadata": {},
     "output_type": "execute_result"
    }
   ],
   "source": [
    "merged['Currency Vectorized'] = merged.CurrencyUnit.str.split().str.get(-1)\n",
    "merged['Currency Vectorized'].head()"
   ]
  },
  {
   "cell_type": "code",
   "execution_count": 12,
   "metadata": {},
   "outputs": [
    {
     "data": {
      "text/plain": [
       "13"
      ]
     },
     "execution_count": 12,
     "metadata": {},
     "output_type": "execute_result"
    }
   ],
   "source": [
    "merged['CurrencyUnit'].isnull().sum()"
   ]
  },
  {
   "cell_type": "code",
   "execution_count": 13,
   "metadata": {},
   "outputs": [
    {
     "data": {
      "text/plain": [
       "0        Swiss franc\n",
       "1      Iceland krona\n",
       "2       Danish krone\n",
       "3    Norwegian krone\n",
       "4    Canadian dollar\n",
       "Name: CurrencyUnit, dtype: object"
      ]
     },
     "execution_count": 13,
     "metadata": {},
     "output_type": "execute_result"
    }
   ],
   "source": [
    "merged['CurrencyUnit'].head()"
   ]
  },
  {
   "cell_type": "markdown",
   "metadata": {},
   "source": [
    "#### Apply fuction "
   ]
  },
  {
   "cell_type": "code",
   "execution_count": 14,
   "metadata": {},
   "outputs": [
    {
     "data": {
      "text/plain": [
       "0    11\n",
       "1    13\n",
       "2    12\n",
       "3    15\n",
       "4    15\n",
       "Name: CurrencyUnit, dtype: int64"
      ]
     },
     "execution_count": 14,
     "metadata": {},
     "output_type": "execute_result"
    }
   ],
   "source": [
    "def compute_lengths(element):\n",
    "    return len(str(element))\n",
    "lengths_apply = merged['CurrencyUnit'].apply(compute_lengths)\n",
    "lengths_apply.head()"
   ]
  },
  {
   "cell_type": "code",
   "execution_count": 15,
   "metadata": {},
   "outputs": [
    {
     "data": {
      "text/plain": [
       "14    21\n",
       "4     20\n",
       "12    17\n",
       "13    14\n",
       "3     13\n",
       "15    13\n",
       "16    12\n",
       "18     9\n",
       "17     9\n",
       "11     8\n",
       "22     7\n",
       "25     5\n",
       "19     3\n",
       "9      2\n",
       "26     1\n",
       "20     1\n",
       "23     1\n",
       "10     1\n",
       "39     1\n",
       "Name: CurrencyUnit, dtype: int64"
      ]
     },
     "execution_count": 15,
     "metadata": {},
     "output_type": "execute_result"
    }
   ],
   "source": [
    "lengths_apply.value_counts(dropna=False)"
   ]
  },
  {
   "cell_type": "code",
   "execution_count": 16,
   "metadata": {},
   "outputs": [
    {
     "data": {
      "text/plain": [
       "14.0    21\n",
       "4.0     20\n",
       "12.0    17\n",
       "13.0    14\n",
       "NaN     13\n",
       "15.0    13\n",
       "16.0    12\n",
       "18.0     9\n",
       "17.0     9\n",
       "11.0     8\n",
       "22.0     7\n",
       "25.0     5\n",
       "19.0     3\n",
       "9.0      2\n",
       "10.0     1\n",
       "39.0     1\n",
       "26.0     1\n",
       "23.0     1\n",
       "20.0     1\n",
       "Name: CurrencyUnit, dtype: int64"
      ]
     },
     "execution_count": 16,
     "metadata": {},
     "output_type": "execute_result"
    }
   ],
   "source": [
    "lengths = merged.CurrencyUnit.str.len()\n",
    "value_counts = lengths.value_counts(dropna=False)\n",
    "value_counts"
   ]
  },
  {
   "cell_type": "markdown",
   "metadata": {},
   "source": [
    "#### Finding pattern in strings"
   ]
  },
  {
   "cell_type": "code",
   "execution_count": 17,
   "metadata": {},
   "outputs": [
    {
     "data": {
      "text/plain": [
       "0    False\n",
       "1    False\n",
       "2    False\n",
       "3    False\n",
       "4     True\n",
       "Name: SpecialNotes, dtype: bool"
      ]
     },
     "execution_count": 17,
     "metadata": {},
     "output_type": "execute_result"
    }
   ],
   "source": [
    "pattern = r\"[Nn]ational accounts\"\n",
    "national_accounts = merged.SpecialNotes.str.contains(pattern,na=False)\n",
    "national_accounts.head()"
   ]
  },
  {
   "cell_type": "code",
   "execution_count": 18,
   "metadata": {},
   "outputs": [
    {
     "data": {
      "text/plain": [
       "False    104\n",
       "True      54\n",
       "Name: SpecialNotes, dtype: int64"
      ]
     },
     "execution_count": 18,
     "metadata": {},
     "output_type": "execute_result"
    }
   ],
   "source": [
    "national_accounts.value_counts(dropna=False)"
   ]
  },
  {
   "cell_type": "markdown",
   "metadata": {},
   "source": [
    "Returning only the rows that contain 'national accounts'"
   ]
  },
  {
   "cell_type": "code",
   "execution_count": 19,
   "metadata": {},
   "outputs": [
    {
     "data": {
      "text/html": [
       "<div>\n",
       "<style scoped>\n",
       "    .dataframe tbody tr th:only-of-type {\n",
       "        vertical-align: middle;\n",
       "    }\n",
       "\n",
       "    .dataframe tbody tr th {\n",
       "        vertical-align: top;\n",
       "    }\n",
       "\n",
       "    .dataframe thead th {\n",
       "        text-align: right;\n",
       "    }\n",
       "</style>\n",
       "<table border=\"1\" class=\"dataframe\">\n",
       "  <thead>\n",
       "    <tr style=\"text-align: right;\">\n",
       "      <th></th>\n",
       "      <th>Country</th>\n",
       "      <th>Region_x</th>\n",
       "      <th>Happiness Rank</th>\n",
       "      <th>Happiness Score</th>\n",
       "      <th>Standard Error</th>\n",
       "      <th>Economy (GDP per Capita)</th>\n",
       "      <th>Family</th>\n",
       "      <th>Health (Life Expectancy)</th>\n",
       "      <th>Freedom</th>\n",
       "      <th>Trust (Government Corruption)</th>\n",
       "      <th>Generosity</th>\n",
       "      <th>Dystopia Residual</th>\n",
       "      <th>CountryCode</th>\n",
       "      <th>ShortName</th>\n",
       "      <th>TableName</th>\n",
       "      <th>LongName</th>\n",
       "      <th>Alpha2Code</th>\n",
       "      <th>CurrencyUnit</th>\n",
       "      <th>SpecialNotes</th>\n",
       "      <th>Region_y</th>\n",
       "      <th>IncomeGroup</th>\n",
       "      <th>Wb2Code</th>\n",
       "      <th>NationalAccountsBaseYear</th>\n",
       "      <th>NationalAccountsReferenceYear</th>\n",
       "      <th>SnaPriceValuation</th>\n",
       "      <th>LendingCategory</th>\n",
       "      <th>OtherGroups</th>\n",
       "      <th>SystemOfNationalAccounts</th>\n",
       "      <th>AlternativeConversionFactor</th>\n",
       "      <th>PppSurveyYear</th>\n",
       "      <th>BalanceOfPaymentsManualInUse</th>\n",
       "      <th>ExternalDebtReportingStatus</th>\n",
       "      <th>SystemOfTrade</th>\n",
       "      <th>GovernmentAccountingConcept</th>\n",
       "      <th>ImfDataDisseminationStandard</th>\n",
       "      <th>LatestPopulationCensus</th>\n",
       "      <th>LatestHouseholdSurvey</th>\n",
       "      <th>IESurvey</th>\n",
       "      <th>VitalRegistrationComplete</th>\n",
       "      <th>LatestAgriculturalCensus</th>\n",
       "      <th>LatestIndustrialData</th>\n",
       "      <th>LatestTradeData</th>\n",
       "      <th>LatestWaterWithdrawalData</th>\n",
       "      <th>Currency Vectorized</th>\n",
       "    </tr>\n",
       "  </thead>\n",
       "  <tbody>\n",
       "    <tr>\n",
       "      <th>4</th>\n",
       "      <td>Canada</td>\n",
       "      <td>North America</td>\n",
       "      <td>5</td>\n",
       "      <td>7.427</td>\n",
       "      <td>0.03553</td>\n",
       "      <td>1.32629</td>\n",
       "      <td>1.32261</td>\n",
       "      <td>0.90563</td>\n",
       "      <td>0.63297</td>\n",
       "      <td>0.32957</td>\n",
       "      <td>0.45811</td>\n",
       "      <td>2.45176</td>\n",
       "      <td>CAN</td>\n",
       "      <td>Canada</td>\n",
       "      <td>Canada</td>\n",
       "      <td>Canada</td>\n",
       "      <td>CA</td>\n",
       "      <td>Canadian dollar</td>\n",
       "      <td>Fiscal year end: March 31; reporting period fo...</td>\n",
       "      <td>North America</td>\n",
       "      <td>High income: OECD</td>\n",
       "      <td>CA</td>\n",
       "      <td>Original chained constant price data are resca...</td>\n",
       "      <td>2010</td>\n",
       "      <td>Value added at basic prices (VAB)</td>\n",
       "      <td>NaN</td>\n",
       "      <td>NaN</td>\n",
       "      <td>Country uses the 2008 System of National Accou...</td>\n",
       "      <td>NaN</td>\n",
       "      <td>2011</td>\n",
       "      <td>IMF Balance of Payments Manual, 6th edition.</td>\n",
       "      <td>NaN</td>\n",
       "      <td>General trade system</td>\n",
       "      <td>Consolidated central government</td>\n",
       "      <td>Special Data Dissemination Standard (SDDS)</td>\n",
       "      <td>2011</td>\n",
       "      <td>NaN</td>\n",
       "      <td>Labor force survey (LFS), 2010</td>\n",
       "      <td>Yes</td>\n",
       "      <td>2011</td>\n",
       "      <td>2011.0</td>\n",
       "      <td>2013.0</td>\n",
       "      <td>1986.0</td>\n",
       "      <td>dollar</td>\n",
       "    </tr>\n",
       "    <tr>\n",
       "      <th>7</th>\n",
       "      <td>Sweden</td>\n",
       "      <td>Western Europe</td>\n",
       "      <td>8</td>\n",
       "      <td>7.364</td>\n",
       "      <td>0.03157</td>\n",
       "      <td>1.33171</td>\n",
       "      <td>1.28907</td>\n",
       "      <td>0.91087</td>\n",
       "      <td>0.65980</td>\n",
       "      <td>0.43844</td>\n",
       "      <td>0.36262</td>\n",
       "      <td>2.37119</td>\n",
       "      <td>SWE</td>\n",
       "      <td>Sweden</td>\n",
       "      <td>Sweden</td>\n",
       "      <td>Kingdom of Sweden</td>\n",
       "      <td>SE</td>\n",
       "      <td>Swedish krona</td>\n",
       "      <td>Fiscal year end: June 30; reporting period for...</td>\n",
       "      <td>Europe &amp; Central Asia</td>\n",
       "      <td>High income: OECD</td>\n",
       "      <td>SE</td>\n",
       "      <td>Original chained constant price data are resca...</td>\n",
       "      <td>2010</td>\n",
       "      <td>Value added at basic prices (VAB)</td>\n",
       "      <td>NaN</td>\n",
       "      <td>NaN</td>\n",
       "      <td>Country uses the 2008 System of National Accou...</td>\n",
       "      <td>NaN</td>\n",
       "      <td>Rolling</td>\n",
       "      <td>IMF Balance of Payments Manual, 6th edition.</td>\n",
       "      <td>NaN</td>\n",
       "      <td>General trade system</td>\n",
       "      <td>Consolidated central government</td>\n",
       "      <td>Special Data Dissemination Standard (SDDS)</td>\n",
       "      <td>2011</td>\n",
       "      <td>NaN</td>\n",
       "      <td>Income survey (IS), 2005</td>\n",
       "      <td>Yes</td>\n",
       "      <td>2010</td>\n",
       "      <td>2010.0</td>\n",
       "      <td>2013.0</td>\n",
       "      <td>2007.0</td>\n",
       "      <td>krona</td>\n",
       "    </tr>\n",
       "  </tbody>\n",
       "</table>\n",
       "</div>"
      ],
      "text/plain": [
       "  Country        Region_x  Happiness Rank  Happiness Score  Standard Error  Economy (GDP per Capita)   Family  Health (Life Expectancy)  Freedom  Trust (Government Corruption)  Generosity  Dystopia Residual CountryCode ShortName TableName           LongName Alpha2Code     CurrencyUnit                                       SpecialNotes               Region_y        IncomeGroup Wb2Code                           NationalAccountsBaseYear NationalAccountsReferenceYear                  SnaPriceValuation LendingCategory OtherGroups                           SystemOfNationalAccounts AlternativeConversionFactor PppSurveyYear                  BalanceOfPaymentsManualInUse ExternalDebtReportingStatus         SystemOfTrade      GovernmentAccountingConcept                ImfDataDisseminationStandard LatestPopulationCensus LatestHouseholdSurvey                        IESurvey VitalRegistrationComplete LatestAgriculturalCensus  LatestIndustrialData  LatestTradeData  LatestWaterWithdrawalData  \\\n",
       "4  Canada   North America               5            7.427         0.03553                   1.32629  1.32261                   0.90563  0.63297                        0.32957     0.45811            2.45176         CAN    Canada    Canada             Canada         CA  Canadian dollar  Fiscal year end: March 31; reporting period fo...          North America  High income: OECD      CA  Original chained constant price data are resca...                          2010  Value added at basic prices (VAB)             NaN         NaN  Country uses the 2008 System of National Accou...                         NaN          2011  IMF Balance of Payments Manual, 6th edition.                         NaN  General trade system  Consolidated central government  Special Data Dissemination Standard (SDDS)                   2011                   NaN  Labor force survey (LFS), 2010                       Yes                     2011                2011.0           2013.0                     1986.0   \n",
       "7  Sweden  Western Europe               8            7.364         0.03157                   1.33171  1.28907                   0.91087  0.65980                        0.43844     0.36262            2.37119         SWE    Sweden    Sweden  Kingdom of Sweden         SE    Swedish krona  Fiscal year end: June 30; reporting period for...  Europe & Central Asia  High income: OECD      SE  Original chained constant price data are resca...                          2010  Value added at basic prices (VAB)             NaN         NaN  Country uses the 2008 System of National Accou...                         NaN       Rolling  IMF Balance of Payments Manual, 6th edition.                         NaN  General trade system  Consolidated central government  Special Data Dissemination Standard (SDDS)                   2011                   NaN        Income survey (IS), 2005                       Yes                     2010                2010.0           2013.0                     2007.0   \n",
       "\n",
       "  Currency Vectorized  \n",
       "4              dollar  \n",
       "7               krona  "
      ]
     },
     "execution_count": 19,
     "metadata": {},
     "output_type": "execute_result"
    }
   ],
   "source": [
    "merged[national_accounts].head(2)"
   ]
  },
  {
   "cell_type": "code",
   "execution_count": 20,
   "metadata": {},
   "outputs": [],
   "source": [
    "pattern =r\"([1-2][0-9][0-9][0-9])\"\n",
    "# pattern = r\"([1-2][0-9]{3})\"\n",
    "\n",
    "years = merged.SpecialNotes.str.extract(pattern)"
   ]
  },
  {
   "cell_type": "code",
   "execution_count": 21,
   "metadata": {},
   "outputs": [
    {
     "data": {
      "text/plain": [
       "2010    14\n",
       "1999    13\n",
       "2013     8\n",
       "2009     6\n",
       "2005     5\n",
       "Name: 0, dtype: int64"
      ]
     },
     "execution_count": 21,
     "metadata": {},
     "output_type": "execute_result"
    }
   ],
   "source": [
    "years[0].value_counts().head()"
   ]
  },
  {
   "cell_type": "markdown",
   "metadata": {},
   "source": [
    "Setting index to Country to make the results readable after filtering with regular expression."
   ]
  },
  {
   "cell_type": "code",
   "execution_count": 22,
   "metadata": {},
   "outputs": [],
   "source": [
    "merged = merged.set_index('Country')"
   ]
  },
  {
   "cell_type": "code",
   "execution_count": 23,
   "metadata": {},
   "outputs": [
    {
     "data": {
      "text/html": [
       "<div>\n",
       "<style scoped>\n",
       "    .dataframe tbody tr th:only-of-type {\n",
       "        vertical-align: middle;\n",
       "    }\n",
       "\n",
       "    .dataframe tbody tr th {\n",
       "        vertical-align: top;\n",
       "    }\n",
       "\n",
       "    .dataframe thead th {\n",
       "        text-align: right;\n",
       "    }\n",
       "</style>\n",
       "<table border=\"1\" class=\"dataframe\">\n",
       "  <thead>\n",
       "    <tr style=\"text-align: right;\">\n",
       "      <th></th>\n",
       "      <th></th>\n",
       "      <th>Years</th>\n",
       "    </tr>\n",
       "    <tr>\n",
       "      <th>Country</th>\n",
       "      <th>match</th>\n",
       "      <th></th>\n",
       "    </tr>\n",
       "  </thead>\n",
       "  <tbody>\n",
       "    <tr>\n",
       "      <th rowspan=\"2\" valign=\"top\">Finland</th>\n",
       "      <th>0</th>\n",
       "      <td>1999</td>\n",
       "    </tr>\n",
       "    <tr>\n",
       "      <th>1</th>\n",
       "      <td>1999</td>\n",
       "    </tr>\n",
       "    <tr>\n",
       "      <th rowspan=\"3\" valign=\"top\">Netherlands</th>\n",
       "      <th>0</th>\n",
       "      <td>1999</td>\n",
       "    </tr>\n",
       "    <tr>\n",
       "      <th>1</th>\n",
       "      <td>2037</td>\n",
       "    </tr>\n",
       "    <tr>\n",
       "      <th>2</th>\n",
       "      <td>1999</td>\n",
       "    </tr>\n",
       "  </tbody>\n",
       "</table>\n",
       "</div>"
      ],
      "text/plain": [
       "                  Years\n",
       "Country     match      \n",
       "Finland     0      1999\n",
       "            1      1999\n",
       "Netherlands 0      1999\n",
       "            1      2037\n",
       "            2      1999"
      ]
     },
     "execution_count": 23,
     "metadata": {},
     "output_type": "execute_result"
    }
   ],
   "source": [
    "pattern = r\"(?P<Years>[1-2][0-9]{3})\"\n",
    "merged['SpecialNotes'].str.extractall(pattern).head()"
   ]
  },
  {
   "cell_type": "code",
   "execution_count": 24,
   "metadata": {},
   "outputs": [
    {
     "data": {
      "text/html": [
       "<div>\n",
       "<style scoped>\n",
       "    .dataframe tbody tr th:only-of-type {\n",
       "        vertical-align: middle;\n",
       "    }\n",
       "\n",
       "    .dataframe tbody tr th {\n",
       "        vertical-align: top;\n",
       "    }\n",
       "\n",
       "    .dataframe thead th {\n",
       "        text-align: right;\n",
       "    }\n",
       "</style>\n",
       "<table border=\"1\" class=\"dataframe\">\n",
       "  <thead>\n",
       "    <tr style=\"text-align: right;\">\n",
       "      <th></th>\n",
       "      <th></th>\n",
       "      <th>Years</th>\n",
       "    </tr>\n",
       "    <tr>\n",
       "      <th>Country</th>\n",
       "      <th>match</th>\n",
       "      <th></th>\n",
       "    </tr>\n",
       "  </thead>\n",
       "  <tbody>\n",
       "    <tr>\n",
       "      <th>Switzerland</th>\n",
       "      <th>0</th>\n",
       "      <td>2004</td>\n",
       "    </tr>\n",
       "    <tr>\n",
       "      <th>Iceland</th>\n",
       "      <th>0</th>\n",
       "      <td>2010</td>\n",
       "    </tr>\n",
       "    <tr>\n",
       "      <th>Denmark</th>\n",
       "      <th>0</th>\n",
       "      <td>2010</td>\n",
       "    </tr>\n",
       "    <tr>\n",
       "      <th>Norway</th>\n",
       "      <th>0</th>\n",
       "      <td>2010</td>\n",
       "    </tr>\n",
       "    <tr>\n",
       "      <th>Canada</th>\n",
       "      <th>0</th>\n",
       "      <td>2010</td>\n",
       "    </tr>\n",
       "  </tbody>\n",
       "</table>\n",
       "</div>"
      ],
      "text/plain": [
       "                  Years\n",
       "Country     match      \n",
       "Switzerland 0      2004\n",
       "Iceland     0      2010\n",
       "Denmark     0      2010\n",
       "Norway      0      2010\n",
       "Canada      0      2010"
      ]
     },
     "execution_count": 24,
     "metadata": {},
     "output_type": "execute_result"
    }
   ],
   "source": [
    "pattern = r\"(?P<Years>[1-2][0-9]{3})\"\n",
    "\n",
    "years = merged.IESurvey.str.extractall(pattern)\n",
    "\n",
    "value_counts = years.Years.value_counts()\n",
    "value_counts\n",
    "years.head()"
   ]
  },
  {
   "cell_type": "code",
   "execution_count": 25,
   "metadata": {},
   "outputs": [
    {
     "data": {
      "text/html": [
       "<div>\n",
       "<style scoped>\n",
       "    .dataframe tbody tr th:only-of-type {\n",
       "        vertical-align: middle;\n",
       "    }\n",
       "\n",
       "    .dataframe tbody tr th {\n",
       "        vertical-align: top;\n",
       "    }\n",
       "\n",
       "    .dataframe thead th {\n",
       "        text-align: right;\n",
       "    }\n",
       "</style>\n",
       "<table border=\"1\" class=\"dataframe\">\n",
       "  <thead>\n",
       "    <tr style=\"text-align: right;\">\n",
       "      <th></th>\n",
       "      <th></th>\n",
       "      <th>First_Year</th>\n",
       "      <th>1</th>\n",
       "      <th>Second_Year</th>\n",
       "    </tr>\n",
       "    <tr>\n",
       "      <th>Country</th>\n",
       "      <th>match</th>\n",
       "      <th></th>\n",
       "      <th></th>\n",
       "      <th></th>\n",
       "    </tr>\n",
       "  </thead>\n",
       "  <tbody>\n",
       "    <tr>\n",
       "      <th>Switzerland</th>\n",
       "      <th>0</th>\n",
       "      <td>2004</td>\n",
       "      <td>NaN</td>\n",
       "      <td>NaN</td>\n",
       "    </tr>\n",
       "    <tr>\n",
       "      <th>Iceland</th>\n",
       "      <th>0</th>\n",
       "      <td>2010</td>\n",
       "      <td>NaN</td>\n",
       "      <td>NaN</td>\n",
       "    </tr>\n",
       "    <tr>\n",
       "      <th>Denmark</th>\n",
       "      <th>0</th>\n",
       "      <td>2010</td>\n",
       "      <td>NaN</td>\n",
       "      <td>NaN</td>\n",
       "    </tr>\n",
       "    <tr>\n",
       "      <th>Norway</th>\n",
       "      <th>0</th>\n",
       "      <td>2010</td>\n",
       "      <td>NaN</td>\n",
       "      <td>NaN</td>\n",
       "    </tr>\n",
       "    <tr>\n",
       "      <th>Canada</th>\n",
       "      <th>0</th>\n",
       "      <td>2010</td>\n",
       "      <td>NaN</td>\n",
       "      <td>NaN</td>\n",
       "    </tr>\n",
       "  </tbody>\n",
       "</table>\n",
       "</div>"
      ],
      "text/plain": [
       "                  First_Year    1 Second_Year\n",
       "Country     match                            \n",
       "Switzerland 0           2004  NaN         NaN\n",
       "Iceland     0           2010  NaN         NaN\n",
       "Denmark     0           2010  NaN         NaN\n",
       "Norway      0           2010  NaN         NaN\n",
       "Canada      0           2010  NaN         NaN"
      ]
     },
     "execution_count": 25,
     "metadata": {},
     "output_type": "execute_result"
    }
   ],
   "source": [
    "pattern = r\"(?P<First_Year>[1-2][0-9]{3})(/)?(?P<Second_Year>[0-9]{2})?\"\n",
    "years = merged['IESurvey'].str.extractall(pattern)\n",
    "years.head()"
   ]
  },
  {
   "cell_type": "code",
   "execution_count": 26,
   "metadata": {},
   "outputs": [
    {
     "data": {
      "text/html": [
       "<div>\n",
       "<style scoped>\n",
       "    .dataframe tbody tr th:only-of-type {\n",
       "        vertical-align: middle;\n",
       "    }\n",
       "\n",
       "    .dataframe tbody tr th {\n",
       "        vertical-align: top;\n",
       "    }\n",
       "\n",
       "    .dataframe thead th {\n",
       "        text-align: right;\n",
       "    }\n",
       "</style>\n",
       "<table border=\"1\" class=\"dataframe\">\n",
       "  <thead>\n",
       "    <tr style=\"text-align: right;\">\n",
       "      <th></th>\n",
       "      <th></th>\n",
       "      <th>First_Year</th>\n",
       "      <th>1</th>\n",
       "      <th>Second_Year</th>\n",
       "    </tr>\n",
       "    <tr>\n",
       "      <th>Country</th>\n",
       "      <th>match</th>\n",
       "      <th></th>\n",
       "      <th></th>\n",
       "      <th></th>\n",
       "    </tr>\n",
       "  </thead>\n",
       "  <tbody>\n",
       "    <tr>\n",
       "      <th>Azerbaijan</th>\n",
       "      <th>0</th>\n",
       "      <td>2011</td>\n",
       "      <td>/</td>\n",
       "      <td>12</td>\n",
       "    </tr>\n",
       "    <tr>\n",
       "      <th>Pakistan</th>\n",
       "      <th>0</th>\n",
       "      <td>2010</td>\n",
       "      <td>/</td>\n",
       "      <td>11</td>\n",
       "    </tr>\n",
       "  </tbody>\n",
       "</table>\n",
       "</div>"
      ],
      "text/plain": [
       "                 First_Year  1 Second_Year\n",
       "Country    match                          \n",
       "Azerbaijan 0           2011  /          12\n",
       "Pakistan   0           2010  /          11"
      ]
     },
     "execution_count": 26,
     "metadata": {},
     "output_type": "execute_result"
    }
   ],
   "source": [
    "years.loc[['Azerbaijan', 'Pakistan']]"
   ]
  },
  {
   "cell_type": "code",
   "execution_count": 27,
   "metadata": {},
   "outputs": [
    {
     "data": {
      "text/html": [
       "<div>\n",
       "<style scoped>\n",
       "    .dataframe tbody tr th:only-of-type {\n",
       "        vertical-align: middle;\n",
       "    }\n",
       "\n",
       "    .dataframe tbody tr th {\n",
       "        vertical-align: top;\n",
       "    }\n",
       "\n",
       "    .dataframe thead th {\n",
       "        text-align: right;\n",
       "    }\n",
       "</style>\n",
       "<table border=\"1\" class=\"dataframe\">\n",
       "  <thead>\n",
       "    <tr style=\"text-align: right;\">\n",
       "      <th></th>\n",
       "      <th></th>\n",
       "      <th>First_Year</th>\n",
       "      <th>1</th>\n",
       "      <th>Second_Year</th>\n",
       "    </tr>\n",
       "    <tr>\n",
       "      <th>Country</th>\n",
       "      <th>match</th>\n",
       "      <th></th>\n",
       "      <th></th>\n",
       "      <th></th>\n",
       "    </tr>\n",
       "  </thead>\n",
       "  <tbody>\n",
       "    <tr>\n",
       "      <th>Switzerland</th>\n",
       "      <th>0</th>\n",
       "      <td>2004</td>\n",
       "      <td>NaN</td>\n",
       "      <td>NaN</td>\n",
       "    </tr>\n",
       "    <tr>\n",
       "      <th>Iceland</th>\n",
       "      <th>0</th>\n",
       "      <td>2010</td>\n",
       "      <td>NaN</td>\n",
       "      <td>NaN</td>\n",
       "    </tr>\n",
       "    <tr>\n",
       "      <th>Denmark</th>\n",
       "      <th>0</th>\n",
       "      <td>2010</td>\n",
       "      <td>NaN</td>\n",
       "      <td>NaN</td>\n",
       "    </tr>\n",
       "    <tr>\n",
       "      <th>Norway</th>\n",
       "      <th>0</th>\n",
       "      <td>2010</td>\n",
       "      <td>NaN</td>\n",
       "      <td>NaN</td>\n",
       "    </tr>\n",
       "    <tr>\n",
       "      <th>Canada</th>\n",
       "      <th>0</th>\n",
       "      <td>2010</td>\n",
       "      <td>NaN</td>\n",
       "      <td>NaN</td>\n",
       "    </tr>\n",
       "  </tbody>\n",
       "</table>\n",
       "</div>"
      ],
      "text/plain": [
       "                  First_Year    1 Second_Year\n",
       "Country     match                            \n",
       "Switzerland 0           2004  NaN         NaN\n",
       "Iceland     0           2010  NaN         NaN\n",
       "Denmark     0           2010  NaN         NaN\n",
       "Norway      0           2010  NaN         NaN\n",
       "Canada      0           2010  NaN         NaN"
      ]
     },
     "execution_count": 27,
     "metadata": {},
     "output_type": "execute_result"
    }
   ],
   "source": [
    "first_two_year = years.First_Year.str[0:2]\n",
    "years['Second_Year'] = first_two_year + years['Second_Year']\n",
    "years.head()"
   ]
  },
  {
   "cell_type": "code",
   "execution_count": 33,
   "metadata": {},
   "outputs": [
    {
     "data": {
      "text/html": [
       "<div>\n",
       "<style scoped>\n",
       "    .dataframe tbody tr th:only-of-type {\n",
       "        vertical-align: middle;\n",
       "    }\n",
       "\n",
       "    .dataframe tbody tr th {\n",
       "        vertical-align: top;\n",
       "    }\n",
       "\n",
       "    .dataframe thead th {\n",
       "        text-align: right;\n",
       "    }\n",
       "</style>\n",
       "<table border=\"1\" class=\"dataframe\">\n",
       "  <thead>\n",
       "    <tr style=\"text-align: right;\">\n",
       "      <th></th>\n",
       "      <th></th>\n",
       "      <th>First_Year</th>\n",
       "      <th>1</th>\n",
       "      <th>Second_Year</th>\n",
       "    </tr>\n",
       "    <tr>\n",
       "      <th>Country</th>\n",
       "      <th>match</th>\n",
       "      <th></th>\n",
       "      <th></th>\n",
       "      <th></th>\n",
       "    </tr>\n",
       "  </thead>\n",
       "  <tbody>\n",
       "    <tr>\n",
       "      <th>Netherlands</th>\n",
       "      <th>0</th>\n",
       "      <td>2010</td>\n",
       "      <td>NaN</td>\n",
       "      <td>NaN</td>\n",
       "    </tr>\n",
       "    <tr>\n",
       "      <th>Azerbaijan</th>\n",
       "      <th>0</th>\n",
       "      <td>2011</td>\n",
       "      <td>/</td>\n",
       "      <td>2012</td>\n",
       "    </tr>\n",
       "    <tr>\n",
       "      <th>Pakistan</th>\n",
       "      <th>0</th>\n",
       "      <td>2010</td>\n",
       "      <td>/</td>\n",
       "      <td>2011</td>\n",
       "    </tr>\n",
       "  </tbody>\n",
       "</table>\n",
       "</div>"
      ],
      "text/plain": [
       "                  First_Year    1 Second_Year\n",
       "Country     match                            \n",
       "Netherlands 0           2010  NaN         NaN\n",
       "Azerbaijan  0           2011    /        2012\n",
       "Pakistan    0           2010    /        2011"
      ]
     },
     "execution_count": 33,
     "metadata": {},
     "output_type": "execute_result"
    }
   ],
   "source": [
    "years.loc[['Azerbaijan', 'Pakistan', 'Netherlands']]"
   ]
  },
  {
   "cell_type": "markdown",
   "metadata": {},
   "source": [
    "#### Finding mean of Happiness Score that base on IncomeGroup"
   ]
  },
  {
   "cell_type": "code",
   "execution_count": 34,
   "metadata": {},
   "outputs": [
    {
     "data": {
      "text/html": [
       "<div>\n",
       "<style scoped>\n",
       "    .dataframe tbody tr th:only-of-type {\n",
       "        vertical-align: middle;\n",
       "    }\n",
       "\n",
       "    .dataframe tbody tr th {\n",
       "        vertical-align: top;\n",
       "    }\n",
       "\n",
       "    .dataframe thead th {\n",
       "        text-align: right;\n",
       "    }\n",
       "</style>\n",
       "<table border=\"1\" class=\"dataframe\">\n",
       "  <thead>\n",
       "    <tr style=\"text-align: right;\">\n",
       "      <th></th>\n",
       "      <th>Happiness Score</th>\n",
       "    </tr>\n",
       "    <tr>\n",
       "      <th>IncomeGroup</th>\n",
       "      <th></th>\n",
       "    </tr>\n",
       "  </thead>\n",
       "  <tbody>\n",
       "    <tr>\n",
       "      <th>HIGH NONOECD</th>\n",
       "      <td>6.250765</td>\n",
       "    </tr>\n",
       "    <tr>\n",
       "      <th>HIGH OECD</th>\n",
       "      <td>6.674000</td>\n",
       "    </tr>\n",
       "    <tr>\n",
       "      <th>LOW</th>\n",
       "      <td>3.925625</td>\n",
       "    </tr>\n",
       "    <tr>\n",
       "      <th>LOWER MIDDLE</th>\n",
       "      <td>4.927971</td>\n",
       "    </tr>\n",
       "    <tr>\n",
       "      <th>UPPER MIDDLE</th>\n",
       "      <td>5.426718</td>\n",
       "    </tr>\n",
       "  </tbody>\n",
       "</table>\n",
       "</div>"
      ],
      "text/plain": [
       "              Happiness Score\n",
       "IncomeGroup                  \n",
       "HIGH NONOECD         6.250765\n",
       "HIGH OECD            6.674000\n",
       "LOW                  3.925625\n",
       "LOWER MIDDLE         4.927971\n",
       "UPPER MIDDLE         5.426718"
      ]
     },
     "execution_count": 34,
     "metadata": {},
     "output_type": "execute_result"
    }
   ],
   "source": [
    "pv_incomes = merged.pivot_table(values='Happiness Score', index='IncomeGroup')\n",
    "pv_incomes"
   ]
  },
  {
   "cell_type": "markdown",
   "metadata": {},
   "source": [
    "#### Plotting the result of the dependencof the Income Group on the lvl of Happiness Score"
   ]
  },
  {
   "cell_type": "code",
   "execution_count": 30,
   "metadata": {},
   "outputs": [
    {
     "data": {
      "text/plain": [
       "<matplotlib.axes._subplots.AxesSubplot at 0x90aa6a0>"
      ]
     },
     "execution_count": 30,
     "metadata": {},
     "output_type": "execute_result"
    },
    {
     "data": {
      "image/png": "[encoded data removed]",
      "text/plain": [
       "<Figure size 432x288 with 1 Axes>"
      ]
     },
     "metadata": {
      "needs_background": "light"
     },
     "output_type": "display_data"
    }
   ],
   "source": [
    "pv_incomes.plot(kind='bar', rot=30, ylim=(0,10))"
   ]
  },
  {
   "cell_type": "markdown",
   "metadata": {},
   "source": [
    "#### Small fixes for the plot"
   ]
  },
  {
   "cell_type": "code",
   "execution_count": 31,
   "metadata": {},
   "outputs": [
    {
     "data": {
      "image/png": "[encoded data removed]",
      "text/plain": [
       "<Figure size 432x288 with 1 Axes>"
      ]
     },
     "metadata": {
      "needs_background": "light"
     },
     "output_type": "display_data"
    }
   ],
   "source": [
    "merged['IncomeGroup'] = merged['IncomeGroup'].str.replace(' income', '').str.replace(':', '').str.upper()\n",
    "pv_incomes = merged.pivot_table(values='Happiness Score', index='IncomeGroup')\n",
    "pv_incomes.plot(kind='bar', rot=30, ylim=(0,10))\n",
    "plt.show()"
   ]
  }
 ],
 "metadata": {
  "kernelspec": {
   "display_name": "Python 3",
   "language": "python",
   "name": "python3"
  },
  "language_info": {
   "codemirror_mode": {
    "name": "ipython",
    "version": 3
   },
   "file_extension": ".py",
   "mimetype": "text/x-python",
   "name": "python",
   "nbconvert_exporter": "python",
   "pygments_lexer": "ipython3",
   "version": "3.7.1"
  }
 },
 "nbformat": 4,
 "nbformat_minor": 4
}
