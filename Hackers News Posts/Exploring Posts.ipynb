{
 "cells": [
  {
   "cell_type": "code",
   "execution_count": 116,
   "metadata": {},
   "outputs": [],
   "source": [
    "import csv\n",
    "import datetime as dt"
   ]
  },
  {
   "cell_type": "markdown",
   "metadata": {},
   "source": [
    "This project got no panda, numpy and other libraries for a specific purpose."
   ]
  },
  {
   "cell_type": "markdown",
   "metadata": {},
   "source": [
    "In this project I'll be working on data from site ['Hacker News'](https://news.ycombinator.com/). I am taking the data from Kaggle from [this project](https://www.kaggle.com/hacker-news/hacker-news-posts). The dataset gotabout 300 000 rows."
   ]
  },
  {
   "cell_type": "markdown",
   "metadata": {},
   "source": [
    "|coumn|description|\n",
    "|-----|-----|\n",
    "|id|id from Hacker News|\n",
    "|title|title of the post|\n",
    "|url|rul that the post link to|\n",
    "|num_points|number of point acquired|\n",
    "|num_comment|number of comment|\n",
    "|author|username of the author|\n",
    "|created_at|date and time the post was created|"
   ]
  },
  {
   "cell_type": "markdown",
   "metadata": {},
   "source": [
    "Some of the posts can begin with 'Ask HN' what mean that this is a question that somebody asked the Hacker News community. Some other begin with 'Show NH' - this is when users want to show some project,product or something interesting. Below are some examples of the data:"
   ]
  },
  {
   "cell_type": "code",
   "execution_count": 137,
   "metadata": {},
   "outputs": [
    {
     "data": {
      "text/plain": [
       "[['id', 'title', 'url', 'num_points', 'num_comments', 'author', 'created_at'],\n",
       " ['12579008',\n",
       "  'You have two days to comment if you want stem cells to be classified as your own',\n",
       "  'http://www.regulations.gov/document?D=FDA-2015-D-3719-0018',\n",
       "  '1',\n",
       "  '0',\n",
       "  'altstar',\n",
       "  '9/26/2016 3:26'],\n",
       " ['12579005',\n",
       "  'SQLAR  the SQLite Archiver',\n",
       "  'https://www.sqlite.org/sqlar/doc/trunk/README.md',\n",
       "  '1',\n",
       "  '0',\n",
       "  'blacksqr',\n",
       "  '9/26/2016 3:24'],\n",
       " ['12578997',\n",
       "  'What if we just printed a flatscreen television on the side of our boxes?',\n",
       "  'https://medium.com/vanmoof/our-secrets-out-f21c1f03fdc8#.ietxmez43',\n",
       "  '1',\n",
       "  '0',\n",
       "  'pavel_lishin',\n",
       "  '9/26/2016 3:19']]"
      ]
     },
     "execution_count": 137,
     "metadata": {},
     "output_type": "execute_result"
    }
   ],
   "source": [
    "f = open('hackers_news.csv', encoding='UTF-8')\n",
    "hn = list(csv.reader(f))\n",
    "hn[:4]"
   ]
  },
  {
   "cell_type": "markdown",
   "metadata": {},
   "source": [
    "### Splitting the array into header and the data"
   ]
  },
  {
   "cell_type": "code",
   "execution_count": 118,
   "metadata": {},
   "outputs": [],
   "source": [
    "header = hn[0]\n",
    "data = hn[1:]"
   ]
  },
  {
   "cell_type": "code",
   "execution_count": 119,
   "metadata": {},
   "outputs": [
    {
     "data": {
      "text/plain": [
       "['id', 'title', 'url', 'num_points', 'num_comments', 'author', 'created_at']"
      ]
     },
     "execution_count": 119,
     "metadata": {},
     "output_type": "execute_result"
    }
   ],
   "source": [
    "header"
   ]
  },
  {
   "cell_type": "code",
   "execution_count": 126,
   "metadata": {},
   "outputs": [
    {
     "data": {
      "text/plain": [
       "293119"
      ]
     },
     "execution_count": 126,
     "metadata": {},
     "output_type": "execute_result"
    }
   ],
   "source": [
    "len(data)"
   ]
  },
  {
   "cell_type": "code",
   "execution_count": 120,
   "metadata": {},
   "outputs": [
    {
     "data": {
      "text/plain": [
       "['12579008',\n",
       " 'You have two days to comment if you want stem cells to be classified as your own',\n",
       " 'http://www.regulations.gov/document?D=FDA-2015-D-3719-0018',\n",
       " '1',\n",
       " '0',\n",
       " 'altstar',\n",
       " '9/26/2016 3:26']"
      ]
     },
     "execution_count": 120,
     "metadata": {},
     "output_type": "execute_result"
    }
   ],
   "source": [
    "data[0]"
   ]
  },
  {
   "cell_type": "markdown",
   "metadata": {},
   "source": [
    "This is where I categorize the data for the posts with 'ash hn' and 'show hn' or without. The second subdivision is based on existing comments."
   ]
  },
  {
   "cell_type": "code",
   "execution_count": 130,
   "metadata": {},
   "outputs": [
    {
     "name": "stdout",
     "output_type": "stream",
     "text": [
      "There is 6918 posts with 'ask nh' and comment\n",
      "There is 5068 posts with 'show nh' and comment\n",
      "There is 68415 posts with neither ask no show and comment\n",
      "\n",
      "\n",
      "There is 9147 posts with 'ask nh'\n",
      "There is 10170 posts with 'show nh'\n",
      "There is 273802 posts with neither ask no show\n"
     ]
    }
   ],
   "source": [
    "ask_hn_comm = []\n",
    "show_hn_comm = []\n",
    "other_comm = []\n",
    "ask_hn = []\n",
    "show_hn = []\n",
    "other = []\n",
    "\n",
    "\n",
    "for row in data:\n",
    "    title = row[1].lower()\n",
    "    if int(row[4]) > 0:\n",
    "        if 'ask hn' in title:\n",
    "            ask_hn_comm.append(row)\n",
    "        elif 'show hn' in title:\n",
    "            show_hn_comm.append(row)\n",
    "        else:\n",
    "            other_comm.append(row)  \n",
    "            \n",
    "    if 'ask hn' in title:\n",
    "        ask_hn.append(row)\n",
    "    elif 'show hn' in title:\n",
    "        show_hn.append(row)\n",
    "    else:\n",
    "        other.append(row)\n",
    "        \n",
    "            \n",
    "print('There is '+ str(len(ask_hn_comm)) + ' posts with \\'ask nh\\' and comment')\n",
    "print('There is '+ str(len(show_hn_comm)) + ' posts with \\'show nh\\' and comment')\n",
    "print('There is '+ str(len(other_comm)) + ' posts with neither ask no show and comment')\n",
    "print('\\n')\n",
    "print('There is '+ str(len(ask_hn)) + ' posts with \\'ask nh\\'')\n",
    "print('There is '+ str(len(show_hn)) + ' posts with \\'show nh\\'')\n",
    "print('There is '+ str(len(other)) + ' posts with neither ask no show')"
   ]
  },
  {
   "cell_type": "markdown",
   "metadata": {},
   "source": [
    "### Counting the Average Number Of Comments for each part"
   ]
  },
  {
   "cell_type": "code",
   "execution_count": 131,
   "metadata": {},
   "outputs": [],
   "source": [
    "def count_average(data):\n",
    "    i = 0\n",
    "    for row in data:\n",
    "        i += int(row[4])\n",
    "    average = i/len(data)\n",
    "    return average"
   ]
  },
  {
   "cell_type": "code",
   "execution_count": 132,
   "metadata": {},
   "outputs": [
    {
     "name": "stdout",
     "output_type": "stream",
     "text": [
      "The average count of comments for all ask submissions: 10.39\n",
      "The average count of comments for all show submissions: 4.89\n",
      "The average count of comments for all other submissions: 6.46\n",
      "The average count of comments for ask submissions with comments: 13.73\n",
      "The average count of comments for show submissions with comments: 9.8\n",
      "The average count of comments for other submissions with comments: 25.84\n"
     ]
    }
   ],
   "source": [
    "average_ask = count_average(ask_hn)\n",
    "average_show = count_average(show_hn)\n",
    "average_other = count_average(other)\n",
    "average_ask_hn_comm = count_average(ask_hn_comm)\n",
    "average_show_hn_comm = count_average(show_hn_comm)\n",
    "average_other_comm = count_average(other_comm)\n",
    "\n",
    "print('The average count of comments for all ask submissions: ' + str(round(average_ask,2)))\n",
    "print('The average count of comments for all show submissions: ' + str(round(average_show,2)))\n",
    "print('The average count of comments for all other submissions: ' + str(round(average_other,2)))\n",
    "print('The average count of comments for ask submissions with comments: ' + str(round(average_ask_hn_comm,2)))\n",
    "print('The average count of comments for show submissions with comments: ' + str(round(average_show_hn_comm,2)))\n",
    "print('The average count of comments for other submissions with comments: ' + str(round(average_other_comm,2)))"
   ]
  },
  {
   "cell_type": "markdown",
   "metadata": {},
   "source": [
    "### How many Posts each category was created per hour"
   ]
  },
  {
   "cell_type": "code",
   "execution_count": 133,
   "metadata": {},
   "outputs": [],
   "source": [
    "def avg_comments_per_hour(data):\n",
    "    list = []\n",
    "\n",
    "    for row in data:\n",
    "        list.append([row[6], int(row[4])])\n",
    "\n",
    "    comments_by_hour = {}\n",
    "    counts_by_hour = {}\n",
    "    date_format = \"%m/%d/%Y %H:%M\"\n",
    "\n",
    "    for row in list:\n",
    "        date = row[0]\n",
    "        comment = row[1]\n",
    "        time = dt.datetime.strptime(date, date_format).strftime(\"%H\")    \n",
    "        if time in counts_by_hour:\n",
    "            comments_by_hour[time] += comment\n",
    "            counts_by_hour[time] += 1\n",
    "        else:\n",
    "            comments_by_hour[time] = 1\n",
    "            counts_by_hour[time] = 1    \n",
    "    \n",
    "    avg_by_hour = []\n",
    "    for hour in comments_by_hour:\n",
    "        avg_by_hour.append((hour,(comments_by_hour[hour])/counts_by_hour[hour]))\n",
    "    return avg_by_hour"
   ]
  },
  {
   "cell_type": "code",
   "execution_count": 134,
   "metadata": {},
   "outputs": [],
   "source": [
    "avg_ask_by_hour = avg_comments_per_hour(ask_hn)\n",
    "avg_show_by_hour = avg_comments_per_hour(show_hn)\n",
    "avg_other_by_hour = avg_comments_per_hour(other)\n",
    "avg_ask_by_hour_comm = avg_comments_per_hour(ask_hn_comm)\n",
    "avg_show_by_hour_comm = avg_comments_per_hour(show_hn_comm)\n",
    "avg_other_by_hour_comm = avg_comments_per_hour(other_comm)"
   ]
  },
  {
   "cell_type": "markdown",
   "metadata": {},
   "source": [
    "### Calculate the average number of comments for submissions by hour"
   ]
  },
  {
   "cell_type": "code",
   "execution_count": 138,
   "metadata": {},
   "outputs": [],
   "source": [
    "def show_top_hour(avg_by_hour, submission_type):\n",
    "    swap_avg_by_hour = []\n",
    "\n",
    "    for row in avg_by_hour:\n",
    "        swap_avg_by_hour.append([row[1], row[0]])\n",
    "\n",
    "    sorted_swap = sorted(swap_avg_by_hour, reverse=True)\n",
    "    print('\\n' + 'Top 5 Hours for \\'' + submission_type)\n",
    "    for avg, hr in sorted_swap[:5]:\n",
    "        print(\n",
    "            \"{}: {:.2f} average comments per post\".format(\n",
    "                dt.datetime.strptime(hr, \"%H\").strftime(\"%H:%M\"),avg\n",
    "            )\n",
    "        )"
   ]
  },
  {
   "cell_type": "code",
   "execution_count": 139,
   "metadata": {},
   "outputs": [
    {
     "name": "stdout",
     "output_type": "stream",
     "text": [
      "\n",
      "Top 5 Hours for 'ASK HN\n",
      "15:00: 28.64 average comments per post\n",
      "13:00: 16.32 average comments per post\n",
      "12:00: 12.37 average comments per post\n",
      "02:00: 11.12 average comments per post\n",
      "10:00: 10.69 average comments per post\n",
      "\n",
      "Top 5 Hours for 'SHOW HN\n",
      "12:00: 7.00 average comments per post\n",
      "07:00: 6.69 average comments per post\n",
      "11:00: 5.99 average comments per post\n",
      "08:00: 5.61 average comments per post\n",
      "14:00: 5.52 average comments per post\n",
      "\n",
      "Top 5 Hours for 'OTHER\n",
      "12:00: 7.59 average comments per post\n",
      "11:00: 7.38 average comments per post\n",
      "02:00: 7.18 average comments per post\n",
      "13:00: 7.15 average comments per post\n",
      "05:00: 6.79 average comments per post\n",
      "\n",
      "Top 5 Hours for 'ASK HN with comments\n",
      "15:00: 39.56 average comments per post\n",
      "13:00: 22.22 average comments per post\n",
      "12:00: 15.43 average comments per post\n",
      "10:00: 13.74 average comments per post\n",
      "17:00: 13.73 average comments per post\n",
      "\n",
      "Top 5 Hours for 'Show HN with comments\n",
      "07:00: 12.39 average comments per post\n",
      "12:00: 12.03 average comments per post\n",
      "14:00: 11.60 average comments per post\n",
      "08:00: 11.06 average comments per post\n",
      "04:00: 10.87 average comments per post\n",
      "\n",
      "Top 5 Hours for 'Other with comments\n",
      "13:00: 29.37 average comments per post\n",
      "12:00: 29.20 average comments per post\n",
      "14:00: 28.08 average comments per post\n",
      "15:00: 27.96 average comments per post\n",
      "11:00: 27.15 average comments per post\n"
     ]
    }
   ],
   "source": [
    "show_top_hour(avg_ask_by_hour, 'ASK HN')\n",
    "show_top_hour(avg_show_by_hour, 'SHOW HN')\n",
    "show_top_hour(avg_other_by_hour, 'OTHER')\n",
    "show_top_hour(avg_ask_by_hour_comm, 'ASK HN with comments')\n",
    "show_top_hour(avg_show_by_hour_comm, 'Show HN with comments')\n",
    "show_top_hour(avg_other_by_hour_comm, 'Other with comments')"
   ]
  },
  {
   "cell_type": "markdown",
   "metadata": {},
   "source": [
    "The data show that most intense time for ASK NH posts is between 12 and 15. First set of data with average almost 29 takes into account all the data with 'ask NH' phrase, but the second listing got calculations based only on posts that have at least one comment. Then the average is almost 25% higher. It shows that 15 is the hour that people like to answer the question the most.\n",
    "\n",
    "The best hours for showing some interesting things on HN are just before 7 in the morning, because people respond to posts a lot at 7 and 8 a.m., probably at the beginning of the workday and the second good time is around a lunch time 12 and 14.\n",
    "\n",
    "The important thing I see in this data is the difference betweern average in comments for 'other' category. For all data the maximum average is about 7 and for specified data it is almost 30. It shows that there is a lot posts without any comments. For the ask and show categories the difference isnt't that big. It means that people are more willing to answer posts with 'ask' or 'show' catagory or that this kind of posts are better prepared/ with more interesting content.\n"
   ]
  }
 ],
 "metadata": {
  "kernelspec": {
   "display_name": "Python 3",
   "language": "python",
   "name": "python3"
  },
  "language_info": {
   "codemirror_mode": {
    "name": "ipython",
    "version": 3
   },
   "file_extension": ".py",
   "mimetype": "text/x-python",
   "name": "python",
   "nbconvert_exporter": "python",
   "pygments_lexer": "ipython3",
   "version": "3.7.1"
  }
 },
 "nbformat": 4,
 "nbformat_minor": 4
}
